{
  "nbformat": 4,
  "nbformat_minor": 0,
  "metadata": {
    "colab": {
      "provenance": [],
      "toc_visible": true,
      "authorship_tag": "ABX9TyNRyQofuo6ZtNPRZryCZW+A",
      "include_colab_link": true
    },
    "kernelspec": {
      "name": "python3",
      "display_name": "Python 3"
    },
    "language_info": {
      "name": "python"
    }
  },
  "cells": [
    {
      "cell_type": "markdown",
      "metadata": {
        "id": "view-in-github",
        "colab_type": "text"
      },
      "source": [
        "<a href=\"https://colab.research.google.com/github/Strugoeden121/DataScience236006-Final/blob/main/236003_Final_Project_Code.ipynb\" target=\"_parent\"><img src=\"https://colab.research.google.com/assets/colab-badge.svg\" alt=\"Open In Colab\"/></a>"
      ]
    },
    {
      "cell_type": "code",
      "execution_count": 29,
      "metadata": {
        "id": "ekXuP0FTBD-4"
      },
      "outputs": [],
      "source": [
        "#Imports\n",
        "import pandas as pd\n",
        "import seaborn as sns\n",
        "import matplotlib.pyplot as plt\n",
        "from itertools import combinations"
      ]
    },
    {
      "cell_type": "code",
      "source": [
        "# Load the Adult Income dataset (replace with actual file path if needed)\n",
        "url = \"https://archive.ics.uci.edu/ml/machine-learning-databases/adult/adult.data\"\n",
        "columns_for_underepresented = ['age-binned', 'workclass', 'education', 'marital-status',\n",
        "           'occupation', 'relationship', 'race', 'sex', 'continent']\n",
        "\n",
        "columns = ['age', 'workclass', 'fnlwgt', 'education', 'education-num', 'marital-status',\n",
        "           'occupation', 'relationship', 'race', 'sex', 'capital-gain', 'capital-loss',\n",
        "           'hours-per-week', 'native-country', 'income']\n",
        "\n",
        "\n",
        "# Load the dataset into a DataFrame\n",
        "df = pd.read_csv(url, names=columns, na_values=' ?', skipinitialspace=True)\n",
        "\n",
        "# Drop rows with missing values\n",
        "df = df.dropna()"
      ],
      "metadata": {
        "id": "dx9hD0bkBUnZ"
      },
      "execution_count": 30,
      "outputs": []
    },
    {
      "cell_type": "code",
      "source": [
        "#binning\n",
        "# Step 1: Binning the 'age' column into decades\n",
        "df['age-binned'] = pd.cut(df['age'], bins=[0, 20, 30, 40, 50, 60, 70, 80, 100],\n",
        "                          labels=['0-20', '21-30', '31-40', '41-50', '51-60', '61-70', '71-80', '81-100'])\n",
        "\n",
        "# Step 2: Mapping 'native-country' to continents\n",
        "def map_country_to_continent(country):\n",
        "    continent_map = {\n",
        "        'North America': ['United-States', 'Canada', 'Mexico','Outlying-US(Guam-USVI-etc)',],\n",
        "        'Central America': [ 'Puerto-Rico', 'Honduras', 'Cuba', 'Dominican-Republic', 'Jamaica', 'El-Salvador', 'Haiti', 'Trinadad&Tobago'],\n",
        "        'Asia': ['China', 'India', 'Japan', 'Philippines', 'Vietnam', 'South'],\n",
        "        'Europe': ['England', 'Germany', 'Italy', 'Poland', 'Portugal', 'France', 'Greece', 'Ireland'],\n",
        "        'South America': ['Columbia', 'Ecuador', 'Peru'],\n",
        "        'Africa': ['South-Africa', 'Egypt'],\n",
        "\n",
        "    }\n",
        "\n",
        "    for continent, countries in continent_map.items():\n",
        "        if country in countries:\n",
        "            return continent\n",
        "    return 'Other'\n",
        "\n",
        "df['continent'] = df['native-country'].apply(map_country_to_continent)"
      ],
      "metadata": {
        "id": "cjUaioXvFY32"
      },
      "execution_count": null,
      "outputs": []
    },
    {
      "cell_type": "code",
      "source": [
        "# Function to calculate the proportion of each group in the dataset based on a variable threshold\n",
        "def calculate_group_proportions(df, columns, threshold):\n",
        "    proportions = {}\n",
        "    for col in columns:\n",
        "        group_counts = df[col].value_counts(normalize=True)\n",
        "        proportions[col] = group_counts[group_counts < threshold]  # Identify groups under threshold\n",
        "    return proportions\n"
      ],
      "metadata": {
        "id": "YKc2LpCpBUqC"
      },
      "execution_count": null,
      "outputs": []
    },
    {
      "cell_type": "code",
      "source": [
        "# Single-column underrepresented groups with a 10% threshold\n",
        "single_column_underrepresented = calculate_group_proportions(df, columns_for_underepresented, 0.20)\n",
        "\n",
        "# Display single-column underrepresented groups\n",
        "print(\"Single-column underrepresented groups:\")\n",
        "for feature, groups in single_column_underrepresented.items():\n",
        "    if not groups.empty:\n",
        "        print(f\"Feature: {feature}\")\n",
        "        print(groups)\n",
        "        print()\n"
      ],
      "metadata": {
        "colab": {
          "base_uri": "https://localhost:8080/"
        },
        "id": "oOaCVRoVBUsr",
        "outputId": "e6251d73-a1bc-4556-8f03-0cbd84d82241"
      },
      "execution_count": null,
      "outputs": [
        {
          "output_type": "stream",
          "name": "stdout",
          "text": [
            "Single-column underrepresented groups:\n",
            "Feature: age-binned\n",
            "age-binned\n",
            "51-60     0.126777\n",
            "0-20      0.074015\n",
            "61-70     0.055035\n",
            "71-80     0.013544\n",
            "81-100    0.003040\n",
            "Name: proportion, dtype: float64\n",
            "\n",
            "Feature: workclass\n",
            "workclass\n",
            "Self-emp-not-inc    0.078038\n",
            "Local-gov           0.064279\n",
            "?                   0.056386\n",
            "State-gov           0.039864\n",
            "Self-emp-inc        0.034274\n",
            "Federal-gov         0.029483\n",
            "Without-pay         0.000430\n",
            "Never-worked        0.000215\n",
            "Name: proportion, dtype: float64\n",
            "\n",
            "Feature: education\n",
            "education\n",
            "Bachelors      0.164461\n",
            "Masters        0.052916\n",
            "Assoc-voc      0.042443\n",
            "11th           0.036086\n",
            "Assoc-acdm     0.032769\n",
            "10th           0.028654\n",
            "7th-8th        0.019840\n",
            "Prof-school    0.017690\n",
            "9th            0.015786\n",
            "12th           0.013298\n",
            "Doctorate      0.012684\n",
            "5th-6th        0.010227\n",
            "1st-4th        0.005160\n",
            "Preschool      0.001566\n",
            "Name: proportion, dtype: float64\n",
            "\n",
            "Feature: marital-status\n",
            "marital-status\n",
            "Divorced                 0.136452\n",
            "Separated                0.031479\n",
            "Widowed                  0.030497\n",
            "Married-spouse-absent    0.012837\n",
            "Married-AF-spouse        0.000706\n",
            "Name: proportion, dtype: float64\n",
            "\n",
            "Feature: occupation\n",
            "occupation\n",
            "Prof-specialty       0.127146\n",
            "Craft-repair         0.125887\n",
            "Exec-managerial      0.124873\n",
            "Adm-clerical         0.115783\n",
            "Sales                0.112097\n",
            "Other-service        0.101195\n",
            "Machine-op-inspct    0.061485\n",
            "?                    0.056601\n",
            "Transport-moving     0.049046\n",
            "Handlers-cleaners    0.042075\n",
            "Farming-fishing      0.030527\n",
            "Tech-support         0.028500\n",
            "Protective-serv      0.019932\n",
            "Priv-house-serv      0.004576\n",
            "Armed-Forces         0.000276\n",
            "Name: proportion, dtype: float64\n",
            "\n",
            "Feature: relationship\n",
            "relationship\n",
            "Own-child         0.155646\n",
            "Unmarried         0.105832\n",
            "Wife              0.048156\n",
            "Other-relative    0.030128\n",
            "Name: proportion, dtype: float64\n",
            "\n",
            "Feature: race\n",
            "race\n",
            "Black                 0.095943\n",
            "Asian-Pac-Islander    0.031909\n",
            "Amer-Indian-Eskimo    0.009551\n",
            "Other                 0.008323\n",
            "Name: proportion, dtype: float64\n",
            "\n",
            "Feature: continent\n",
            "continent\n",
            "Other              0.027395\n",
            "Asia               0.017874\n",
            "Central America    0.016646\n",
            "Europe             0.014711\n",
            "South America      0.003624\n",
            "Name: proportion, dtype: float64\n",
            "\n"
          ]
        }
      ]
    },
    {
      "cell_type": "code",
      "source": [
        "# Multi-column underrepresented groups with more diverse thresholds\n",
        "def find_joint_underrepresented_groups(df, feature_combinations, threshold):\n",
        "    joint_groups = []\n",
        "    for due in feature_combinations:\n",
        "        grouped = df.groupby(list(due)).size() / len(df)\n",
        "        underrepresented = grouped[grouped < threshold]\n",
        "        if not underrepresented.empty:\n",
        "            joint_groups.append((due, underrepresented))\n",
        "    return joint_groups\n"
      ],
      "metadata": {
        "id": "3X7kj-p5BUve"
      },
      "execution_count": null,
      "outputs": []
    },
    {
      "cell_type": "code",
      "source": [
        "feature_combinations = [combinations(columns_for_underepresented, 2)]  # 2 columns\n",
        "flat_combinations = [item for sublist in feature_combinations for item in sublist]\n",
        "joint_underrepresented_groups = find_joint_underrepresented_groups(df, flat_combinations, 0.10)\n",
        "print(joint_underrepresented_groups)"
      ],
      "metadata": {
        "colab": {
          "base_uri": "https://localhost:8080/"
        },
        "id": "pRgvAObqBU0z",
        "outputId": "69af1433-9c72-4046-b9f2-7d8a431c21fa"
      },
      "execution_count": null,
      "outputs": [
        {
          "output_type": "stream",
          "name": "stderr",
          "text": [
            "<ipython-input-24-a9b566fa2d89>:5: FutureWarning: The default of observed=False is deprecated and will be changed to True in a future version of pandas. Pass observed=False to retain current behavior or observed=True to adopt the future default and silence this warning.\n",
            "  grouped = df.groupby(list(due)).size() / len(df)\n",
            "<ipython-input-24-a9b566fa2d89>:5: FutureWarning: The default of observed=False is deprecated and will be changed to True in a future version of pandas. Pass observed=False to retain current behavior or observed=True to adopt the future default and silence this warning.\n",
            "  grouped = df.groupby(list(due)).size() / len(df)\n",
            "<ipython-input-24-a9b566fa2d89>:5: FutureWarning: The default of observed=False is deprecated and will be changed to True in a future version of pandas. Pass observed=False to retain current behavior or observed=True to adopt the future default and silence this warning.\n",
            "  grouped = df.groupby(list(due)).size() / len(df)\n",
            "<ipython-input-24-a9b566fa2d89>:5: FutureWarning: The default of observed=False is deprecated and will be changed to True in a future version of pandas. Pass observed=False to retain current behavior or observed=True to adopt the future default and silence this warning.\n",
            "  grouped = df.groupby(list(due)).size() / len(df)\n",
            "<ipython-input-24-a9b566fa2d89>:5: FutureWarning: The default of observed=False is deprecated and will be changed to True in a future version of pandas. Pass observed=False to retain current behavior or observed=True to adopt the future default and silence this warning.\n",
            "  grouped = df.groupby(list(due)).size() / len(df)\n",
            "<ipython-input-24-a9b566fa2d89>:5: FutureWarning: The default of observed=False is deprecated and will be changed to True in a future version of pandas. Pass observed=False to retain current behavior or observed=True to adopt the future default and silence this warning.\n",
            "  grouped = df.groupby(list(due)).size() / len(df)\n",
            "<ipython-input-24-a9b566fa2d89>:5: FutureWarning: The default of observed=False is deprecated and will be changed to True in a future version of pandas. Pass observed=False to retain current behavior or observed=True to adopt the future default and silence this warning.\n",
            "  grouped = df.groupby(list(due)).size() / len(df)\n",
            "<ipython-input-24-a9b566fa2d89>:5: FutureWarning: The default of observed=False is deprecated and will be changed to True in a future version of pandas. Pass observed=False to retain current behavior or observed=True to adopt the future default and silence this warning.\n",
            "  grouped = df.groupby(list(due)).size() / len(df)\n"
          ]
        },
        {
          "output_type": "stream",
          "name": "stdout",
          "text": [
            "[(('age-binned', 'workclass'), age-binned  workclass       \n",
            "0-20        ?                   0.011793\n",
            "            Federal-gov         0.000553\n",
            "            Local-gov           0.001443\n",
            "            Never-worked        0.000154\n",
            "            Private             0.056325\n",
            "                                  ...   \n",
            "81-100      Private             0.001474\n",
            "            Self-emp-inc        0.000215\n",
            "            Self-emp-not-inc    0.000430\n",
            "            State-gov           0.000031\n",
            "            Without-pay         0.000000\n",
            "Length: 69, dtype: float64), (('age-binned', 'education'), age-binned  education   \n",
            "0-20        10th            0.006357\n",
            "            11th            0.012837\n",
            "            12th            0.004300\n",
            "            1st-4th         0.000123\n",
            "            5th-6th         0.000369\n",
            "                              ...   \n",
            "81-100      HS-grad         0.001013\n",
            "            Masters         0.000215\n",
            "            Preschool       0.000000\n",
            "            Prof-school     0.000123\n",
            "            Some-college    0.000399\n",
            "Length: 128, dtype: float64), (('age-binned', 'marital-status'), age-binned  marital-status       \n",
            "0-20        Divorced                 0.000430\n",
            "            Married-AF-spouse        0.000061\n",
            "            Married-civ-spouse       0.001904\n",
            "            Married-spouse-absent    0.000276\n",
            "            Never-married            0.070882\n",
            "            Separated                0.000430\n",
            "            Widowed                  0.000031\n",
            "21-30       Divorced                 0.014434\n",
            "            Married-AF-spouse        0.000369\n",
            "            Married-civ-spouse       0.067074\n",
            "            Married-spouse-absent    0.002918\n",
            "            Separated                0.006419\n",
            "            Widowed                  0.000430\n",
            "31-40       Divorced                 0.043610\n",
            "            Married-AF-spouse        0.000184\n",
            "            Married-spouse-absent    0.003348\n",
            "            Never-married            0.062560\n",
            "            Separated                0.011271\n",
            "            Widowed                  0.002058\n",
            "41-50       Divorced                 0.046774\n",
            "            Married-AF-spouse        0.000061\n",
            "            Married-spouse-absent    0.003778\n",
            "            Never-married            0.022512\n",
            "            Separated                0.008384\n",
            "            Widowed                  0.004545\n",
            "51-60       Divorced                 0.023372\n",
            "            Married-AF-spouse        0.000000\n",
            "            Married-civ-spouse       0.080649\n",
            "            Married-spouse-absent    0.001751\n",
            "            Never-married            0.008691\n",
            "            Separated                0.003808\n",
            "            Widowed                  0.008507\n",
            "61-70       Divorced                 0.006879\n",
            "            Married-AF-spouse        0.000000\n",
            "            Married-civ-spouse       0.033936\n",
            "            Married-spouse-absent    0.000461\n",
            "            Never-married            0.003040\n",
            "            Separated                0.000983\n",
            "            Widowed                  0.009736\n",
            "71-80       Divorced                 0.000768\n",
            "            Married-AF-spouse        0.000031\n",
            "            Married-civ-spouse       0.007279\n",
            "            Married-spouse-absent    0.000307\n",
            "            Never-married            0.000860\n",
            "            Separated                0.000123\n",
            "            Widowed                  0.004177\n",
            "81-100      Divorced                 0.000184\n",
            "            Married-AF-spouse        0.000000\n",
            "            Married-civ-spouse       0.001259\n",
            "            Married-spouse-absent    0.000000\n",
            "            Never-married            0.000522\n",
            "            Separated                0.000061\n",
            "            Widowed                  0.001013\n",
            "dtype: float64), (('age-binned', 'occupation'), age-binned  occupation      \n",
            "0-20        ?                   0.011947\n",
            "            Adm-clerical        0.009121\n",
            "            Armed-Forces        0.000000\n",
            "            Craft-repair        0.003255\n",
            "            Exec-managerial     0.001044\n",
            "                                  ...   \n",
            "81-100      Prof-specialty      0.000369\n",
            "            Protective-serv     0.000061\n",
            "            Sales               0.000338\n",
            "            Tech-support        0.000000\n",
            "            Transport-moving    0.000061\n",
            "Length: 120, dtype: float64), (('age-binned', 'relationship'), age-binned  relationship  \n",
            "0-20        Husband           0.000952\n",
            "            Not-in-family     0.010319\n",
            "            Other-relative    0.005067\n",
            "            Own-child         0.055649\n",
            "            Unmarried         0.001597\n",
            "            Wife              0.000430\n",
            "21-30       Husband           0.053346\n",
            "            Not-in-family     0.081263\n",
            "            Other-relative    0.012162\n",
            "            Own-child         0.072479\n",
            "            Unmarried         0.020730\n",
            "            Wife              0.010688\n",
            "31-40       Not-in-family     0.066675\n",
            "            Other-relative    0.005129\n",
            "            Own-child         0.018519\n",
            "            Unmarried         0.034243\n",
            "            Wife              0.016216\n",
            "41-50       Not-in-family     0.046774\n",
            "            Other-relative    0.003348\n",
            "            Own-child         0.006695\n",
            "            Unmarried         0.030097\n",
            "            Wife              0.012346\n",
            "51-60       Husband           0.073954\n",
            "            Not-in-family     0.028715\n",
            "            Other-relative    0.002518\n",
            "            Own-child         0.001904\n",
            "            Unmarried         0.013544\n",
            "            Wife              0.006142\n",
            "61-70       Husband           0.031909\n",
            "            Not-in-family     0.015172\n",
            "            Other-relative    0.001413\n",
            "            Own-child         0.000184\n",
            "            Unmarried         0.004392\n",
            "            Wife              0.001966\n",
            "71-80       Husband           0.006972\n",
            "            Not-in-family     0.004883\n",
            "            Other-relative    0.000430\n",
            "            Own-child         0.000031\n",
            "            Unmarried         0.000952\n",
            "            Wife              0.000276\n",
            "81-100      Husband           0.001167\n",
            "            Not-in-family     0.001259\n",
            "            Other-relative    0.000061\n",
            "            Own-child         0.000184\n",
            "            Unmarried         0.000276\n",
            "            Wife              0.000092\n",
            "dtype: float64), (('age-binned', 'race'), age-binned  race              \n",
            "0-20        Amer-Indian-Eskimo    0.000491\n",
            "            Asian-Pac-Islander    0.001474\n",
            "            Black                 0.006112\n",
            "            Other                 0.000983\n",
            "            White                 0.064955\n",
            "21-30       Amer-Indian-Eskimo    0.002825\n",
            "            Asian-Pac-Islander    0.009336\n",
            "            Black                 0.025982\n",
            "            Other                 0.003071\n",
            "31-40       Amer-Indian-Eskimo    0.002764\n",
            "            Asian-Pac-Islander    0.009091\n",
            "            Black                 0.026197\n",
            "            Other                 0.002058\n",
            "41-50       Amer-Indian-Eskimo    0.001966\n",
            "            Asian-Pac-Islander    0.007064\n",
            "            Black                 0.021191\n",
            "            Other                 0.001382\n",
            "51-60       Amer-Indian-Eskimo    0.001136\n",
            "            Asian-Pac-Islander    0.003194\n",
            "            Black                 0.011333\n",
            "            Other                 0.000676\n",
            "61-70       Amer-Indian-Eskimo    0.000246\n",
            "            Asian-Pac-Islander    0.001198\n",
            "            Black                 0.004177\n",
            "            Other                 0.000092\n",
            "            White                 0.049323\n",
            "71-80       Amer-Indian-Eskimo    0.000092\n",
            "            Asian-Pac-Islander    0.000399\n",
            "            Black                 0.000768\n",
            "            Other                 0.000061\n",
            "            White                 0.012223\n",
            "81-100      Amer-Indian-Eskimo    0.000031\n",
            "            Asian-Pac-Islander    0.000154\n",
            "            Black                 0.000184\n",
            "            Other                 0.000000\n",
            "            White                 0.002672\n",
            "dtype: float64), (('age-binned', 'sex'), age-binned  sex   \n",
            "0-20        Female    0.036025\n",
            "            Male      0.037990\n",
            "21-30       Female    0.094776\n",
            "31-40       Female    0.078806\n",
            "41-50       Female    0.063082\n",
            "51-60       Female    0.035318\n",
            "            Male      0.091459\n",
            "61-70       Female    0.017229\n",
            "            Male      0.037806\n",
            "71-80       Female    0.004545\n",
            "            Male      0.008998\n",
            "81-100      Female    0.001013\n",
            "            Male      0.002027\n",
            "dtype: float64), (('age-binned', 'continent'), age-binned  continent      \n",
            "0-20        Asia               0.000676\n",
            "            Central America    0.000799\n",
            "            Europe             0.000461\n",
            "            North America      0.070514\n",
            "            Other              0.001413\n",
            "            South America      0.000154\n",
            "21-30       Asia               0.004822\n",
            "            Central America    0.004515\n",
            "            Europe             0.003348\n",
            "            Other              0.007432\n",
            "            South America      0.001198\n",
            "31-40       Asia               0.005006\n",
            "            Central America    0.004207\n",
            "            Europe             0.003655\n",
            "            Other              0.008354\n",
            "            South America      0.000799\n",
            "41-50       Asia               0.004330\n",
            "            Central America    0.003716\n",
            "            Europe             0.003348\n",
            "            Other              0.005958\n",
            "            South America      0.000952\n",
            "51-60       Asia               0.001966\n",
            "            Central America    0.002518\n",
            "            Europe             0.002610\n",
            "            Other              0.002733\n",
            "            South America      0.000276\n",
            "61-70       Asia               0.000829\n",
            "            Central America    0.000676\n",
            "            Europe             0.000891\n",
            "            North America      0.051196\n",
            "            Other              0.001259\n",
            "            South America      0.000184\n",
            "71-80       Asia               0.000184\n",
            "            Central America    0.000154\n",
            "            Europe             0.000307\n",
            "            North America      0.012745\n",
            "            Other              0.000123\n",
            "            South America      0.000031\n",
            "81-100      Asia               0.000061\n",
            "            Central America    0.000061\n",
            "            Europe             0.000092\n",
            "            North America      0.002672\n",
            "            Other              0.000123\n",
            "            South America      0.000031\n",
            "dtype: float64), (('workclass', 'education'), workclass    education   \n",
            "?            10th            0.003071\n",
            "             11th            0.003624\n",
            "             12th            0.001228\n",
            "             1st-4th         0.000369\n",
            "             5th-6th         0.000921\n",
            "                               ...   \n",
            "State-gov    Some-college    0.009981\n",
            "Without-pay  7th-8th         0.000031\n",
            "             Assoc-acdm      0.000031\n",
            "             HS-grad         0.000276\n",
            "             Some-college    0.000092\n",
            "Length: 114, dtype: float64), (('workclass', 'marital-status'), workclass         marital-status       \n",
            "?                 Divorced                 0.005651\n",
            "                  Married-AF-spouse        0.000061\n",
            "                  Married-civ-spouse       0.019533\n",
            "                  Married-spouse-absent    0.000891\n",
            "                  Never-married            0.023525\n",
            "                  Separated                0.002027\n",
            "                  Widowed                  0.004699\n",
            "Federal-gov       Divorced                 0.005160\n",
            "                  Married-AF-spouse        0.000092\n",
            "                  Married-civ-spouse       0.014465\n",
            "                  Married-spouse-absent    0.000338\n",
            "                  Never-married            0.007524\n",
            "                  Separated                0.000799\n",
            "                  Widowed                  0.001106\n",
            "Local-gov         Divorced                 0.011333\n",
            "                  Married-civ-spouse       0.031418\n",
            "                  Married-spouse-absent    0.000676\n",
            "                  Never-married            0.016277\n",
            "                  Separated                0.001935\n",
            "                  Widowed                  0.002641\n",
            "Never-worked      Divorced                 0.000031\n",
            "                  Married-civ-spouse       0.000031\n",
            "                  Never-married            0.000154\n",
            "Private           Divorced                 0.095789\n",
            "                  Married-AF-spouse        0.000461\n",
            "                  Married-spouse-absent    0.009275\n",
            "                  Separated                0.023157\n",
            "                  Widowed                  0.018058\n",
            "Self-emp-inc      Divorced                 0.003071\n",
            "                  Married-civ-spouse       0.025706\n",
            "                  Married-spouse-absent    0.000154\n",
            "                  Never-married            0.003839\n",
            "                  Separated                0.000614\n",
            "                  Widowed                  0.000891\n",
            "Self-emp-not-inc  Divorced                 0.008968\n",
            "                  Married-AF-spouse        0.000061\n",
            "                  Married-civ-spouse       0.051595\n",
            "                  Married-spouse-absent    0.000952\n",
            "                  Never-married            0.012561\n",
            "                  Separated                0.001628\n",
            "                  Widowed                  0.002273\n",
            "State-gov         Divorced                 0.006449\n",
            "                  Married-AF-spouse        0.000031\n",
            "                  Married-civ-spouse       0.018058\n",
            "                  Married-spouse-absent    0.000522\n",
            "                  Never-married            0.012684\n",
            "                  Separated                0.001321\n",
            "                  Widowed                  0.000799\n",
            "Without-pay       Married-civ-spouse       0.000246\n",
            "                  Married-spouse-absent    0.000031\n",
            "                  Never-married            0.000123\n",
            "                  Widowed                  0.000031\n",
            "dtype: float64), (('workclass', 'occupation'), workclass    occupation       \n",
            "?            ?                    0.056386\n",
            "Federal-gov  Adm-clerical         0.009736\n",
            "             Armed-Forces         0.000276\n",
            "             Craft-repair         0.001966\n",
            "             Exec-managerial      0.005528\n",
            "                                    ...   \n",
            "Without-pay  Farming-fishing      0.000184\n",
            "             Handlers-cleaners    0.000031\n",
            "             Machine-op-inspct    0.000031\n",
            "             Other-service        0.000031\n",
            "             Transport-moving     0.000031\n",
            "Length: 83, dtype: float64), (('workclass', 'relationship'), workclass         relationship  \n",
            "?                 Husband           0.015018\n",
            "                  Not-in-family     0.013482\n",
            "                  Other-relative    0.001935\n",
            "                  Own-child         0.016523\n",
            "                  Unmarried         0.005375\n",
            "                  Wife              0.004054\n",
            "Federal-gov       Husband           0.013175\n",
            "                  Not-in-family     0.008569\n",
            "                  Other-relative    0.000645\n",
            "                  Own-child         0.001966\n",
            "                  Unmarried         0.003870\n",
            "                  Wife              0.001259\n",
            "Local-gov         Husband           0.026381\n",
            "                  Not-in-family     0.016031\n",
            "                  Other-relative    0.001321\n",
            "                  Own-child         0.006603\n",
            "                  Unmarried         0.009213\n",
            "                  Wife              0.004730\n",
            "Never-worked      Not-in-family     0.000031\n",
            "                  Own-child         0.000154\n",
            "                  Wife              0.000031\n",
            "Private           Other-relative    0.023771\n",
            "                  Unmarried         0.076103\n",
            "                  Wife              0.030681\n",
            "Self-emp-inc      Husband           0.024139\n",
            "                  Not-in-family     0.005160\n",
            "                  Other-relative    0.000246\n",
            "                  Own-child         0.001720\n",
            "                  Unmarried         0.001566\n",
            "                  Wife              0.001443\n",
            "Self-emp-not-inc  Husband           0.047357\n",
            "                  Not-in-family     0.015847\n",
            "                  Other-relative    0.001536\n",
            "                  Own-child         0.004760\n",
            "                  Unmarried         0.004760\n",
            "                  Wife              0.003778\n",
            "State-gov         Husband           0.015724\n",
            "                  Not-in-family     0.011486\n",
            "                  Other-relative    0.000676\n",
            "                  Own-child         0.005006\n",
            "                  Unmarried         0.004883\n",
            "                  Wife              0.002088\n",
            "Without-pay       Husband           0.000123\n",
            "                  Own-child         0.000154\n",
            "                  Unmarried         0.000061\n",
            "                  Wife              0.000092\n",
            "dtype: float64), (('workclass', 'race'), workclass         race              \n",
            "?                 Amer-Indian-Eskimo    0.000768\n",
            "                  Asian-Pac-Islander    0.001996\n",
            "                  Black                 0.006542\n",
            "                  Other                 0.000706\n",
            "                  White                 0.046374\n",
            "Federal-gov       Amer-Indian-Eskimo    0.000584\n",
            "                  Asian-Pac-Islander    0.001351\n",
            "                  Black                 0.005190\n",
            "                  Other                 0.000215\n",
            "                  White                 0.022143\n",
            "Local-gov         Amer-Indian-Eskimo    0.001106\n",
            "                  Asian-Pac-Islander    0.001198\n",
            "                  Black                 0.008845\n",
            "                  Other                 0.000307\n",
            "                  White                 0.052824\n",
            "Never-worked      Black                 0.000061\n",
            "                  White                 0.000154\n",
            "Private           Amer-Indian-Eskimo    0.005835\n",
            "                  Asian-Pac-Islander    0.021897\n",
            "                  Black                 0.066828\n",
            "                  Other                 0.006542\n",
            "Self-emp-inc      Amer-Indian-Eskimo    0.000061\n",
            "                  Asian-Pac-Islander    0.001413\n",
            "                  Black                 0.000706\n",
            "                  Other                 0.000154\n",
            "                  White                 0.031940\n",
            "Self-emp-not-inc  Amer-Indian-Eskimo    0.000737\n",
            "                  Asian-Pac-Islander    0.002242\n",
            "                  Black                 0.002856\n",
            "                  Other                 0.000276\n",
            "                  White                 0.071927\n",
            "State-gov         Amer-Indian-Eskimo    0.000461\n",
            "                  Asian-Pac-Islander    0.001781\n",
            "                  Black                 0.004883\n",
            "                  Other                 0.000123\n",
            "                  White                 0.032616\n",
            "Without-pay       Asian-Pac-Islander    0.000031\n",
            "                  Black                 0.000031\n",
            "                  White                 0.000369\n",
            "dtype: float64), (('workclass', 'sex'), workclass         sex   \n",
            "?                 Female    0.025767\n",
            "                  Male      0.030619\n",
            "Federal-gov       Female    0.009674\n",
            "                  Male      0.019809\n",
            "Local-gov         Female    0.025644\n",
            "                  Male      0.038635\n",
            "Never-worked      Female    0.000061\n",
            "                  Male      0.000154\n",
            "Self-emp-inc      Female    0.004146\n",
            "                  Male      0.030128\n",
            "Self-emp-not-inc  Female    0.012254\n",
            "                  Male      0.065784\n",
            "State-gov         Female    0.015018\n",
            "                  Male      0.024846\n",
            "Without-pay       Female    0.000154\n",
            "                  Male      0.000276\n",
            "dtype: float64), (('workclass', 'continent'), workclass         continent      \n",
            "?                 Asia               0.000983\n",
            "                  Central America    0.000676\n",
            "                  Europe             0.000829\n",
            "                  North America      0.052394\n",
            "                  Other              0.001351\n",
            "                  South America      0.000154\n",
            "Federal-gov       Asia               0.000645\n",
            "                  Central America    0.000369\n",
            "                  Europe             0.000399\n",
            "                  North America      0.027303\n",
            "                  Other              0.000706\n",
            "                  South America      0.000061\n",
            "Local-gov         Asia               0.000584\n",
            "                  Central America    0.000891\n",
            "                  Europe             0.000737\n",
            "                  North America      0.060840\n",
            "                  Other              0.001167\n",
            "                  South America      0.000061\n",
            "Never-worked      North America      0.000215\n",
            "Private           Asia               0.012745\n",
            "                  Central America    0.013114\n",
            "                  Europe             0.010473\n",
            "                  Other              0.019563\n",
            "                  South America      0.003010\n",
            "Self-emp-inc      Asia               0.000614\n",
            "                  Central America    0.000522\n",
            "                  Europe             0.000553\n",
            "                  North America      0.030865\n",
            "                  Other              0.001720\n",
            "Self-emp-not-inc  Asia               0.001443\n",
            "                  Central America    0.000768\n",
            "                  Europe             0.001351\n",
            "                  North America      0.072234\n",
            "                  Other              0.001935\n",
            "                  South America      0.000307\n",
            "State-gov         Asia               0.000829\n",
            "                  Central America    0.000307\n",
            "                  Europe             0.000369\n",
            "                  North America      0.037376\n",
            "                  Other              0.000952\n",
            "                  South America      0.000031\n",
            "Without-pay       Asia               0.000031\n",
            "                  North America      0.000399\n",
            "dtype: float64), (('education', 'marital-status'), education     marital-status       \n",
            "10th          Divorced                 0.003685\n",
            "              Married-civ-spouse       0.010718\n",
            "              Married-spouse-absent    0.000461\n",
            "              Never-married            0.011087\n",
            "              Separated                0.001505\n",
            "                                         ...   \n",
            "Some-college  Married-civ-spouse       0.086545\n",
            "              Married-spouse-absent    0.002334\n",
            "              Never-married            0.090077\n",
            "              Separated                0.006757\n",
            "              Widowed                  0.005282\n",
            "Length: 100, dtype: float64), (('education', 'occupation'), education     occupation      \n",
            "10th          ?                   0.003133\n",
            "              Adm-clerical        0.001167\n",
            "              Craft-repair        0.005221\n",
            "              Exec-managerial     0.000737\n",
            "              Farming-fishing     0.001351\n",
            "                                    ...   \n",
            "Some-college  Prof-specialty      0.013206\n",
            "              Protective-serv     0.006204\n",
            "              Sales               0.030988\n",
            "              Tech-support        0.008384\n",
            "              Transport-moving    0.008691\n",
            "Length: 217, dtype: float64), (('education', 'relationship'), education     relationship  \n",
            "10th          Husband           0.009613\n",
            "              Not-in-family     0.006449\n",
            "              Other-relative    0.001321\n",
            "              Own-child         0.006910\n",
            "              Unmarried         0.003470\n",
            "                                  ...   \n",
            "Some-college  Not-in-family     0.055189\n",
            "              Other-relative    0.006050\n",
            "              Own-child         0.052977\n",
            "              Unmarried         0.024231\n",
            "              Wife              0.009490\n",
            "Length: 95, dtype: float64), (('education', 'race'), education     race              \n",
            "10th          Amer-Indian-Eskimo    0.000491\n",
            "              Asian-Pac-Islander    0.000399\n",
            "              Black                 0.004085\n",
            "              Other                 0.000276\n",
            "              White                 0.023402\n",
            "                                      ...   \n",
            "Prof-school   White                 0.015786\n",
            "Some-college  Amer-Indian-Eskimo    0.002426\n",
            "              Asian-Pac-Islander    0.006388\n",
            "              Black                 0.022911\n",
            "              Other                 0.001566\n",
            "Length: 76, dtype: float64), (('education', 'sex'), education     sex   \n",
            "10th          Female    0.009060\n",
            "              Male      0.019594\n",
            "11th          Female    0.013267\n",
            "              Male      0.022819\n",
            "12th          Female    0.004422\n",
            "              Male      0.008876\n",
            "1st-4th       Female    0.001413\n",
            "              Male      0.003747\n",
            "5th-6th       Female    0.002580\n",
            "              Male      0.007647\n",
            "7th-8th       Female    0.004914\n",
            "              Male      0.014926\n",
            "9th           Female    0.004422\n",
            "              Male      0.011363\n",
            "Assoc-acdm    Female    0.012930\n",
            "              Male      0.019840\n",
            "Assoc-voc     Female    0.015356\n",
            "              Male      0.027088\n",
            "Bachelors     Female    0.049722\n",
            "Doctorate     Female    0.002641\n",
            "              Male      0.010043\n",
            "Masters       Female    0.016461\n",
            "              Male      0.036455\n",
            "Preschool     Female    0.000491\n",
            "              Male      0.001075\n",
            "Prof-school   Female    0.002825\n",
            "              Male      0.014864\n",
            "Some-college  Female    0.086177\n",
            "dtype: float64), (('education', 'continent'), education     continent      \n",
            "10th          Asia               0.000307\n",
            "              Central America    0.000491\n",
            "              Europe             0.000246\n",
            "              North America      0.026873\n",
            "              Other              0.000553\n",
            "                                   ...   \n",
            "Some-college  Asia               0.003163\n",
            "              Central America    0.003071\n",
            "              Europe             0.002334\n",
            "              Other              0.004791\n",
            "              South America      0.000676\n",
            "Length: 91, dtype: float64), (('marital-status', 'occupation'), marital-status  occupation      \n",
            "Divorced        ?                   0.005682\n",
            "                Adm-clerical        0.025153\n",
            "                Craft-repair        0.014250\n",
            "                Exec-managerial     0.018550\n",
            "                Farming-fishing     0.001966\n",
            "                                      ...   \n",
            "Widowed         Prof-specialty      0.002825\n",
            "                Protective-serv     0.000276\n",
            "                Sales               0.003225\n",
            "                Tech-support        0.000584\n",
            "                Transport-moving    0.000768\n",
            "Length: 96, dtype: float64), (('marital-status', 'relationship'), marital-status         relationship  \n",
            "Divorced               Not-in-family     0.073831\n",
            "                       Other-relative    0.003378\n",
            "                       Own-child         0.010073\n",
            "                       Unmarried         0.049169\n",
            "Married-AF-spouse      Husband           0.000276\n",
            "                       Other-relative    0.000031\n",
            "                       Own-child         0.000031\n",
            "                       Wife              0.000369\n",
            "Married-civ-spouse     Not-in-family     0.000522\n",
            "                       Other-relative    0.003808\n",
            "                       Own-child         0.002918\n",
            "                       Wife              0.047787\n",
            "Married-spouse-absent  Not-in-family     0.006480\n",
            "                       Other-relative    0.000983\n",
            "                       Own-child         0.001382\n",
            "                       Unmarried         0.003993\n",
            "Never-married          Other-relative    0.018765\n",
            "                       Unmarried         0.027057\n",
            "Separated              Not-in-family     0.012899\n",
            "                       Other-relative    0.001689\n",
            "                       Own-child         0.003040\n",
            "                       Unmarried         0.013851\n",
            "Widowed                Not-in-family     0.016799\n",
            "                       Other-relative    0.001474\n",
            "                       Own-child         0.000461\n",
            "                       Unmarried         0.011763\n",
            "dtype: float64), (('marital-status', 'race'), marital-status         race              \n",
            "Divorced               Amer-Indian-Eskimo    0.001843\n",
            "                       Asian-Pac-Islander    0.002303\n",
            "                       Black                 0.014895\n",
            "                       Other                 0.000799\n",
            "Married-AF-spouse      Black                 0.000031\n",
            "                       White                 0.000676\n",
            "Married-civ-spouse     Amer-Indian-Eskimo    0.003563\n",
            "                       Asian-Pac-Islander    0.015601\n",
            "                       Black                 0.025706\n",
            "                       Other                 0.003225\n",
            "Married-spouse-absent  Amer-Indian-Eskimo    0.000276\n",
            "                       Asian-Pac-Islander    0.001259\n",
            "                       Black                 0.001904\n",
            "                       Other                 0.000461\n",
            "                       White                 0.008937\n",
            "Never-married          Amer-Indian-Eskimo    0.003163\n",
            "                       Asian-Pac-Islander    0.011425\n",
            "                       Black                 0.041338\n",
            "                       Other                 0.003225\n",
            "Separated              Amer-Indian-Eskimo    0.000338\n",
            "                       Asian-Pac-Islander    0.000584\n",
            "                       Black                 0.008139\n",
            "                       Other                 0.000399\n",
            "                       White                 0.022020\n",
            "Widowed                Amer-Indian-Eskimo    0.000369\n",
            "                       Asian-Pac-Islander    0.000737\n",
            "                       Black                 0.003931\n",
            "                       Other                 0.000215\n",
            "                       White                 0.025245\n",
            "dtype: float64), (('marital-status', 'sex'), marital-status         sex   \n",
            "Divorced               Female    0.082061\n",
            "                       Male      0.054390\n",
            "Married-AF-spouse      Female    0.000430\n",
            "                       Male      0.000276\n",
            "Married-civ-spouse     Female    0.050889\n",
            "Married-spouse-absent  Female    0.006296\n",
            "                       Male      0.006542\n",
            "Separated              Female    0.019379\n",
            "                       Male      0.012100\n",
            "Widowed                Female    0.025337\n",
            "                       Male      0.005160\n",
            "dtype: float64), (('marital-status', 'continent'), marital-status         continent      \n",
            "Divorced               Asia               0.001198\n",
            "                       Central America    0.001720\n",
            "                       Europe             0.002027\n",
            "                       Other              0.002088\n",
            "                       South America      0.000338\n",
            "Married-AF-spouse      North America      0.000706\n",
            "Married-civ-spouse     Asia               0.009613\n",
            "                       Central America    0.006142\n",
            "                       Europe             0.007494\n",
            "                       Other              0.013206\n",
            "                       South America      0.001351\n",
            "Married-spouse-absent  Asia               0.000952\n",
            "                       Central America    0.001228\n",
            "                       Europe             0.000369\n",
            "                       North America      0.009029\n",
            "                       Other              0.001044\n",
            "                       South America      0.000215\n",
            "Never-married          Asia               0.005252\n",
            "                       Central America    0.005958\n",
            "                       Europe             0.003685\n",
            "                       Other              0.009428\n",
            "                       South America      0.001290\n",
            "Separated              Asia               0.000491\n",
            "                       Central America    0.001106\n",
            "                       Europe             0.000461\n",
            "                       North America      0.028224\n",
            "                       Other              0.000891\n",
            "                       South America      0.000307\n",
            "Widowed                Asia               0.000369\n",
            "                       Central America    0.000491\n",
            "                       Europe             0.000676\n",
            "                       North America      0.028101\n",
            "                       Other              0.000737\n",
            "                       South America      0.000123\n",
            "dtype: float64), (('occupation', 'relationship'), occupation        relationship  \n",
            "?                 Husband           0.015018\n",
            "                  Not-in-family     0.013513\n",
            "                  Other-relative    0.001935\n",
            "                  Own-child         0.016676\n",
            "                  Unmarried         0.005375\n",
            "                                      ...   \n",
            "Transport-moving  Not-in-family     0.009674\n",
            "                  Other-relative    0.000921\n",
            "                  Own-child         0.005129\n",
            "                  Unmarried         0.003071\n",
            "                  Wife              0.000522\n",
            "Length: 87, dtype: float64), (('occupation', 'race'), occupation        race              \n",
            "?                 Amer-Indian-Eskimo    0.000768\n",
            "                  Asian-Pac-Islander    0.001996\n",
            "                  Black                 0.006603\n",
            "                  Other                 0.000706\n",
            "                  White                 0.046528\n",
            "                                          ...   \n",
            "Transport-moving  Amer-Indian-Eskimo    0.000768\n",
            "                  Asian-Pac-Islander    0.000860\n",
            "                  Black                 0.005221\n",
            "                  Other                 0.000430\n",
            "                  White                 0.041768\n",
            "Length: 69, dtype: float64), (('occupation', 'sex'), occupation         sex   \n",
            "?                  Female    0.025828\n",
            "                   Male      0.030773\n",
            "Adm-clerical       Female    0.077915\n",
            "                   Male      0.037867\n",
            "Armed-Forces       Male      0.000276\n",
            "Craft-repair       Female    0.006818\n",
            "Exec-managerial    Female    0.035595\n",
            "                   Male      0.089279\n",
            "Farming-fishing    Female    0.001996\n",
            "                   Male      0.028531\n",
            "Handlers-cleaners  Female    0.005037\n",
            "                   Male      0.037038\n",
            "Machine-op-inspct  Female    0.016891\n",
            "                   Male      0.044593\n",
            "Other-service      Female    0.055281\n",
            "                   Male      0.045914\n",
            "Priv-house-serv    Female    0.004330\n",
            "                   Male      0.000246\n",
            "Prof-specialty     Female    0.046528\n",
            "                   Male      0.080618\n",
            "Protective-serv    Female    0.002334\n",
            "                   Male      0.017598\n",
            "Sales              Female    0.038789\n",
            "                   Male      0.073309\n",
            "Tech-support       Female    0.010688\n",
            "                   Male      0.017813\n",
            "Transport-moving   Female    0.002764\n",
            "                   Male      0.046282\n",
            "dtype: float64), (('occupation', 'continent'), occupation        continent      \n",
            "?                 Asia               0.000983\n",
            "                  Central America    0.000676\n",
            "                  Europe             0.000829\n",
            "                  North America      0.052609\n",
            "                  Other              0.001351\n",
            "                                       ...   \n",
            "Transport-moving  Central America    0.000829\n",
            "                  Europe             0.000215\n",
            "                  North America      0.046682\n",
            "                  Other              0.000983\n",
            "                  South America      0.000184\n",
            "Length: 79, dtype: float64), (('relationship', 'race'), relationship    race              \n",
            "Husband         Amer-Indian-Eskimo    0.002825\n",
            "                Asian-Pac-Islander    0.012592\n",
            "                Black                 0.020607\n",
            "                Other                 0.002457\n",
            "Not-in-family   Amer-Indian-Eskimo    0.002488\n",
            "                Asian-Pac-Islander    0.006572\n",
            "                Black                 0.024938\n",
            "                Other                 0.002242\n",
            "Other-relative  Amer-Indian-Eskimo    0.000399\n",
            "                Asian-Pac-Islander    0.002518\n",
            "                Black                 0.005037\n",
            "                Other                 0.000860\n",
            "                White                 0.021314\n",
            "Own-child       Amer-Indian-Eskimo    0.001474\n",
            "                Asian-Pac-Islander    0.005313\n",
            "                Black                 0.017045\n",
            "                Other                 0.001136\n",
            "Unmarried       Amer-Indian-Eskimo    0.001781\n",
            "                Asian-Pac-Islander    0.002795\n",
            "                Black                 0.023617\n",
            "                Other                 0.001136\n",
            "                White                 0.076503\n",
            "Wife            Amer-Indian-Eskimo    0.000584\n",
            "                Asian-Pac-Islander    0.002119\n",
            "                Black                 0.004699\n",
            "                Other                 0.000491\n",
            "                White                 0.040263\n",
            "dtype: float64), (('relationship', 'sex'), relationship    sex   \n",
            "Husband         Female    0.000031\n",
            "Other-relative  Female    0.013206\n",
            "                Male      0.016922\n",
            "Own-child       Female    0.068948\n",
            "                Male      0.086699\n",
            "Unmarried       Female    0.081509\n",
            "                Male      0.024324\n",
            "Wife            Female    0.048094\n",
            "                Male      0.000061\n",
            "dtype: float64), (('relationship', 'continent'), relationship    continent      \n",
            "Husband         Asia               0.007709\n",
            "                Central America    0.004699\n",
            "                Europe             0.006388\n",
            "                Other              0.011179\n",
            "                South America      0.001075\n",
            "Not-in-family   Asia               0.003194\n",
            "                Central America    0.003685\n",
            "                Europe             0.004207\n",
            "                Other              0.006757\n",
            "                South America      0.000891\n",
            "Other-relative  Asia               0.001628\n",
            "                Central America    0.001781\n",
            "                Europe             0.000338\n",
            "                North America      0.024201\n",
            "                Other              0.001812\n",
            "                South America      0.000369\n",
            "Own-child       Asia               0.002488\n",
            "                Central America    0.002273\n",
            "                Europe             0.001290\n",
            "                Other              0.002948\n",
            "                South America      0.000491\n",
            "Unmarried       Asia               0.001658\n",
            "                Central America    0.002979\n",
            "                Europe             0.001566\n",
            "                North America      0.096127\n",
            "                Other              0.002825\n",
            "                South America      0.000676\n",
            "Wife            Asia               0.001198\n",
            "                Central America    0.001228\n",
            "                Europe             0.000921\n",
            "                North America      0.042812\n",
            "                Other              0.001873\n",
            "                South America      0.000123\n",
            "dtype: float64), (('race', 'sex'), race                sex   \n",
            "Amer-Indian-Eskimo  Female    0.003655\n",
            "                    Male      0.005897\n",
            "Asian-Pac-Islander  Female    0.010626\n",
            "                    Male      0.021283\n",
            "Black               Female    0.047757\n",
            "                    Male      0.048186\n",
            "Other               Female    0.003348\n",
            "                    Male      0.004975\n",
            "dtype: float64), (('race', 'continent'), race                continent      \n",
            "Amer-Indian-Eskimo  Asia               0.000092\n",
            "                    Central America    0.000031\n",
            "                    Europe             0.000031\n",
            "                    North America      0.009336\n",
            "                    Other              0.000031\n",
            "                    South America      0.000031\n",
            "Asian-Pac-Islander  Asia               0.016154\n",
            "                    Central America    0.000154\n",
            "                    Europe             0.000246\n",
            "                    North America      0.009029\n",
            "                    Other              0.006327\n",
            "Black               Asia               0.000184\n",
            "                    Central America    0.004914\n",
            "                    Europe             0.000522\n",
            "                    North America      0.087282\n",
            "                    Other              0.003040\n",
            "Other               Asia               0.000215\n",
            "                    Central America    0.001443\n",
            "                    Europe             0.000031\n",
            "                    North America      0.005221\n",
            "                    Other              0.000891\n",
            "                    South America      0.000522\n",
            "White               Asia               0.001228\n",
            "                    Central America    0.010104\n",
            "                    Europe             0.013882\n",
            "                    Other              0.017106\n",
            "                    South America      0.003071\n",
            "dtype: float64), (('sex', 'continent'), sex     continent      \n",
            "Female  Asia               0.005467\n",
            "        Central America    0.007463\n",
            "        Europe             0.005160\n",
            "        Other              0.008016\n",
            "        South America      0.001443\n",
            "Male    Asia               0.012407\n",
            "        Central America    0.009183\n",
            "        Europe             0.009551\n",
            "        Other              0.019379\n",
            "        South America      0.002181\n",
            "dtype: float64)]\n"
          ]
        }
      ]
    },
    {
      "cell_type": "code",
      "source": [
        "#Plot Underrepresented"
      ],
      "metadata": {
        "id": "3QNrJMryBU4y"
      },
      "execution_count": null,
      "outputs": []
    },
    {
      "cell_type": "code",
      "source": [
        "!pip install dowhy"
      ],
      "metadata": {
        "colab": {
          "base_uri": "https://localhost:8080/"
        },
        "id": "3OVajEMbOq14",
        "outputId": "9e108be4-fd18-4702-e7c1-01802516cd74"
      },
      "execution_count": 4,
      "outputs": [
        {
          "output_type": "stream",
          "name": "stdout",
          "text": [
            "Collecting dowhy\n",
            "  Downloading dowhy-0.11.1-py3-none-any.whl.metadata (17 kB)\n",
            "Collecting causal-learn>=0.1.3.0 (from dowhy)\n",
            "  Downloading causal_learn-0.1.3.8-py3-none-any.whl.metadata (4.2 kB)\n",
            "Requirement already satisfied: cvxpy<2.0.0,>=1.2.2 in /usr/local/lib/python3.10/dist-packages (from dowhy) (1.5.3)\n",
            "Requirement already satisfied: cython>=0.29.32 in /usr/local/lib/python3.10/dist-packages (from dowhy) (3.0.11)\n",
            "Requirement already satisfied: joblib>=1.1.0 in /usr/local/lib/python3.10/dist-packages (from dowhy) (1.4.2)\n",
            "Requirement already satisfied: networkx>=2.8.5 in /usr/local/lib/python3.10/dist-packages (from dowhy) (3.3)\n",
            "Requirement already satisfied: numpy>=1.20 in /usr/local/lib/python3.10/dist-packages (from dowhy) (1.26.4)\n",
            "Requirement already satisfied: pandas>=1.4.3 in /usr/local/lib/python3.10/dist-packages (from dowhy) (2.1.4)\n",
            "Requirement already satisfied: scikit-learn>1.0 in /usr/local/lib/python3.10/dist-packages (from dowhy) (1.3.2)\n",
            "Requirement already satisfied: scipy>=1.4.1 in /usr/local/lib/python3.10/dist-packages (from dowhy) (1.13.1)\n",
            "Requirement already satisfied: statsmodels>=0.13.5 in /usr/local/lib/python3.10/dist-packages (from dowhy) (0.14.3)\n",
            "Requirement already satisfied: sympy>=1.10.1 in /usr/local/lib/python3.10/dist-packages (from dowhy) (1.13.2)\n",
            "Requirement already satisfied: tqdm>=4.64.0 in /usr/local/lib/python3.10/dist-packages (from dowhy) (4.66.5)\n",
            "Requirement already satisfied: graphviz in /usr/local/lib/python3.10/dist-packages (from causal-learn>=0.1.3.0->dowhy) (0.20.3)\n",
            "Requirement already satisfied: matplotlib in /usr/local/lib/python3.10/dist-packages (from causal-learn>=0.1.3.0->dowhy) (3.7.1)\n",
            "Requirement already satisfied: pydot in /usr/local/lib/python3.10/dist-packages (from causal-learn>=0.1.3.0->dowhy) (3.0.1)\n",
            "Requirement already satisfied: osqp>=0.6.2 in /usr/local/lib/python3.10/dist-packages (from cvxpy<2.0.0,>=1.2.2->dowhy) (0.6.7.post0)\n",
            "Requirement already satisfied: ecos>=2 in /usr/local/lib/python3.10/dist-packages (from cvxpy<2.0.0,>=1.2.2->dowhy) (2.0.14)\n",
            "Requirement already satisfied: clarabel>=0.5.0 in /usr/local/lib/python3.10/dist-packages (from cvxpy<2.0.0,>=1.2.2->dowhy) (0.9.0)\n",
            "Requirement already satisfied: scs>=3.2.4.post1 in /usr/local/lib/python3.10/dist-packages (from cvxpy<2.0.0,>=1.2.2->dowhy) (3.2.7)\n",
            "Requirement already satisfied: python-dateutil>=2.8.2 in /usr/local/lib/python3.10/dist-packages (from pandas>=1.4.3->dowhy) (2.8.2)\n",
            "Requirement already satisfied: pytz>=2020.1 in /usr/local/lib/python3.10/dist-packages (from pandas>=1.4.3->dowhy) (2024.2)\n",
            "Requirement already satisfied: tzdata>=2022.1 in /usr/local/lib/python3.10/dist-packages (from pandas>=1.4.3->dowhy) (2024.1)\n",
            "Requirement already satisfied: threadpoolctl>=2.0.0 in /usr/local/lib/python3.10/dist-packages (from scikit-learn>1.0->dowhy) (3.5.0)\n",
            "Requirement already satisfied: patsy>=0.5.6 in /usr/local/lib/python3.10/dist-packages (from statsmodels>=0.13.5->dowhy) (0.5.6)\n",
            "Requirement already satisfied: packaging>=21.3 in /usr/local/lib/python3.10/dist-packages (from statsmodels>=0.13.5->dowhy) (24.1)\n",
            "Requirement already satisfied: mpmath<1.4,>=1.1.0 in /usr/local/lib/python3.10/dist-packages (from sympy>=1.10.1->dowhy) (1.3.0)\n",
            "Requirement already satisfied: qdldl in /usr/local/lib/python3.10/dist-packages (from osqp>=0.6.2->cvxpy<2.0.0,>=1.2.2->dowhy) (0.1.7.post4)\n",
            "Requirement already satisfied: six in /usr/local/lib/python3.10/dist-packages (from patsy>=0.5.6->statsmodels>=0.13.5->dowhy) (1.16.0)\n",
            "Requirement already satisfied: contourpy>=1.0.1 in /usr/local/lib/python3.10/dist-packages (from matplotlib->causal-learn>=0.1.3.0->dowhy) (1.3.0)\n",
            "Requirement already satisfied: cycler>=0.10 in /usr/local/lib/python3.10/dist-packages (from matplotlib->causal-learn>=0.1.3.0->dowhy) (0.12.1)\n",
            "Requirement already satisfied: fonttools>=4.22.0 in /usr/local/lib/python3.10/dist-packages (from matplotlib->causal-learn>=0.1.3.0->dowhy) (4.53.1)\n",
            "Requirement already satisfied: kiwisolver>=1.0.1 in /usr/local/lib/python3.10/dist-packages (from matplotlib->causal-learn>=0.1.3.0->dowhy) (1.4.7)\n",
            "Requirement already satisfied: pillow>=6.2.0 in /usr/local/lib/python3.10/dist-packages (from matplotlib->causal-learn>=0.1.3.0->dowhy) (10.4.0)\n",
            "Requirement already satisfied: pyparsing>=2.3.1 in /usr/local/lib/python3.10/dist-packages (from matplotlib->causal-learn>=0.1.3.0->dowhy) (3.1.4)\n",
            "Downloading dowhy-0.11.1-py3-none-any.whl (383 kB)\n",
            "\u001b[2K   \u001b[90m━━━━━━━━━━━━━━━━━━━━━━━━━━━━━━━━━━━━━━━━\u001b[0m \u001b[32m383.4/383.4 kB\u001b[0m \u001b[31m23.3 MB/s\u001b[0m eta \u001b[36m0:00:00\u001b[0m\n",
            "\u001b[?25hDownloading causal_learn-0.1.3.8-py3-none-any.whl (174 kB)\n",
            "\u001b[2K   \u001b[90m━━━━━━━━━━━━━━━━━━━━━━━━━━━━━━━━━━━━━━━━\u001b[0m \u001b[32m174.5/174.5 kB\u001b[0m \u001b[31m12.0 MB/s\u001b[0m eta \u001b[36m0:00:00\u001b[0m\n",
            "\u001b[?25hInstalling collected packages: causal-learn, dowhy\n",
            "Successfully installed causal-learn-0.1.3.8 dowhy-0.11.1\n"
          ]
        }
      ]
    },
    {
      "cell_type": "code",
      "source": [
        "!pip install networkx"
      ],
      "metadata": {
        "colab": {
          "base_uri": "https://localhost:8080/"
        },
        "id": "T0nMPjACRBS1",
        "outputId": "373524b5-a425-41c3-e9b4-89d344e01213"
      },
      "execution_count": 8,
      "outputs": [
        {
          "output_type": "stream",
          "name": "stdout",
          "text": [
            "Requirement already satisfied: networkx in /usr/local/lib/python3.10/dist-packages (3.3)\n"
          ]
        }
      ]
    },
    {
      "cell_type": "code",
      "source": [
        "#Weight Calculation\n",
        "\n",
        "import dowhy\n",
        "from dowhy import CausalModel\n",
        "import pandas as pd\n",
        "import numpy as np\n",
        "import networkx as nx\n",
        "from sklearn.model_selection import train_test_split\n",
        "from sklearn.linear_model import LogisticRegression\n",
        "from sklearn.preprocessing import LabelEncoder"
      ],
      "metadata": {
        "id": "fA6UPopsBU7o"
      },
      "execution_count": 11,
      "outputs": []
    },
    {
      "cell_type": "code",
      "source": [
        "data = [\n",
        "    ('age', 'education_num'),\n",
        "    ('age', 'hours_per_week'),\n",
        "    ('age', 'income'),\n",
        "    ('age', 'marital_status'),\n",
        "    ('age', 'occupation'),\n",
        "    ('age', 'relationship'),\n",
        "    ('age', 'work_class'),\n",
        "    ('education_num', 'education'),\n",
        "    ('education_num', 'hours_per_week'),\n",
        "    ('education_num', 'income'),\n",
        "    ('education_num', 'occupation'),\n",
        "    ('education_num', 'work_class'),\n",
        "    ('education_num', 'work_class'),\n",
        "    ('hours_per_week', 'income'),\n",
        "    ('hours_per_week', 'relationship'),\n",
        "    ('income', 'education'),\n",
        "    ('marital_status', 'education_num'),\n",
        "    ('marital_status', 'hours_per_week'),\n",
        "    ('marital_status', 'income'),\n",
        "    ('marital_status', 'occupation'),\n",
        "    ('marital_status', 'work_class'),\n",
        "    ('native_country', 'education'),\n",
        "    ('native_country', 'education_num'),\n",
        "    ('native_country', 'hours_per_week'),\n",
        "    ('native_country', 'income'),\n",
        "    ('native_country', 'marital_status'),\n",
        "    ('native_country', 'occupation'),\n",
        "    ('native_country', 'race'),\n",
        "    ('native_country', 'work_class'),\n",
        "    ('occupation', 'education'),\n",
        "    ('occupation', 'income'),\n",
        "    ('race', 'education_num'),\n",
        "    ('race', 'hours_per_week'),\n",
        "    ('race', 'income'),\n",
        "    ('race', 'marital_status'),\n",
        "    ('race', 'occupation'),\n",
        "    ('race', 'work_class'),\n",
        "    ('sex', 'education_num'),\n",
        "    ('sex', 'hours_per_week'),\n",
        "    ('sex', 'income'),\n",
        "    ('sex', 'marital_status'),\n",
        "    ('sex', 'occupation'),\n",
        "    ('sex', 'race'),\n",
        "    ('sex', 'relationship'),\n",
        "    ('sex', 'work_class'),\n",
        "    ('work_class', 'income'),\n",
        "]\n",
        "\n",
        "# Remove '_' from all strings in the list of tuples\n",
        "#data_no_underscore = [(row[0].replace('_', ' '), row[1].replace('_', ' ')) for row in data]\n",
        "#dag = nx.DiGraph(data_no_underscore)\n",
        "dag = nx.DiGraph(data)\n",
        "print(f\"Number of nodes: {len(dag.nodes)}\")\n",
        "print(f\"Number of edges: {len(dag.edges)}\")\n",
        "print(nx.is_directed_acyclic_graph(dag))"
      ],
      "metadata": {
        "id": "bEjcC40gK9V2",
        "colab": {
          "base_uri": "https://localhost:8080/"
        },
        "outputId": "c79e431d-2083-4352-a2da-a1efc792c368"
      },
      "execution_count": 62,
      "outputs": [
        {
          "output_type": "stream",
          "name": "stdout",
          "text": [
            "Number of nodes: 12\n",
            "Number of edges: 45\n",
            "True\n"
          ]
        }
      ]
    },
    {
      "cell_type": "code",
      "source": [
        "# Load the dataset\n",
        "url = \"https://archive.ics.uci.edu/ml/machine-learning-databases/adult/adult.data\"\n",
        "column_names = ['age', 'work_class', 'fnlwgt', 'education', 'education_num', 'marital_status',\n",
        "                'occupation', 'relationship', 'race', 'sex', 'capital_gain', 'capital_loss',\n",
        "                'hours_per_week', 'native_country', 'income']\n",
        "\n",
        "df = pd.read_csv(url, names=column_names, na_values=\" ?\", skipinitialspace=True)\n",
        "df = df.dropna()\n",
        "label_cols = ['work_class', 'education', 'marital_status', 'occupation',\n",
        "              'relationship', 'race', 'sex', 'native_country', 'income', 'education_num']"
      ],
      "metadata": {
        "id": "DpDN3qeFK9S9"
      },
      "execution_count": 63,
      "outputs": []
    },
    {
      "cell_type": "code",
      "source": [
        "#Dealing With Categorical Values - encoding into numerical values\n",
        "le = LabelEncoder()\n",
        "for col in label_cols:\n",
        "    df[col] = le.fit_transform(df[col])\n",
        "\n",
        "print(df.head())\n"
      ],
      "metadata": {
        "id": "1fEVMLUDK9Px",
        "colab": {
          "base_uri": "https://localhost:8080/"
        },
        "outputId": "a428d70b-7079-4b97-b40f-4756cb20b200"
      },
      "execution_count": 64,
      "outputs": [
        {
          "output_type": "stream",
          "name": "stdout",
          "text": [
            "   age  work_class  fnlwgt  education  education_num  marital_status  \\\n",
            "0   39           7   77516          9             12               4   \n",
            "1   50           6   83311          9             12               2   \n",
            "2   38           4  215646         11              8               0   \n",
            "3   53           4  234721          1              6               2   \n",
            "4   28           4  338409          9             12               2   \n",
            "\n",
            "   occupation  relationship  race  sex  capital_gain  capital_loss  \\\n",
            "0           1             1     4    1          2174             0   \n",
            "1           4             0     4    1             0             0   \n",
            "2           6             1     4    1             0             0   \n",
            "3           6             0     2    1             0             0   \n",
            "4          10             5     2    0             0             0   \n",
            "\n",
            "   hours_per_week  native_country  income  \n",
            "0              40              39       0  \n",
            "1              13              39       0  \n",
            "2              40              39       0  \n",
            "3              40              39       0  \n",
            "4              40               5       0  \n"
          ]
        }
      ]
    },
    {
      "cell_type": "code",
      "source": [
        "import matplotlib.pyplot as plt\n",
        "import networkx as nx\n",
        "\n",
        "plt.figure(figsize=(15, 15))\n",
        "\n",
        "pos = nx.spring_layout(dag, k=0.5, iterations=100)  # k controls the distance between nodes\n",
        "\n",
        "nx.draw(dag, pos, with_labels=True,\n",
        "        node_size=4000,\n",
        "        node_color='lightblue',\n",
        "        font_size=10,\n",
        "        font_weight='bold',\n",
        "        edge_color='gray',\n",
        "        width=2)\n",
        "\n",
        "\n",
        "nx.draw_networkx_edge_labels(dag, pos, font_color='red')\n",
        "\n",
        "# Show the plot\n",
        "plt.title(\"Causal DAG Visualization\", size=15)\n",
        "plt.show()\n"
      ],
      "metadata": {
        "id": "wuz5nD1uK9N-",
        "colab": {
          "base_uri": "https://localhost:8080/",
          "height": 1000
        },
        "outputId": "b9d48f6f-ba67-4e68-c923-59a74a9d2d14"
      },
      "execution_count": 65,
      "outputs": [
        {
          "output_type": "display_data",
          "data": {
            "text/plain": [
              "<Figure size 1500x1500 with 1 Axes>"
            ],
            "image/png": "[encoded data removed]"
          },
          "metadata": {}
        }
      ]
    },
    {
      "cell_type": "code",
      "source": [
        "#Identifying Causal Effects Using Backdoor Criterion\n",
        "\"\"\"\n",
        "In this step, we identify the causal effects for each edge using DoWhy’s identify_effect method. For each pair of connected nodes, we will compute the causal effect.\n",
        "\n",
        "We define two methods to estimate the causal effects (weights):\n",
        "\n",
        "- Linear Regression (basic and interpretable).\n",
        "- Propensity Score Matching (adjusts for confounding by matching).\n",
        "\n",
        "Explanation of the Two Methods:\n",
        "Linear Regression: This method provides an interpretable and quick way to estimate causal effects. It works well when relationships between variables are linear or can be well-approximated by a linear model. It adjusts for confounders by including them in the regression.\n",
        "\n",
        "Propensity Score Matching (PSM): This method is used when we are concerned about confounding. PSM balances the treatment and control groups by matching units with similar propensity scores, ensuring that the observed confounders are balanced between groups. This method helps in reducing bias due to confounding.\n",
        "\"\"\""
      ],
      "metadata": {
        "id": "hisEKQjcK9Ly",
        "colab": {
          "base_uri": "https://localhost:8080/",
          "height": 122
        },
        "outputId": "4c742cc4-ec53-45ed-81df-9906bcb25942"
      },
      "execution_count": 59,
      "outputs": [
        {
          "output_type": "execute_result",
          "data": {
            "text/plain": [
              "'\\nIn this step, we identify the causal effects for each edge using DoWhy’s identify_effect method. For each pair of connected nodes, we will compute the causal effect.\\n\\nWe define two methods to estimate the causal effects (weights):\\n\\n- Linear Regression (basic and interpretable).\\n- Propensity Score Matching (adjusts for confounding by matching).\\n\\nExplanation of the Two Methods:\\nLinear Regression: This method provides an interpretable and quick way to estimate causal effects. It works well when relationships between variables are linear or can be well-approximated by a linear model. It adjusts for confounders by including them in the regression.\\n\\nPropensity Score Matching (PSM): This method is used when we are concerned about confounding. PSM balances the treatment and control groups by matching units with similar propensity scores, ensuring that the observed confounders are balanced between groups. This method helps in reducing bias due to confounding.\\n'"
            ],
            "application/vnd.google.colaboratory.intrinsic+json": {
              "type": "string"
            }
          },
          "metadata": {},
          "execution_count": 59
        }
      ]
    },
    {
      "cell_type": "code",
      "source": [
        "# Convert the graph to PyDot format\n",
        "pydot_graph = to_pydot(dag)\n",
        "\n",
        "# Loop through each edge in the DAG and estimate the causal effect\n",
        "causal_weights_lr = {}\n",
        "\n",
        "for treatment, outcome in dag.edges:\n",
        "    # Create the causal model for the current treatment-outcome pair\n",
        "    model = CausalModel(\n",
        "        data=df,\n",
        "        treatment=treatment,\n",
        "        outcome=outcome,\n",
        "        graph=pydot_graph.to_string()\n",
        "    )\n",
        "\n",
        "    # Identify the effect using the backdoor criterion\n",
        "    identified_estimand = model.identify_effect()\n",
        "    print(f\"Adjustment set for {treatment} -> {outcome}: {identified_estimand.get_backdoor_variables()}\")\n",
        "\n",
        "    # Estimate the causal effect using linear regression\n",
        "    estimate = model.estimate_effect(identified_estimand, method_name=\"backdoor.linear_regression\")\n",
        "    causal_weights_lr[(treatment, outcome)] = estimate.value\n",
        "    print(f\"Estimated causal effect (Linear Regression) of {treatment} on {outcome}: {estimate.value}\")"
      ],
      "metadata": {
        "id": "HDEVTIVvK9JJ",
        "colab": {
          "base_uri": "https://localhost:8080/"
        },
        "outputId": "edfbd393-a080-4907-94ed-1d03b0c8959b"
      },
      "execution_count": 66,
      "outputs": [
        {
          "output_type": "stream",
          "name": "stderr",
          "text": [
            "ERROR:dowhy.causal_graph:Error: Pygraphviz cannot be loaded. No module named 'pygraphviz'\n",
            "Trying pydot ...\n",
            "WARNING:dowhy.causal_model:There are an additional 3 variables in the dataset that are not in the graph. Variable names are: '['capital_gain', 'capital_loss', 'fnlwgt']'\n",
            "/usr/local/lib/python3.10/dist-packages/dowhy/causal_estimator.py:236: FutureWarning: The default of observed=False is deprecated and will be changed to True in a future version of pandas. Pass observed=False to retain current behavior or observed=True to adopt the future default and silence this warning.\n",
            "  by_effect_mods = data.groupby(effect_modifier_names)\n",
            "/usr/local/lib/python3.10/dist-packages/dowhy/causal_estimators/regression_estimator.py:179: FutureWarning: Series.__getitem__ treating keys as positions is deprecated. In a future version, integer keys will always be treated as labels (consistent with DataFrame behavior). To access a value by position, use `ser.iloc[pos]`\n",
            "  intercept_parameter = self.model.params[0]\n",
            "/usr/local/lib/python3.10/dist-packages/dowhy/causal_estimators/regression_estimator.py:179: FutureWarning: Series.__getitem__ treating keys as positions is deprecated. In a future version, integer keys will always be treated as labels (consistent with DataFrame behavior). To access a value by position, use `ser.iloc[pos]`\n",
            "  intercept_parameter = self.model.params[0]\n",
            "ERROR:dowhy.causal_graph:Error: Pygraphviz cannot be loaded. No module named 'pygraphviz'\n",
            "Trying pydot ...\n"
          ]
        },
        {
          "output_type": "stream",
          "name": "stdout",
          "text": [
            "Adjustment set for age -> education_num: []\n",
            "Estimated causal effect (Linear Regression) of age on education_num: 0.006302788105866597\n"
          ]
        },
        {
          "output_type": "stream",
          "name": "stderr",
          "text": [
            "WARNING:dowhy.causal_model:There are an additional 3 variables in the dataset that are not in the graph. Variable names are: '['capital_gain', 'capital_loss', 'fnlwgt']'\n",
            "/usr/local/lib/python3.10/dist-packages/dowhy/causal_estimator.py:236: FutureWarning: The default of observed=False is deprecated and will be changed to True in a future version of pandas. Pass observed=False to retain current behavior or observed=True to adopt the future default and silence this warning.\n",
            "  by_effect_mods = data.groupby(effect_modifier_names)\n",
            "/usr/local/lib/python3.10/dist-packages/dowhy/causal_estimators/regression_estimator.py:179: FutureWarning: Series.__getitem__ treating keys as positions is deprecated. In a future version, integer keys will always be treated as labels (consistent with DataFrame behavior). To access a value by position, use `ser.iloc[pos]`\n",
            "  intercept_parameter = self.model.params[0]\n",
            "/usr/local/lib/python3.10/dist-packages/dowhy/causal_estimators/regression_estimator.py:179: FutureWarning: Series.__getitem__ treating keys as positions is deprecated. In a future version, integer keys will always be treated as labels (consistent with DataFrame behavior). To access a value by position, use `ser.iloc[pos]`\n",
            "  intercept_parameter = self.model.params[0]\n",
            "ERROR:dowhy.causal_graph:Error: Pygraphviz cannot be loaded. No module named 'pygraphviz'\n",
            "Trying pydot ...\n"
          ]
        },
        {
          "output_type": "stream",
          "name": "stdout",
          "text": [
            "Adjustment set for age -> hours_per_week: []\n",
            "Estimated causal effect (Linear Regression) of age on hours_per_week: 0.04905205059907303\n"
          ]
        },
        {
          "output_type": "stream",
          "name": "stderr",
          "text": [
            "WARNING:dowhy.causal_model:There are an additional 3 variables in the dataset that are not in the graph. Variable names are: '['capital_gain', 'capital_loss', 'fnlwgt']'\n",
            "/usr/local/lib/python3.10/dist-packages/dowhy/causal_estimator.py:236: FutureWarning: The default of observed=False is deprecated and will be changed to True in a future version of pandas. Pass observed=False to retain current behavior or observed=True to adopt the future default and silence this warning.\n",
            "  by_effect_mods = data.groupby(effect_modifier_names)\n",
            "/usr/local/lib/python3.10/dist-packages/dowhy/causal_estimators/regression_estimator.py:179: FutureWarning: Series.__getitem__ treating keys as positions is deprecated. In a future version, integer keys will always be treated as labels (consistent with DataFrame behavior). To access a value by position, use `ser.iloc[pos]`\n",
            "  intercept_parameter = self.model.params[0]\n",
            "/usr/local/lib/python3.10/dist-packages/dowhy/causal_estimators/regression_estimator.py:179: FutureWarning: Series.__getitem__ treating keys as positions is deprecated. In a future version, integer keys will always be treated as labels (consistent with DataFrame behavior). To access a value by position, use `ser.iloc[pos]`\n",
            "  intercept_parameter = self.model.params[0]\n",
            "ERROR:dowhy.causal_graph:Error: Pygraphviz cannot be loaded. No module named 'pygraphviz'\n",
            "Trying pydot ...\n"
          ]
        },
        {
          "output_type": "stream",
          "name": "stdout",
          "text": [
            "Adjustment set for age -> income: []\n",
            "Estimated causal effect (Linear Regression) of age on income: 0.0068145024946321825\n"
          ]
        },
        {
          "output_type": "stream",
          "name": "stderr",
          "text": [
            "WARNING:dowhy.causal_model:There are an additional 3 variables in the dataset that are not in the graph. Variable names are: '['capital_gain', 'capital_loss', 'fnlwgt']'\n",
            "/usr/local/lib/python3.10/dist-packages/dowhy/causal_estimator.py:236: FutureWarning: The default of observed=False is deprecated and will be changed to True in a future version of pandas. Pass observed=False to retain current behavior or observed=True to adopt the future default and silence this warning.\n",
            "  by_effect_mods = data.groupby(effect_modifier_names)\n",
            "/usr/local/lib/python3.10/dist-packages/dowhy/causal_estimators/regression_estimator.py:179: FutureWarning: Series.__getitem__ treating keys as positions is deprecated. In a future version, integer keys will always be treated as labels (consistent with DataFrame behavior). To access a value by position, use `ser.iloc[pos]`\n",
            "  intercept_parameter = self.model.params[0]\n",
            "/usr/local/lib/python3.10/dist-packages/dowhy/causal_estimators/regression_estimator.py:179: FutureWarning: Series.__getitem__ treating keys as positions is deprecated. In a future version, integer keys will always be treated as labels (consistent with DataFrame behavior). To access a value by position, use `ser.iloc[pos]`\n",
            "  intercept_parameter = self.model.params[0]\n",
            "ERROR:dowhy.causal_graph:Error: Pygraphviz cannot be loaded. No module named 'pygraphviz'\n",
            "Trying pydot ...\n"
          ]
        },
        {
          "output_type": "stream",
          "name": "stdout",
          "text": [
            "Adjustment set for age -> marital_status: []\n",
            "Estimated causal effect (Linear Regression) of age on marital_status: -0.028291456567167028\n"
          ]
        },
        {
          "output_type": "stream",
          "name": "stderr",
          "text": [
            "WARNING:dowhy.causal_model:There are an additional 3 variables in the dataset that are not in the graph. Variable names are: '['capital_gain', 'capital_loss', 'fnlwgt']'\n",
            "/usr/local/lib/python3.10/dist-packages/dowhy/causal_estimator.py:236: FutureWarning: The default of observed=False is deprecated and will be changed to True in a future version of pandas. Pass observed=False to retain current behavior or observed=True to adopt the future default and silence this warning.\n",
            "  by_effect_mods = data.groupby(effect_modifier_names)\n",
            "/usr/local/lib/python3.10/dist-packages/dowhy/causal_estimators/regression_estimator.py:179: FutureWarning: Series.__getitem__ treating keys as positions is deprecated. In a future version, integer keys will always be treated as labels (consistent with DataFrame behavior). To access a value by position, use `ser.iloc[pos]`\n",
            "  intercept_parameter = self.model.params[0]\n",
            "/usr/local/lib/python3.10/dist-packages/dowhy/causal_estimators/regression_estimator.py:179: FutureWarning: Series.__getitem__ treating keys as positions is deprecated. In a future version, integer keys will always be treated as labels (consistent with DataFrame behavior). To access a value by position, use `ser.iloc[pos]`\n",
            "  intercept_parameter = self.model.params[0]\n",
            "ERROR:dowhy.causal_graph:Error: Pygraphviz cannot be loaded. No module named 'pygraphviz'\n",
            "Trying pydot ...\n"
          ]
        },
        {
          "output_type": "stream",
          "name": "stdout",
          "text": [
            "Adjustment set for age -> occupation: []\n",
            "Estimated causal effect (Linear Regression) of age on occupation: -0.008197143921305106\n"
          ]
        },
        {
          "output_type": "stream",
          "name": "stderr",
          "text": [
            "WARNING:dowhy.causal_model:There are an additional 3 variables in the dataset that are not in the graph. Variable names are: '['capital_gain', 'capital_loss', 'fnlwgt']'\n",
            "/usr/local/lib/python3.10/dist-packages/dowhy/causal_estimator.py:236: FutureWarning: The default of observed=False is deprecated and will be changed to True in a future version of pandas. Pass observed=False to retain current behavior or observed=True to adopt the future default and silence this warning.\n",
            "  by_effect_mods = data.groupby(effect_modifier_names)\n",
            "/usr/local/lib/python3.10/dist-packages/dowhy/causal_estimators/regression_estimator.py:179: FutureWarning: Series.__getitem__ treating keys as positions is deprecated. In a future version, integer keys will always be treated as labels (consistent with DataFrame behavior). To access a value by position, use `ser.iloc[pos]`\n",
            "  intercept_parameter = self.model.params[0]\n",
            "/usr/local/lib/python3.10/dist-packages/dowhy/causal_estimators/regression_estimator.py:179: FutureWarning: Series.__getitem__ treating keys as positions is deprecated. In a future version, integer keys will always be treated as labels (consistent with DataFrame behavior). To access a value by position, use `ser.iloc[pos]`\n",
            "  intercept_parameter = self.model.params[0]\n",
            "ERROR:dowhy.causal_graph:Error: Pygraphviz cannot be loaded. No module named 'pygraphviz'\n",
            "Trying pydot ...\n"
          ]
        },
        {
          "output_type": "stream",
          "name": "stdout",
          "text": [
            "Adjustment set for age -> relationship: []\n",
            "Estimated causal effect (Linear Regression) of age on relationship: -0.026191435808927466\n"
          ]
        },
        {
          "output_type": "stream",
          "name": "stderr",
          "text": [
            "WARNING:dowhy.causal_model:There are an additional 3 variables in the dataset that are not in the graph. Variable names are: '['capital_gain', 'capital_loss', 'fnlwgt']'\n",
            "/usr/local/lib/python3.10/dist-packages/dowhy/causal_estimator.py:236: FutureWarning: The default of observed=False is deprecated and will be changed to True in a future version of pandas. Pass observed=False to retain current behavior or observed=True to adopt the future default and silence this warning.\n",
            "  by_effect_mods = data.groupby(effect_modifier_names)\n",
            "/usr/local/lib/python3.10/dist-packages/dowhy/causal_estimators/regression_estimator.py:179: FutureWarning: Series.__getitem__ treating keys as positions is deprecated. In a future version, integer keys will always be treated as labels (consistent with DataFrame behavior). To access a value by position, use `ser.iloc[pos]`\n",
            "  intercept_parameter = self.model.params[0]\n",
            "/usr/local/lib/python3.10/dist-packages/dowhy/causal_estimators/regression_estimator.py:179: FutureWarning: Series.__getitem__ treating keys as positions is deprecated. In a future version, integer keys will always be treated as labels (consistent with DataFrame behavior). To access a value by position, use `ser.iloc[pos]`\n",
            "  intercept_parameter = self.model.params[0]\n",
            "ERROR:dowhy.causal_graph:Error: Pygraphviz cannot be loaded. No module named 'pygraphviz'\n",
            "Trying pydot ...\n"
          ]
        },
        {
          "output_type": "stream",
          "name": "stdout",
          "text": [
            "Adjustment set for age -> work_class: []\n",
            "Estimated causal effect (Linear Regression) of age on work_class: -0.0004277844725746327\n"
          ]
        },
        {
          "output_type": "stream",
          "name": "stderr",
          "text": [
            "WARNING:dowhy.causal_model:There are an additional 3 variables in the dataset that are not in the graph. Variable names are: '['capital_gain', 'capital_loss', 'fnlwgt']'\n",
            "/usr/local/lib/python3.10/dist-packages/dowhy/causal_estimators/regression_estimator.py:179: FutureWarning: Series.__getitem__ treating keys as positions is deprecated. In a future version, integer keys will always be treated as labels (consistent with DataFrame behavior). To access a value by position, use `ser.iloc[pos]`\n",
            "  intercept_parameter = self.model.params[0]\n",
            "ERROR:dowhy.causal_graph:Error: Pygraphviz cannot be loaded. No module named 'pygraphviz'\n",
            "Trying pydot ...\n",
            "WARNING:dowhy.causal_model:There are an additional 3 variables in the dataset that are not in the graph. Variable names are: '['capital_gain', 'capital_loss', 'fnlwgt']'\n"
          ]
        },
        {
          "output_type": "stream",
          "name": "stdout",
          "text": [
            "Adjustment set for education_num -> education: ['native_country', 'sex', 'race', 'age', 'marital_status']\n",
            "Estimated causal effect (Linear Regression) of education_num on education: 0.5364528025830699\n"
          ]
        },
        {
          "output_type": "stream",
          "name": "stderr",
          "text": [
            "/usr/local/lib/python3.10/dist-packages/dowhy/causal_estimators/regression_estimator.py:179: FutureWarning: Series.__getitem__ treating keys as positions is deprecated. In a future version, integer keys will always be treated as labels (consistent with DataFrame behavior). To access a value by position, use `ser.iloc[pos]`\n",
            "  intercept_parameter = self.model.params[0]\n",
            "ERROR:dowhy.causal_graph:Error: Pygraphviz cannot be loaded. No module named 'pygraphviz'\n",
            "Trying pydot ...\n"
          ]
        },
        {
          "output_type": "stream",
          "name": "stdout",
          "text": [
            "Adjustment set for education_num -> hours_per_week: ['native_country', 'sex', 'race', 'age', 'marital_status']\n",
            "Estimated causal effect (Linear Regression) of education_num on hours_per_week: 0.6486207736448364\n"
          ]
        },
        {
          "output_type": "stream",
          "name": "stderr",
          "text": [
            "WARNING:dowhy.causal_model:There are an additional 3 variables in the dataset that are not in the graph. Variable names are: '['capital_gain', 'capital_loss', 'fnlwgt']'\n",
            "/usr/local/lib/python3.10/dist-packages/dowhy/causal_estimators/regression_estimator.py:179: FutureWarning: Series.__getitem__ treating keys as positions is deprecated. In a future version, integer keys will always be treated as labels (consistent with DataFrame behavior). To access a value by position, use `ser.iloc[pos]`\n",
            "  intercept_parameter = self.model.params[0]\n",
            "ERROR:dowhy.causal_graph:Error: Pygraphviz cannot be loaded. No module named 'pygraphviz'\n",
            "Trying pydot ...\n"
          ]
        },
        {
          "output_type": "stream",
          "name": "stdout",
          "text": [
            "Adjustment set for education_num -> income: ['native_country', 'sex', 'race', 'age', 'marital_status']\n",
            "Estimated causal effect (Linear Regression) of education_num on income: 0.05292035373681139\n"
          ]
        },
        {
          "output_type": "stream",
          "name": "stderr",
          "text": [
            "WARNING:dowhy.causal_model:There are an additional 3 variables in the dataset that are not in the graph. Variable names are: '['capital_gain', 'capital_loss', 'fnlwgt']'\n",
            "/usr/local/lib/python3.10/dist-packages/dowhy/causal_estimators/regression_estimator.py:179: FutureWarning: Series.__getitem__ treating keys as positions is deprecated. In a future version, integer keys will always be treated as labels (consistent with DataFrame behavior). To access a value by position, use `ser.iloc[pos]`\n",
            "  intercept_parameter = self.model.params[0]\n",
            "ERROR:dowhy.causal_graph:Error: Pygraphviz cannot be loaded. No module named 'pygraphviz'\n",
            "Trying pydot ...\n",
            "WARNING:dowhy.causal_model:There are an additional 3 variables in the dataset that are not in the graph. Variable names are: '['capital_gain', 'capital_loss', 'fnlwgt']'\n"
          ]
        },
        {
          "output_type": "stream",
          "name": "stdout",
          "text": [
            "Adjustment set for education_num -> occupation: ['native_country', 'sex', 'race', 'age', 'marital_status']\n",
            "Estimated causal effect (Linear Regression) of education_num on occupation: 0.18204316722517255\n",
            "Adjustment set for education_num -> work_class: ['native_country', 'sex', 'race', 'age', 'marital_status']\n"
          ]
        },
        {
          "output_type": "stream",
          "name": "stderr",
          "text": [
            "/usr/local/lib/python3.10/dist-packages/dowhy/causal_estimators/regression_estimator.py:179: FutureWarning: Series.__getitem__ treating keys as positions is deprecated. In a future version, integer keys will always be treated as labels (consistent with DataFrame behavior). To access a value by position, use `ser.iloc[pos]`\n",
            "  intercept_parameter = self.model.params[0]\n",
            "ERROR:dowhy.causal_graph:Error: Pygraphviz cannot be loaded. No module named 'pygraphviz'\n",
            "Trying pydot ...\n",
            "WARNING:dowhy.causal_model:There are an additional 3 variables in the dataset that are not in the graph. Variable names are: '['capital_gain', 'capital_loss', 'fnlwgt']'\n"
          ]
        },
        {
          "output_type": "stream",
          "name": "stdout",
          "text": [
            "Estimated causal effect (Linear Regression) of education_num on work_class: 0.026958442280564654\n",
            "Adjustment set for hours_per_week -> income: ['native_country', 'sex', 'race', 'age', 'education_num', 'marital_status']\n"
          ]
        },
        {
          "output_type": "stream",
          "name": "stderr",
          "text": [
            "/usr/local/lib/python3.10/dist-packages/dowhy/causal_estimator.py:236: FutureWarning: The default of observed=False is deprecated and will be changed to True in a future version of pandas. Pass observed=False to retain current behavior or observed=True to adopt the future default and silence this warning.\n",
            "  by_effect_mods = data.groupby(effect_modifier_names)\n",
            "/usr/local/lib/python3.10/dist-packages/dowhy/causal_estimators/regression_estimator.py:179: FutureWarning: Series.__getitem__ treating keys as positions is deprecated. In a future version, integer keys will always be treated as labels (consistent with DataFrame behavior). To access a value by position, use `ser.iloc[pos]`\n",
            "  intercept_parameter = self.model.params[0]\n",
            "/usr/local/lib/python3.10/dist-packages/dowhy/causal_estimators/regression_estimator.py:179: FutureWarning: Series.__getitem__ treating keys as positions is deprecated. In a future version, integer keys will always be treated as labels (consistent with DataFrame behavior). To access a value by position, use `ser.iloc[pos]`\n",
            "  intercept_parameter = self.model.params[0]\n",
            "/usr/local/lib/python3.10/dist-packages/dowhy/causal_estimators/regression_estimator.py:179: FutureWarning: Series.__getitem__ treating keys as positions is deprecated. In a future version, integer keys will always be treated as labels (consistent with DataFrame behavior). To access a value by position, use `ser.iloc[pos]`\n",
            "  intercept_parameter = self.model.params[0]\n",
            "/usr/local/lib/python3.10/dist-packages/dowhy/causal_estimators/regression_estimator.py:179: FutureWarning: Series.__getitem__ treating keys as positions is deprecated. In a future version, integer keys will always be treated as labels (consistent with DataFrame behavior). To access a value by position, use `ser.iloc[pos]`\n",
            "  intercept_parameter = self.model.params[0]\n",
            "/usr/local/lib/python3.10/dist-packages/dowhy/causal_estimators/regression_estimator.py:179: FutureWarning: Series.__getitem__ treating keys as positions is deprecated. In a future version, integer keys will always be treated as labels (consistent with DataFrame behavior). To access a value by position, use `ser.iloc[pos]`\n",
            "  intercept_parameter = self.model.params[0]\n",
            "/usr/local/lib/python3.10/dist-packages/dowhy/causal_estimators/regression_estimator.py:179: FutureWarning: Series.__getitem__ treating keys as positions is deprecated. In a future version, integer keys will always be treated as labels (consistent with DataFrame behavior). To access a value by position, use `ser.iloc[pos]`\n",
            "  intercept_parameter = self.model.params[0]\n",
            "/usr/local/lib/python3.10/dist-packages/dowhy/causal_estimators/regression_estimator.py:179: FutureWarning: Series.__getitem__ treating keys as positions is deprecated. In a future version, integer keys will always be treated as labels (consistent with DataFrame behavior). To access a value by position, use `ser.iloc[pos]`\n",
            "  intercept_parameter = self.model.params[0]\n",
            "/usr/local/lib/python3.10/dist-packages/dowhy/causal_estimators/regression_estimator.py:179: FutureWarning: Series.__getitem__ treating keys as positions is deprecated. In a future version, integer keys will always be treated as labels (consistent with DataFrame behavior). To access a value by position, use `ser.iloc[pos]`\n",
            "  intercept_parameter = self.model.params[0]\n",
            "/usr/local/lib/python3.10/dist-packages/dowhy/causal_estimators/regression_estimator.py:179: FutureWarning: Series.__getitem__ treating keys as positions is deprecated. In a future version, integer keys will always be treated as labels (consistent with DataFrame behavior). To access a value by position, use `ser.iloc[pos]`\n",
            "  intercept_parameter = self.model.params[0]\n",
            "/usr/local/lib/python3.10/dist-packages/dowhy/causal_estimators/regression_estimator.py:179: FutureWarning: Series.__getitem__ treating keys as positions is deprecated. In a future version, integer keys will always be treated as labels (consistent with DataFrame behavior). To access a value by position, use `ser.iloc[pos]`\n",
            "  intercept_parameter = self.model.params[0]\n",
            "ERROR:dowhy.causal_graph:Error: Pygraphviz cannot be loaded. No module named 'pygraphviz'\n",
            "Trying pydot ...\n",
            "WARNING:dowhy.causal_model:There are an additional 3 variables in the dataset that are not in the graph. Variable names are: '['capital_gain', 'capital_loss', 'fnlwgt']'\n"
          ]
        },
        {
          "output_type": "stream",
          "name": "stdout",
          "text": [
            "Estimated causal effect (Linear Regression) of hours_per_week on income: 0.004133400892905578\n",
            "Adjustment set for hours_per_week -> relationship: ['sex', 'age']\n"
          ]
        },
        {
          "output_type": "stream",
          "name": "stderr",
          "text": [
            "/usr/local/lib/python3.10/dist-packages/dowhy/causal_estimators/regression_estimator.py:179: FutureWarning: Series.__getitem__ treating keys as positions is deprecated. In a future version, integer keys will always be treated as labels (consistent with DataFrame behavior). To access a value by position, use `ser.iloc[pos]`\n",
            "  intercept_parameter = self.model.params[0]\n",
            "ERROR:dowhy.causal_graph:Error: Pygraphviz cannot be loaded. No module named 'pygraphviz'\n",
            "Trying pydot ...\n",
            "WARNING:dowhy.causal_model:There are an additional 3 variables in the dataset that are not in the graph. Variable names are: '['capital_gain', 'capital_loss', 'fnlwgt']'\n"
          ]
        },
        {
          "output_type": "stream",
          "name": "stdout",
          "text": [
            "Estimated causal effect (Linear Regression) of hours_per_week on relationship: -0.01446836788010053\n",
            "Adjustment set for income -> education: ['native_country', 'occupation', 'education_num']\n"
          ]
        },
        {
          "output_type": "stream",
          "name": "stderr",
          "text": [
            "/usr/local/lib/python3.10/dist-packages/dowhy/causal_estimators/regression_estimator.py:179: FutureWarning: Series.__getitem__ treating keys as positions is deprecated. In a future version, integer keys will always be treated as labels (consistent with DataFrame behavior). To access a value by position, use `ser.iloc[pos]`\n",
            "  intercept_parameter = self.model.params[0]\n",
            "ERROR:dowhy.causal_graph:Error: Pygraphviz cannot be loaded. No module named 'pygraphviz'\n",
            "Trying pydot ...\n",
            "WARNING:dowhy.causal_model:There are an additional 3 variables in the dataset that are not in the graph. Variable names are: '['capital_gain', 'capital_loss', 'fnlwgt']'\n",
            "/usr/local/lib/python3.10/dist-packages/dowhy/causal_estimators/regression_estimator.py:179: FutureWarning: Series.__getitem__ treating keys as positions is deprecated. In a future version, integer keys will always be treated as labels (consistent with DataFrame behavior). To access a value by position, use `ser.iloc[pos]`\n",
            "  intercept_parameter = self.model.params[0]\n",
            "ERROR:dowhy.causal_graph:Error: Pygraphviz cannot be loaded. No module named 'pygraphviz'\n",
            "Trying pydot ...\n"
          ]
        },
        {
          "output_type": "stream",
          "name": "stdout",
          "text": [
            "Estimated causal effect (Linear Regression) of income on education: -0.39485373735639584\n",
            "Adjustment set for marital_status -> education_num: ['race', 'native_country', 'age', 'sex']\n",
            "Estimated causal effect (Linear Regression) of marital_status on education_num: -0.10494935588027055\n"
          ]
        },
        {
          "output_type": "stream",
          "name": "stderr",
          "text": [
            "WARNING:dowhy.causal_model:There are an additional 3 variables in the dataset that are not in the graph. Variable names are: '['capital_gain', 'capital_loss', 'fnlwgt']'\n",
            "/usr/local/lib/python3.10/dist-packages/dowhy/causal_estimators/regression_estimator.py:179: FutureWarning: Series.__getitem__ treating keys as positions is deprecated. In a future version, integer keys will always be treated as labels (consistent with DataFrame behavior). To access a value by position, use `ser.iloc[pos]`\n",
            "  intercept_parameter = self.model.params[0]\n",
            "ERROR:dowhy.causal_graph:Error: Pygraphviz cannot be loaded. No module named 'pygraphviz'\n",
            "Trying pydot ...\n"
          ]
        },
        {
          "output_type": "stream",
          "name": "stdout",
          "text": [
            "Adjustment set for marital_status -> hours_per_week: ['race', 'native_country', 'age', 'sex']\n",
            "Estimated causal effect (Linear Regression) of marital_status on hours_per_week: -1.3210140781020527\n"
          ]
        },
        {
          "output_type": "stream",
          "name": "stderr",
          "text": [
            "WARNING:dowhy.causal_model:There are an additional 3 variables in the dataset that are not in the graph. Variable names are: '['capital_gain', 'capital_loss', 'fnlwgt']'\n",
            "/usr/local/lib/python3.10/dist-packages/dowhy/causal_estimators/regression_estimator.py:179: FutureWarning: Series.__getitem__ treating keys as positions is deprecated. In a future version, integer keys will always be treated as labels (consistent with DataFrame behavior). To access a value by position, use `ser.iloc[pos]`\n",
            "  intercept_parameter = self.model.params[0]\n",
            "ERROR:dowhy.causal_graph:Error: Pygraphviz cannot be loaded. No module named 'pygraphviz'\n",
            "Trying pydot ...\n"
          ]
        },
        {
          "output_type": "stream",
          "name": "stdout",
          "text": [
            "Adjustment set for marital_status -> income: ['race', 'native_country', 'age', 'sex']\n",
            "Estimated causal effect (Linear Regression) of marital_status on income: -0.035215762710961496\n"
          ]
        },
        {
          "output_type": "stream",
          "name": "stderr",
          "text": [
            "WARNING:dowhy.causal_model:There are an additional 3 variables in the dataset that are not in the graph. Variable names are: '['capital_gain', 'capital_loss', 'fnlwgt']'\n",
            "/usr/local/lib/python3.10/dist-packages/dowhy/causal_estimators/regression_estimator.py:179: FutureWarning: Series.__getitem__ treating keys as positions is deprecated. In a future version, integer keys will always be treated as labels (consistent with DataFrame behavior). To access a value by position, use `ser.iloc[pos]`\n",
            "  intercept_parameter = self.model.params[0]\n",
            "ERROR:dowhy.causal_graph:Error: Pygraphviz cannot be loaded. No module named 'pygraphviz'\n",
            "Trying pydot ...\n"
          ]
        },
        {
          "output_type": "stream",
          "name": "stdout",
          "text": [
            "Adjustment set for marital_status -> occupation: ['race', 'native_country', 'age', 'sex']\n",
            "Estimated causal effect (Linear Regression) of marital_status on occupation: -0.02050221388465978\n"
          ]
        },
        {
          "output_type": "stream",
          "name": "stderr",
          "text": [
            "WARNING:dowhy.causal_model:There are an additional 3 variables in the dataset that are not in the graph. Variable names are: '['capital_gain', 'capital_loss', 'fnlwgt']'\n",
            "/usr/local/lib/python3.10/dist-packages/dowhy/causal_estimators/regression_estimator.py:179: FutureWarning: Series.__getitem__ treating keys as positions is deprecated. In a future version, integer keys will always be treated as labels (consistent with DataFrame behavior). To access a value by position, use `ser.iloc[pos]`\n",
            "  intercept_parameter = self.model.params[0]\n",
            "ERROR:dowhy.causal_graph:Error: Pygraphviz cannot be loaded. No module named 'pygraphviz'\n",
            "Trying pydot ...\n"
          ]
        },
        {
          "output_type": "stream",
          "name": "stdout",
          "text": [
            "Adjustment set for marital_status -> work_class: ['race', 'native_country', 'age', 'sex']\n",
            "Estimated causal effect (Linear Regression) of marital_status on work_class: -0.05454175411138573\n"
          ]
        },
        {
          "output_type": "stream",
          "name": "stderr",
          "text": [
            "WARNING:dowhy.causal_model:There are an additional 3 variables in the dataset that are not in the graph. Variable names are: '['capital_gain', 'capital_loss', 'fnlwgt']'\n"
          ]
        },
        {
          "output_type": "stream",
          "name": "stdout",
          "text": [
            "Adjustment set for occupation -> education: ['native_country', 'sex', 'race', 'age', 'education_num', 'marital_status']\n"
          ]
        },
        {
          "output_type": "stream",
          "name": "stderr",
          "text": [
            "/usr/local/lib/python3.10/dist-packages/dowhy/causal_estimator.py:236: FutureWarning: The default of observed=False is deprecated and will be changed to True in a future version of pandas. Pass observed=False to retain current behavior or observed=True to adopt the future default and silence this warning.\n",
            "  by_effect_mods = data.groupby(effect_modifier_names)\n",
            "/usr/local/lib/python3.10/dist-packages/dowhy/causal_estimators/regression_estimator.py:179: FutureWarning: Series.__getitem__ treating keys as positions is deprecated. In a future version, integer keys will always be treated as labels (consistent with DataFrame behavior). To access a value by position, use `ser.iloc[pos]`\n",
            "  intercept_parameter = self.model.params[0]\n",
            "/usr/local/lib/python3.10/dist-packages/dowhy/causal_estimators/regression_estimator.py:179: FutureWarning: Series.__getitem__ treating keys as positions is deprecated. In a future version, integer keys will always be treated as labels (consistent with DataFrame behavior). To access a value by position, use `ser.iloc[pos]`\n",
            "  intercept_parameter = self.model.params[0]\n",
            "/usr/local/lib/python3.10/dist-packages/dowhy/causal_estimators/regression_estimator.py:179: FutureWarning: Series.__getitem__ treating keys as positions is deprecated. In a future version, integer keys will always be treated as labels (consistent with DataFrame behavior). To access a value by position, use `ser.iloc[pos]`\n",
            "  intercept_parameter = self.model.params[0]\n",
            "/usr/local/lib/python3.10/dist-packages/dowhy/causal_estimators/regression_estimator.py:179: FutureWarning: Series.__getitem__ treating keys as positions is deprecated. In a future version, integer keys will always be treated as labels (consistent with DataFrame behavior). To access a value by position, use `ser.iloc[pos]`\n",
            "  intercept_parameter = self.model.params[0]\n",
            "/usr/local/lib/python3.10/dist-packages/dowhy/causal_estimators/regression_estimator.py:179: FutureWarning: Series.__getitem__ treating keys as positions is deprecated. In a future version, integer keys will always be treated as labels (consistent with DataFrame behavior). To access a value by position, use `ser.iloc[pos]`\n",
            "  intercept_parameter = self.model.params[0]\n",
            "/usr/local/lib/python3.10/dist-packages/dowhy/causal_estimators/regression_estimator.py:179: FutureWarning: Series.__getitem__ treating keys as positions is deprecated. In a future version, integer keys will always be treated as labels (consistent with DataFrame behavior). To access a value by position, use `ser.iloc[pos]`\n",
            "  intercept_parameter = self.model.params[0]\n",
            "/usr/local/lib/python3.10/dist-packages/dowhy/causal_estimators/regression_estimator.py:179: FutureWarning: Series.__getitem__ treating keys as positions is deprecated. In a future version, integer keys will always be treated as labels (consistent with DataFrame behavior). To access a value by position, use `ser.iloc[pos]`\n",
            "  intercept_parameter = self.model.params[0]\n",
            "/usr/local/lib/python3.10/dist-packages/dowhy/causal_estimators/regression_estimator.py:179: FutureWarning: Series.__getitem__ treating keys as positions is deprecated. In a future version, integer keys will always be treated as labels (consistent with DataFrame behavior). To access a value by position, use `ser.iloc[pos]`\n",
            "  intercept_parameter = self.model.params[0]\n",
            "ERROR:dowhy.causal_graph:Error: Pygraphviz cannot be loaded. No module named 'pygraphviz'\n",
            "Trying pydot ...\n",
            "WARNING:dowhy.causal_model:There are an additional 3 variables in the dataset that are not in the graph. Variable names are: '['capital_gain', 'capital_loss', 'fnlwgt']'\n"
          ]
        },
        {
          "output_type": "stream",
          "name": "stdout",
          "text": [
            "Estimated causal effect (Linear Regression) of occupation on education: -0.055509896983990004\n",
            "Adjustment set for occupation -> income: ['native_country', 'sex', 'race', 'age', 'education_num', 'marital_status']\n"
          ]
        },
        {
          "output_type": "stream",
          "name": "stderr",
          "text": [
            "/usr/local/lib/python3.10/dist-packages/dowhy/causal_estimator.py:236: FutureWarning: The default of observed=False is deprecated and will be changed to True in a future version of pandas. Pass observed=False to retain current behavior or observed=True to adopt the future default and silence this warning.\n",
            "  by_effect_mods = data.groupby(effect_modifier_names)\n",
            "/usr/local/lib/python3.10/dist-packages/dowhy/causal_estimators/regression_estimator.py:179: FutureWarning: Series.__getitem__ treating keys as positions is deprecated. In a future version, integer keys will always be treated as labels (consistent with DataFrame behavior). To access a value by position, use `ser.iloc[pos]`\n",
            "  intercept_parameter = self.model.params[0]\n",
            "/usr/local/lib/python3.10/dist-packages/dowhy/causal_estimators/regression_estimator.py:179: FutureWarning: Series.__getitem__ treating keys as positions is deprecated. In a future version, integer keys will always be treated as labels (consistent with DataFrame behavior). To access a value by position, use `ser.iloc[pos]`\n",
            "  intercept_parameter = self.model.params[0]\n",
            "/usr/local/lib/python3.10/dist-packages/dowhy/causal_estimators/regression_estimator.py:179: FutureWarning: Series.__getitem__ treating keys as positions is deprecated. In a future version, integer keys will always be treated as labels (consistent with DataFrame behavior). To access a value by position, use `ser.iloc[pos]`\n",
            "  intercept_parameter = self.model.params[0]\n",
            "/usr/local/lib/python3.10/dist-packages/dowhy/causal_estimators/regression_estimator.py:179: FutureWarning: Series.__getitem__ treating keys as positions is deprecated. In a future version, integer keys will always be treated as labels (consistent with DataFrame behavior). To access a value by position, use `ser.iloc[pos]`\n",
            "  intercept_parameter = self.model.params[0]\n",
            "/usr/local/lib/python3.10/dist-packages/dowhy/causal_estimators/regression_estimator.py:179: FutureWarning: Series.__getitem__ treating keys as positions is deprecated. In a future version, integer keys will always be treated as labels (consistent with DataFrame behavior). To access a value by position, use `ser.iloc[pos]`\n",
            "  intercept_parameter = self.model.params[0]\n",
            "/usr/local/lib/python3.10/dist-packages/dowhy/causal_estimators/regression_estimator.py:179: FutureWarning: Series.__getitem__ treating keys as positions is deprecated. In a future version, integer keys will always be treated as labels (consistent with DataFrame behavior). To access a value by position, use `ser.iloc[pos]`\n",
            "  intercept_parameter = self.model.params[0]\n",
            "/usr/local/lib/python3.10/dist-packages/dowhy/causal_estimators/regression_estimator.py:179: FutureWarning: Series.__getitem__ treating keys as positions is deprecated. In a future version, integer keys will always be treated as labels (consistent with DataFrame behavior). To access a value by position, use `ser.iloc[pos]`\n",
            "  intercept_parameter = self.model.params[0]\n",
            "/usr/local/lib/python3.10/dist-packages/dowhy/causal_estimators/regression_estimator.py:179: FutureWarning: Series.__getitem__ treating keys as positions is deprecated. In a future version, integer keys will always be treated as labels (consistent with DataFrame behavior). To access a value by position, use `ser.iloc[pos]`\n",
            "  intercept_parameter = self.model.params[0]\n",
            "ERROR:dowhy.causal_graph:Error: Pygraphviz cannot be loaded. No module named 'pygraphviz'\n",
            "Trying pydot ...\n",
            "WARNING:dowhy.causal_model:There are an additional 3 variables in the dataset that are not in the graph. Variable names are: '['capital_gain', 'capital_loss', 'fnlwgt']'\n"
          ]
        },
        {
          "output_type": "stream",
          "name": "stdout",
          "text": [
            "Estimated causal effect (Linear Regression) of occupation on income: 0.0029656109625412763\n"
          ]
        },
        {
          "output_type": "stream",
          "name": "stderr",
          "text": [
            "/usr/local/lib/python3.10/dist-packages/dowhy/causal_estimator.py:236: FutureWarning: The default of observed=False is deprecated and will be changed to True in a future version of pandas. Pass observed=False to retain current behavior or observed=True to adopt the future default and silence this warning.\n",
            "  by_effect_mods = data.groupby(effect_modifier_names)\n"
          ]
        },
        {
          "output_type": "stream",
          "name": "stdout",
          "text": [
            "Adjustment set for work_class -> income: ['native_country', 'sex', 'race', 'age', 'education_num', 'marital_status']\n"
          ]
        },
        {
          "output_type": "stream",
          "name": "stderr",
          "text": [
            "/usr/local/lib/python3.10/dist-packages/dowhy/causal_estimators/regression_estimator.py:179: FutureWarning: Series.__getitem__ treating keys as positions is deprecated. In a future version, integer keys will always be treated as labels (consistent with DataFrame behavior). To access a value by position, use `ser.iloc[pos]`\n",
            "  intercept_parameter = self.model.params[0]\n",
            "/usr/local/lib/python3.10/dist-packages/dowhy/causal_estimators/regression_estimator.py:179: FutureWarning: Series.__getitem__ treating keys as positions is deprecated. In a future version, integer keys will always be treated as labels (consistent with DataFrame behavior). To access a value by position, use `ser.iloc[pos]`\n",
            "  intercept_parameter = self.model.params[0]\n",
            "/usr/local/lib/python3.10/dist-packages/dowhy/causal_estimators/regression_estimator.py:179: FutureWarning: Series.__getitem__ treating keys as positions is deprecated. In a future version, integer keys will always be treated as labels (consistent with DataFrame behavior). To access a value by position, use `ser.iloc[pos]`\n",
            "  intercept_parameter = self.model.params[0]\n",
            "/usr/local/lib/python3.10/dist-packages/dowhy/causal_estimators/regression_estimator.py:179: FutureWarning: Series.__getitem__ treating keys as positions is deprecated. In a future version, integer keys will always be treated as labels (consistent with DataFrame behavior). To access a value by position, use `ser.iloc[pos]`\n",
            "  intercept_parameter = self.model.params[0]\n",
            "/usr/local/lib/python3.10/dist-packages/dowhy/causal_estimators/regression_estimator.py:179: FutureWarning: Series.__getitem__ treating keys as positions is deprecated. In a future version, integer keys will always be treated as labels (consistent with DataFrame behavior). To access a value by position, use `ser.iloc[pos]`\n",
            "  intercept_parameter = self.model.params[0]\n",
            "/usr/local/lib/python3.10/dist-packages/dowhy/causal_estimators/regression_estimator.py:179: FutureWarning: Series.__getitem__ treating keys as positions is deprecated. In a future version, integer keys will always be treated as labels (consistent with DataFrame behavior). To access a value by position, use `ser.iloc[pos]`\n",
            "  intercept_parameter = self.model.params[0]\n",
            "/usr/local/lib/python3.10/dist-packages/dowhy/causal_estimators/regression_estimator.py:179: FutureWarning: Series.__getitem__ treating keys as positions is deprecated. In a future version, integer keys will always be treated as labels (consistent with DataFrame behavior). To access a value by position, use `ser.iloc[pos]`\n",
            "  intercept_parameter = self.model.params[0]\n",
            "/usr/local/lib/python3.10/dist-packages/dowhy/causal_estimators/regression_estimator.py:179: FutureWarning: Series.__getitem__ treating keys as positions is deprecated. In a future version, integer keys will always be treated as labels (consistent with DataFrame behavior). To access a value by position, use `ser.iloc[pos]`\n",
            "  intercept_parameter = self.model.params[0]\n",
            "/usr/local/lib/python3.10/dist-packages/dowhy/causal_estimators/regression_estimator.py:179: FutureWarning: Series.__getitem__ treating keys as positions is deprecated. In a future version, integer keys will always be treated as labels (consistent with DataFrame behavior). To access a value by position, use `ser.iloc[pos]`\n",
            "  intercept_parameter = self.model.params[0]\n",
            "/usr/local/lib/python3.10/dist-packages/dowhy/causal_estimators/regression_estimator.py:179: FutureWarning: Series.__getitem__ treating keys as positions is deprecated. In a future version, integer keys will always be treated as labels (consistent with DataFrame behavior). To access a value by position, use `ser.iloc[pos]`\n",
            "  intercept_parameter = self.model.params[0]\n",
            "/usr/local/lib/python3.10/dist-packages/dowhy/causal_estimators/regression_estimator.py:179: FutureWarning: Series.__getitem__ treating keys as positions is deprecated. In a future version, integer keys will always be treated as labels (consistent with DataFrame behavior). To access a value by position, use `ser.iloc[pos]`\n",
            "  intercept_parameter = self.model.params[0]\n",
            "/usr/local/lib/python3.10/dist-packages/dowhy/causal_estimators/regression_estimator.py:179: FutureWarning: Series.__getitem__ treating keys as positions is deprecated. In a future version, integer keys will always be treated as labels (consistent with DataFrame behavior). To access a value by position, use `ser.iloc[pos]`\n",
            "  intercept_parameter = self.model.params[0]\n",
            "/usr/local/lib/python3.10/dist-packages/dowhy/causal_estimators/regression_estimator.py:179: FutureWarning: Series.__getitem__ treating keys as positions is deprecated. In a future version, integer keys will always be treated as labels (consistent with DataFrame behavior). To access a value by position, use `ser.iloc[pos]`\n",
            "  intercept_parameter = self.model.params[0]\n",
            "/usr/local/lib/python3.10/dist-packages/dowhy/causal_estimators/regression_estimator.py:179: FutureWarning: Series.__getitem__ treating keys as positions is deprecated. In a future version, integer keys will always be treated as labels (consistent with DataFrame behavior). To access a value by position, use `ser.iloc[pos]`\n",
            "  intercept_parameter = self.model.params[0]\n",
            "/usr/local/lib/python3.10/dist-packages/dowhy/causal_estimators/regression_estimator.py:179: FutureWarning: Series.__getitem__ treating keys as positions is deprecated. In a future version, integer keys will always be treated as labels (consistent with DataFrame behavior). To access a value by position, use `ser.iloc[pos]`\n",
            "  intercept_parameter = self.model.params[0]\n",
            "/usr/local/lib/python3.10/dist-packages/dowhy/causal_estimators/regression_estimator.py:179: FutureWarning: Series.__getitem__ treating keys as positions is deprecated. In a future version, integer keys will always be treated as labels (consistent with DataFrame behavior). To access a value by position, use `ser.iloc[pos]`\n",
            "  intercept_parameter = self.model.params[0]\n",
            "/usr/local/lib/python3.10/dist-packages/dowhy/causal_estimators/regression_estimator.py:179: FutureWarning: Series.__getitem__ treating keys as positions is deprecated. In a future version, integer keys will always be treated as labels (consistent with DataFrame behavior). To access a value by position, use `ser.iloc[pos]`\n",
            "  intercept_parameter = self.model.params[0]\n",
            "/usr/local/lib/python3.10/dist-packages/dowhy/causal_estimators/regression_estimator.py:179: FutureWarning: Series.__getitem__ treating keys as positions is deprecated. In a future version, integer keys will always be treated as labels (consistent with DataFrame behavior). To access a value by position, use `ser.iloc[pos]`\n",
            "  intercept_parameter = self.model.params[0]\n",
            "/usr/local/lib/python3.10/dist-packages/dowhy/causal_estimators/regression_estimator.py:179: FutureWarning: Series.__getitem__ treating keys as positions is deprecated. In a future version, integer keys will always be treated as labels (consistent with DataFrame behavior). To access a value by position, use `ser.iloc[pos]`\n",
            "  intercept_parameter = self.model.params[0]\n",
            "/usr/local/lib/python3.10/dist-packages/dowhy/causal_estimators/regression_estimator.py:179: FutureWarning: Series.__getitem__ treating keys as positions is deprecated. In a future version, integer keys will always be treated as labels (consistent with DataFrame behavior). To access a value by position, use `ser.iloc[pos]`\n",
            "  intercept_parameter = self.model.params[0]\n",
            "ERROR:dowhy.causal_graph:Error: Pygraphviz cannot be loaded. No module named 'pygraphviz'\n",
            "Trying pydot ...\n",
            "WARNING:dowhy.causal_model:There are an additional 3 variables in the dataset that are not in the graph. Variable names are: '['capital_gain', 'capital_loss', 'fnlwgt']'\n"
          ]
        },
        {
          "output_type": "stream",
          "name": "stdout",
          "text": [
            "Estimated causal effect (Linear Regression) of work_class on income: 0.001835394150512426\n",
            "Adjustment set for native_country -> education: []\n"
          ]
        },
        {
          "output_type": "stream",
          "name": "stderr",
          "text": [
            "/usr/local/lib/python3.10/dist-packages/dowhy/causal_estimator.py:236: FutureWarning: The default of observed=False is deprecated and will be changed to True in a future version of pandas. Pass observed=False to retain current behavior or observed=True to adopt the future default and silence this warning.\n",
            "  by_effect_mods = data.groupby(effect_modifier_names)\n",
            "/usr/local/lib/python3.10/dist-packages/dowhy/causal_estimators/regression_estimator.py:179: FutureWarning: Series.__getitem__ treating keys as positions is deprecated. In a future version, integer keys will always be treated as labels (consistent with DataFrame behavior). To access a value by position, use `ser.iloc[pos]`\n",
            "  intercept_parameter = self.model.params[0]\n",
            "/usr/local/lib/python3.10/dist-packages/dowhy/causal_estimators/regression_estimator.py:179: FutureWarning: Series.__getitem__ treating keys as positions is deprecated. In a future version, integer keys will always be treated as labels (consistent with DataFrame behavior). To access a value by position, use `ser.iloc[pos]`\n",
            "  intercept_parameter = self.model.params[0]\n",
            "/usr/local/lib/python3.10/dist-packages/dowhy/causal_estimators/regression_estimator.py:179: FutureWarning: Series.__getitem__ treating keys as positions is deprecated. In a future version, integer keys will always be treated as labels (consistent with DataFrame behavior). To access a value by position, use `ser.iloc[pos]`\n",
            "  intercept_parameter = self.model.params[0]\n",
            "/usr/local/lib/python3.10/dist-packages/dowhy/causal_estimators/regression_estimator.py:179: FutureWarning: Series.__getitem__ treating keys as positions is deprecated. In a future version, integer keys will always be treated as labels (consistent with DataFrame behavior). To access a value by position, use `ser.iloc[pos]`\n",
            "  intercept_parameter = self.model.params[0]\n",
            "/usr/local/lib/python3.10/dist-packages/dowhy/causal_estimators/regression_estimator.py:179: FutureWarning: Series.__getitem__ treating keys as positions is deprecated. In a future version, integer keys will always be treated as labels (consistent with DataFrame behavior). To access a value by position, use `ser.iloc[pos]`\n",
            "  intercept_parameter = self.model.params[0]\n",
            "ERROR:dowhy.causal_graph:Error: Pygraphviz cannot be loaded. No module named 'pygraphviz'\n",
            "Trying pydot ...\n",
            "WARNING:dowhy.causal_model:There are an additional 3 variables in the dataset that are not in the graph. Variable names are: '['capital_gain', 'capital_loss', 'fnlwgt']'\n"
          ]
        },
        {
          "output_type": "stream",
          "name": "stdout",
          "text": [
            "Estimated causal effect (Linear Regression) of native_country on education: 0.03179288098016464\n",
            "Adjustment set for native_country -> education_num: []\n"
          ]
        },
        {
          "output_type": "stream",
          "name": "stderr",
          "text": [
            "/usr/local/lib/python3.10/dist-packages/dowhy/causal_estimator.py:236: FutureWarning: The default of observed=False is deprecated and will be changed to True in a future version of pandas. Pass observed=False to retain current behavior or observed=True to adopt the future default and silence this warning.\n",
            "  by_effect_mods = data.groupby(effect_modifier_names)\n",
            "/usr/local/lib/python3.10/dist-packages/dowhy/causal_estimators/regression_estimator.py:179: FutureWarning: Series.__getitem__ treating keys as positions is deprecated. In a future version, integer keys will always be treated as labels (consistent with DataFrame behavior). To access a value by position, use `ser.iloc[pos]`\n",
            "  intercept_parameter = self.model.params[0]\n",
            "/usr/local/lib/python3.10/dist-packages/dowhy/causal_estimators/regression_estimator.py:179: FutureWarning: Series.__getitem__ treating keys as positions is deprecated. In a future version, integer keys will always be treated as labels (consistent with DataFrame behavior). To access a value by position, use `ser.iloc[pos]`\n",
            "  intercept_parameter = self.model.params[0]\n",
            "/usr/local/lib/python3.10/dist-packages/dowhy/causal_estimators/regression_estimator.py:179: FutureWarning: Series.__getitem__ treating keys as positions is deprecated. In a future version, integer keys will always be treated as labels (consistent with DataFrame behavior). To access a value by position, use `ser.iloc[pos]`\n",
            "  intercept_parameter = self.model.params[0]\n",
            "/usr/local/lib/python3.10/dist-packages/dowhy/causal_estimators/regression_estimator.py:179: FutureWarning: Series.__getitem__ treating keys as positions is deprecated. In a future version, integer keys will always be treated as labels (consistent with DataFrame behavior). To access a value by position, use `ser.iloc[pos]`\n",
            "  intercept_parameter = self.model.params[0]\n",
            "/usr/local/lib/python3.10/dist-packages/dowhy/causal_estimators/regression_estimator.py:179: FutureWarning: Series.__getitem__ treating keys as positions is deprecated. In a future version, integer keys will always be treated as labels (consistent with DataFrame behavior). To access a value by position, use `ser.iloc[pos]`\n",
            "  intercept_parameter = self.model.params[0]\n",
            "ERROR:dowhy.causal_graph:Error: Pygraphviz cannot be loaded. No module named 'pygraphviz'\n",
            "Trying pydot ...\n",
            "WARNING:dowhy.causal_model:There are an additional 3 variables in the dataset that are not in the graph. Variable names are: '['capital_gain', 'capital_loss', 'fnlwgt']'\n"
          ]
        },
        {
          "output_type": "stream",
          "name": "stdout",
          "text": [
            "Estimated causal effect (Linear Regression) of native_country on education_num: 0.016645667787273055\n",
            "Adjustment set for native_country -> hours_per_week: []\n"
          ]
        },
        {
          "output_type": "stream",
          "name": "stderr",
          "text": [
            "/usr/local/lib/python3.10/dist-packages/dowhy/causal_estimator.py:236: FutureWarning: The default of observed=False is deprecated and will be changed to True in a future version of pandas. Pass observed=False to retain current behavior or observed=True to adopt the future default and silence this warning.\n",
            "  by_effect_mods = data.groupby(effect_modifier_names)\n",
            "/usr/local/lib/python3.10/dist-packages/dowhy/causal_estimators/regression_estimator.py:179: FutureWarning: Series.__getitem__ treating keys as positions is deprecated. In a future version, integer keys will always be treated as labels (consistent with DataFrame behavior). To access a value by position, use `ser.iloc[pos]`\n",
            "  intercept_parameter = self.model.params[0]\n",
            "/usr/local/lib/python3.10/dist-packages/dowhy/causal_estimators/regression_estimator.py:179: FutureWarning: Series.__getitem__ treating keys as positions is deprecated. In a future version, integer keys will always be treated as labels (consistent with DataFrame behavior). To access a value by position, use `ser.iloc[pos]`\n",
            "  intercept_parameter = self.model.params[0]\n",
            "/usr/local/lib/python3.10/dist-packages/dowhy/causal_estimators/regression_estimator.py:179: FutureWarning: Series.__getitem__ treating keys as positions is deprecated. In a future version, integer keys will always be treated as labels (consistent with DataFrame behavior). To access a value by position, use `ser.iloc[pos]`\n",
            "  intercept_parameter = self.model.params[0]\n",
            "/usr/local/lib/python3.10/dist-packages/dowhy/causal_estimators/regression_estimator.py:179: FutureWarning: Series.__getitem__ treating keys as positions is deprecated. In a future version, integer keys will always be treated as labels (consistent with DataFrame behavior). To access a value by position, use `ser.iloc[pos]`\n",
            "  intercept_parameter = self.model.params[0]\n",
            "/usr/local/lib/python3.10/dist-packages/dowhy/causal_estimators/regression_estimator.py:179: FutureWarning: Series.__getitem__ treating keys as positions is deprecated. In a future version, integer keys will always be treated as labels (consistent with DataFrame behavior). To access a value by position, use `ser.iloc[pos]`\n",
            "  intercept_parameter = self.model.params[0]\n",
            "ERROR:dowhy.causal_graph:Error: Pygraphviz cannot be loaded. No module named 'pygraphviz'\n",
            "Trying pydot ...\n",
            "WARNING:dowhy.causal_model:There are an additional 3 variables in the dataset that are not in the graph. Variable names are: '['capital_gain', 'capital_loss', 'fnlwgt']'\n"
          ]
        },
        {
          "output_type": "stream",
          "name": "stdout",
          "text": [
            "Estimated causal effect (Linear Regression) of native_country on hours_per_week: -0.003854587873291848\n",
            "Adjustment set for native_country -> income: []\n"
          ]
        },
        {
          "output_type": "stream",
          "name": "stderr",
          "text": [
            "/usr/local/lib/python3.10/dist-packages/dowhy/causal_estimator.py:236: FutureWarning: The default of observed=False is deprecated and will be changed to True in a future version of pandas. Pass observed=False to retain current behavior or observed=True to adopt the future default and silence this warning.\n",
            "  by_effect_mods = data.groupby(effect_modifier_names)\n",
            "/usr/local/lib/python3.10/dist-packages/dowhy/causal_estimators/regression_estimator.py:179: FutureWarning: Series.__getitem__ treating keys as positions is deprecated. In a future version, integer keys will always be treated as labels (consistent with DataFrame behavior). To access a value by position, use `ser.iloc[pos]`\n",
            "  intercept_parameter = self.model.params[0]\n",
            "/usr/local/lib/python3.10/dist-packages/dowhy/causal_estimators/regression_estimator.py:179: FutureWarning: Series.__getitem__ treating keys as positions is deprecated. In a future version, integer keys will always be treated as labels (consistent with DataFrame behavior). To access a value by position, use `ser.iloc[pos]`\n",
            "  intercept_parameter = self.model.params[0]\n",
            "/usr/local/lib/python3.10/dist-packages/dowhy/causal_estimators/regression_estimator.py:179: FutureWarning: Series.__getitem__ treating keys as positions is deprecated. In a future version, integer keys will always be treated as labels (consistent with DataFrame behavior). To access a value by position, use `ser.iloc[pos]`\n",
            "  intercept_parameter = self.model.params[0]\n",
            "/usr/local/lib/python3.10/dist-packages/dowhy/causal_estimators/regression_estimator.py:179: FutureWarning: Series.__getitem__ treating keys as positions is deprecated. In a future version, integer keys will always be treated as labels (consistent with DataFrame behavior). To access a value by position, use `ser.iloc[pos]`\n",
            "  intercept_parameter = self.model.params[0]\n",
            "/usr/local/lib/python3.10/dist-packages/dowhy/causal_estimators/regression_estimator.py:179: FutureWarning: Series.__getitem__ treating keys as positions is deprecated. In a future version, integer keys will always be treated as labels (consistent with DataFrame behavior). To access a value by position, use `ser.iloc[pos]`\n",
            "  intercept_parameter = self.model.params[0]\n",
            "ERROR:dowhy.causal_graph:Error: Pygraphviz cannot be loaded. No module named 'pygraphviz'\n",
            "Trying pydot ...\n",
            "WARNING:dowhy.causal_model:There are an additional 3 variables in the dataset that are not in the graph. Variable names are: '['capital_gain', 'capital_loss', 'fnlwgt']'\n"
          ]
        },
        {
          "output_type": "stream",
          "name": "stdout",
          "text": [
            "Estimated causal effect (Linear Regression) of native_country on income: 0.0008110042664236927\n",
            "Adjustment set for native_country -> marital_status: []\n"
          ]
        },
        {
          "output_type": "stream",
          "name": "stderr",
          "text": [
            "/usr/local/lib/python3.10/dist-packages/dowhy/causal_estimator.py:236: FutureWarning: The default of observed=False is deprecated and will be changed to True in a future version of pandas. Pass observed=False to retain current behavior or observed=True to adopt the future default and silence this warning.\n",
            "  by_effect_mods = data.groupby(effect_modifier_names)\n",
            "/usr/local/lib/python3.10/dist-packages/dowhy/causal_estimators/regression_estimator.py:179: FutureWarning: Series.__getitem__ treating keys as positions is deprecated. In a future version, integer keys will always be treated as labels (consistent with DataFrame behavior). To access a value by position, use `ser.iloc[pos]`\n",
            "  intercept_parameter = self.model.params[0]\n",
            "/usr/local/lib/python3.10/dist-packages/dowhy/causal_estimators/regression_estimator.py:179: FutureWarning: Series.__getitem__ treating keys as positions is deprecated. In a future version, integer keys will always be treated as labels (consistent with DataFrame behavior). To access a value by position, use `ser.iloc[pos]`\n",
            "  intercept_parameter = self.model.params[0]\n",
            "/usr/local/lib/python3.10/dist-packages/dowhy/causal_estimators/regression_estimator.py:179: FutureWarning: Series.__getitem__ treating keys as positions is deprecated. In a future version, integer keys will always be treated as labels (consistent with DataFrame behavior). To access a value by position, use `ser.iloc[pos]`\n",
            "  intercept_parameter = self.model.params[0]\n",
            "/usr/local/lib/python3.10/dist-packages/dowhy/causal_estimators/regression_estimator.py:179: FutureWarning: Series.__getitem__ treating keys as positions is deprecated. In a future version, integer keys will always be treated as labels (consistent with DataFrame behavior). To access a value by position, use `ser.iloc[pos]`\n",
            "  intercept_parameter = self.model.params[0]\n",
            "/usr/local/lib/python3.10/dist-packages/dowhy/causal_estimators/regression_estimator.py:179: FutureWarning: Series.__getitem__ treating keys as positions is deprecated. In a future version, integer keys will always be treated as labels (consistent with DataFrame behavior). To access a value by position, use `ser.iloc[pos]`\n",
            "  intercept_parameter = self.model.params[0]\n",
            "ERROR:dowhy.causal_graph:Error: Pygraphviz cannot be loaded. No module named 'pygraphviz'\n",
            "Trying pydot ...\n",
            "WARNING:dowhy.causal_model:There are an additional 3 variables in the dataset that are not in the graph. Variable names are: '['capital_gain', 'capital_loss', 'fnlwgt']'\n"
          ]
        },
        {
          "output_type": "stream",
          "name": "stdout",
          "text": [
            "Estimated causal effect (Linear Regression) of native_country on marital_status: -0.004293596475528627\n",
            "Adjustment set for native_country -> occupation: []\n"
          ]
        },
        {
          "output_type": "stream",
          "name": "stderr",
          "text": [
            "/usr/local/lib/python3.10/dist-packages/dowhy/causal_estimator.py:236: FutureWarning: The default of observed=False is deprecated and will be changed to True in a future version of pandas. Pass observed=False to retain current behavior or observed=True to adopt the future default and silence this warning.\n",
            "  by_effect_mods = data.groupby(effect_modifier_names)\n",
            "/usr/local/lib/python3.10/dist-packages/dowhy/causal_estimators/regression_estimator.py:179: FutureWarning: Series.__getitem__ treating keys as positions is deprecated. In a future version, integer keys will always be treated as labels (consistent with DataFrame behavior). To access a value by position, use `ser.iloc[pos]`\n",
            "  intercept_parameter = self.model.params[0]\n",
            "/usr/local/lib/python3.10/dist-packages/dowhy/causal_estimators/regression_estimator.py:179: FutureWarning: Series.__getitem__ treating keys as positions is deprecated. In a future version, integer keys will always be treated as labels (consistent with DataFrame behavior). To access a value by position, use `ser.iloc[pos]`\n",
            "  intercept_parameter = self.model.params[0]\n",
            "/usr/local/lib/python3.10/dist-packages/dowhy/causal_estimators/regression_estimator.py:179: FutureWarning: Series.__getitem__ treating keys as positions is deprecated. In a future version, integer keys will always be treated as labels (consistent with DataFrame behavior). To access a value by position, use `ser.iloc[pos]`\n",
            "  intercept_parameter = self.model.params[0]\n",
            "/usr/local/lib/python3.10/dist-packages/dowhy/causal_estimators/regression_estimator.py:179: FutureWarning: Series.__getitem__ treating keys as positions is deprecated. In a future version, integer keys will always be treated as labels (consistent with DataFrame behavior). To access a value by position, use `ser.iloc[pos]`\n",
            "  intercept_parameter = self.model.params[0]\n",
            "/usr/local/lib/python3.10/dist-packages/dowhy/causal_estimators/regression_estimator.py:179: FutureWarning: Series.__getitem__ treating keys as positions is deprecated. In a future version, integer keys will always be treated as labels (consistent with DataFrame behavior). To access a value by position, use `ser.iloc[pos]`\n",
            "  intercept_parameter = self.model.params[0]\n",
            "ERROR:dowhy.causal_graph:Error: Pygraphviz cannot be loaded. No module named 'pygraphviz'\n",
            "Trying pydot ...\n"
          ]
        },
        {
          "output_type": "stream",
          "name": "stdout",
          "text": [
            "Estimated causal effect (Linear Regression) of native_country on occupation: -0.006553257527332157\n"
          ]
        },
        {
          "output_type": "stream",
          "name": "stderr",
          "text": [
            "WARNING:dowhy.causal_model:There are an additional 3 variables in the dataset that are not in the graph. Variable names are: '['capital_gain', 'capital_loss', 'fnlwgt']'\n",
            "/usr/local/lib/python3.10/dist-packages/dowhy/causal_estimator.py:236: FutureWarning: The default of observed=False is deprecated and will be changed to True in a future version of pandas. Pass observed=False to retain current behavior or observed=True to adopt the future default and silence this warning.\n",
            "  by_effect_mods = data.groupby(effect_modifier_names)\n",
            "/usr/local/lib/python3.10/dist-packages/dowhy/causal_estimators/regression_estimator.py:179: FutureWarning: Series.__getitem__ treating keys as positions is deprecated. In a future version, integer keys will always be treated as labels (consistent with DataFrame behavior). To access a value by position, use `ser.iloc[pos]`\n",
            "  intercept_parameter = self.model.params[0]\n",
            "ERROR:dowhy.causal_graph:Error: Pygraphviz cannot be loaded. No module named 'pygraphviz'\n",
            "Trying pydot ...\n"
          ]
        },
        {
          "output_type": "stream",
          "name": "stdout",
          "text": [
            "Adjustment set for native_country -> race: []\n",
            "Estimated causal effect (Linear Regression) of native_country on race: 0.014981190831558244\n"
          ]
        },
        {
          "output_type": "stream",
          "name": "stderr",
          "text": [
            "WARNING:dowhy.causal_model:There are an additional 3 variables in the dataset that are not in the graph. Variable names are: '['capital_gain', 'capital_loss', 'fnlwgt']'\n",
            "/usr/local/lib/python3.10/dist-packages/dowhy/causal_estimator.py:236: FutureWarning: The default of observed=False is deprecated and will be changed to True in a future version of pandas. Pass observed=False to retain current behavior or observed=True to adopt the future default and silence this warning.\n",
            "  by_effect_mods = data.groupby(effect_modifier_names)\n",
            "/usr/local/lib/python3.10/dist-packages/dowhy/causal_estimators/regression_estimator.py:179: FutureWarning: Series.__getitem__ treating keys as positions is deprecated. In a future version, integer keys will always be treated as labels (consistent with DataFrame behavior). To access a value by position, use `ser.iloc[pos]`\n",
            "  intercept_parameter = self.model.params[0]\n",
            "/usr/local/lib/python3.10/dist-packages/dowhy/causal_estimators/regression_estimator.py:179: FutureWarning: Series.__getitem__ treating keys as positions is deprecated. In a future version, integer keys will always be treated as labels (consistent with DataFrame behavior). To access a value by position, use `ser.iloc[pos]`\n",
            "  intercept_parameter = self.model.params[0]\n",
            "/usr/local/lib/python3.10/dist-packages/dowhy/causal_estimators/regression_estimator.py:179: FutureWarning: Series.__getitem__ treating keys as positions is deprecated. In a future version, integer keys will always be treated as labels (consistent with DataFrame behavior). To access a value by position, use `ser.iloc[pos]`\n",
            "  intercept_parameter = self.model.params[0]\n",
            "/usr/local/lib/python3.10/dist-packages/dowhy/causal_estimators/regression_estimator.py:179: FutureWarning: Series.__getitem__ treating keys as positions is deprecated. In a future version, integer keys will always be treated as labels (consistent with DataFrame behavior). To access a value by position, use `ser.iloc[pos]`\n",
            "  intercept_parameter = self.model.params[0]\n",
            "/usr/local/lib/python3.10/dist-packages/dowhy/causal_estimators/regression_estimator.py:179: FutureWarning: Series.__getitem__ treating keys as positions is deprecated. In a future version, integer keys will always be treated as labels (consistent with DataFrame behavior). To access a value by position, use `ser.iloc[pos]`\n",
            "  intercept_parameter = self.model.params[0]\n",
            "ERROR:dowhy.causal_graph:Error: Pygraphviz cannot be loaded. No module named 'pygraphviz'\n",
            "Trying pydot ...\n"
          ]
        },
        {
          "output_type": "stream",
          "name": "stdout",
          "text": [
            "Adjustment set for native_country -> work_class: []\n",
            "Estimated causal effect (Linear Regression) of native_country on work_class: -0.0013772800720075473\n"
          ]
        },
        {
          "output_type": "stream",
          "name": "stderr",
          "text": [
            "WARNING:dowhy.causal_model:There are an additional 3 variables in the dataset that are not in the graph. Variable names are: '['capital_gain', 'capital_loss', 'fnlwgt']'\n",
            "/usr/local/lib/python3.10/dist-packages/dowhy/causal_estimator.py:236: FutureWarning: The default of observed=False is deprecated and will be changed to True in a future version of pandas. Pass observed=False to retain current behavior or observed=True to adopt the future default and silence this warning.\n",
            "  by_effect_mods = data.groupby(effect_modifier_names)\n",
            "/usr/local/lib/python3.10/dist-packages/dowhy/causal_estimators/regression_estimator.py:179: FutureWarning: Series.__getitem__ treating keys as positions is deprecated. In a future version, integer keys will always be treated as labels (consistent with DataFrame behavior). To access a value by position, use `ser.iloc[pos]`\n",
            "  intercept_parameter = self.model.params[0]\n",
            "/usr/local/lib/python3.10/dist-packages/dowhy/causal_estimators/regression_estimator.py:179: FutureWarning: Series.__getitem__ treating keys as positions is deprecated. In a future version, integer keys will always be treated as labels (consistent with DataFrame behavior). To access a value by position, use `ser.iloc[pos]`\n",
            "  intercept_parameter = self.model.params[0]\n",
            "/usr/local/lib/python3.10/dist-packages/dowhy/causal_estimators/regression_estimator.py:179: FutureWarning: Series.__getitem__ treating keys as positions is deprecated. In a future version, integer keys will always be treated as labels (consistent with DataFrame behavior). To access a value by position, use `ser.iloc[pos]`\n",
            "  intercept_parameter = self.model.params[0]\n",
            "/usr/local/lib/python3.10/dist-packages/dowhy/causal_estimators/regression_estimator.py:179: FutureWarning: Series.__getitem__ treating keys as positions is deprecated. In a future version, integer keys will always be treated as labels (consistent with DataFrame behavior). To access a value by position, use `ser.iloc[pos]`\n",
            "  intercept_parameter = self.model.params[0]\n",
            "/usr/local/lib/python3.10/dist-packages/dowhy/causal_estimators/regression_estimator.py:179: FutureWarning: Series.__getitem__ treating keys as positions is deprecated. In a future version, integer keys will always be treated as labels (consistent with DataFrame behavior). To access a value by position, use `ser.iloc[pos]`\n",
            "  intercept_parameter = self.model.params[0]\n",
            "ERROR:dowhy.causal_graph:Error: Pygraphviz cannot be loaded. No module named 'pygraphviz'\n",
            "Trying pydot ...\n"
          ]
        },
        {
          "output_type": "stream",
          "name": "stdout",
          "text": [
            "Adjustment set for race -> education_num: ['native_country', 'sex']\n",
            "Estimated causal effect (Linear Regression) of race on education_num: 0.07291844236405076\n"
          ]
        },
        {
          "output_type": "stream",
          "name": "stderr",
          "text": [
            "WARNING:dowhy.causal_model:There are an additional 3 variables in the dataset that are not in the graph. Variable names are: '['capital_gain', 'capital_loss', 'fnlwgt']'\n",
            "/usr/local/lib/python3.10/dist-packages/dowhy/causal_estimator.py:236: FutureWarning: The default of observed=False is deprecated and will be changed to True in a future version of pandas. Pass observed=False to retain current behavior or observed=True to adopt the future default and silence this warning.\n",
            "  by_effect_mods = data.groupby(effect_modifier_names)\n",
            "/usr/local/lib/python3.10/dist-packages/dowhy/causal_estimators/regression_estimator.py:179: FutureWarning: Series.__getitem__ treating keys as positions is deprecated. In a future version, integer keys will always be treated as labels (consistent with DataFrame behavior). To access a value by position, use `ser.iloc[pos]`\n",
            "  intercept_parameter = self.model.params[0]\n",
            "/usr/local/lib/python3.10/dist-packages/dowhy/causal_estimators/regression_estimator.py:179: FutureWarning: Series.__getitem__ treating keys as positions is deprecated. In a future version, integer keys will always be treated as labels (consistent with DataFrame behavior). To access a value by position, use `ser.iloc[pos]`\n",
            "  intercept_parameter = self.model.params[0]\n",
            "/usr/local/lib/python3.10/dist-packages/dowhy/causal_estimators/regression_estimator.py:179: FutureWarning: Series.__getitem__ treating keys as positions is deprecated. In a future version, integer keys will always be treated as labels (consistent with DataFrame behavior). To access a value by position, use `ser.iloc[pos]`\n",
            "  intercept_parameter = self.model.params[0]\n",
            "/usr/local/lib/python3.10/dist-packages/dowhy/causal_estimators/regression_estimator.py:179: FutureWarning: Series.__getitem__ treating keys as positions is deprecated. In a future version, integer keys will always be treated as labels (consistent with DataFrame behavior). To access a value by position, use `ser.iloc[pos]`\n",
            "  intercept_parameter = self.model.params[0]\n",
            "/usr/local/lib/python3.10/dist-packages/dowhy/causal_estimators/regression_estimator.py:179: FutureWarning: Series.__getitem__ treating keys as positions is deprecated. In a future version, integer keys will always be treated as labels (consistent with DataFrame behavior). To access a value by position, use `ser.iloc[pos]`\n",
            "  intercept_parameter = self.model.params[0]\n",
            "ERROR:dowhy.causal_graph:Error: Pygraphviz cannot be loaded. No module named 'pygraphviz'\n",
            "Trying pydot ...\n"
          ]
        },
        {
          "output_type": "stream",
          "name": "stdout",
          "text": [
            "Adjustment set for race -> hours_per_week: ['native_country', 'sex']\n",
            "Estimated causal effect (Linear Regression) of race on hours_per_week: 0.32454298837595985\n"
          ]
        },
        {
          "output_type": "stream",
          "name": "stderr",
          "text": [
            "WARNING:dowhy.causal_model:There are an additional 3 variables in the dataset that are not in the graph. Variable names are: '['capital_gain', 'capital_loss', 'fnlwgt']'\n",
            "/usr/local/lib/python3.10/dist-packages/dowhy/causal_estimator.py:236: FutureWarning: The default of observed=False is deprecated and will be changed to True in a future version of pandas. Pass observed=False to retain current behavior or observed=True to adopt the future default and silence this warning.\n",
            "  by_effect_mods = data.groupby(effect_modifier_names)\n",
            "/usr/local/lib/python3.10/dist-packages/dowhy/causal_estimators/regression_estimator.py:179: FutureWarning: Series.__getitem__ treating keys as positions is deprecated. In a future version, integer keys will always be treated as labels (consistent with DataFrame behavior). To access a value by position, use `ser.iloc[pos]`\n",
            "  intercept_parameter = self.model.params[0]\n",
            "/usr/local/lib/python3.10/dist-packages/dowhy/causal_estimators/regression_estimator.py:179: FutureWarning: Series.__getitem__ treating keys as positions is deprecated. In a future version, integer keys will always be treated as labels (consistent with DataFrame behavior). To access a value by position, use `ser.iloc[pos]`\n",
            "  intercept_parameter = self.model.params[0]\n",
            "/usr/local/lib/python3.10/dist-packages/dowhy/causal_estimators/regression_estimator.py:179: FutureWarning: Series.__getitem__ treating keys as positions is deprecated. In a future version, integer keys will always be treated as labels (consistent with DataFrame behavior). To access a value by position, use `ser.iloc[pos]`\n",
            "  intercept_parameter = self.model.params[0]\n",
            "/usr/local/lib/python3.10/dist-packages/dowhy/causal_estimators/regression_estimator.py:179: FutureWarning: Series.__getitem__ treating keys as positions is deprecated. In a future version, integer keys will always be treated as labels (consistent with DataFrame behavior). To access a value by position, use `ser.iloc[pos]`\n",
            "  intercept_parameter = self.model.params[0]\n",
            "/usr/local/lib/python3.10/dist-packages/dowhy/causal_estimators/regression_estimator.py:179: FutureWarning: Series.__getitem__ treating keys as positions is deprecated. In a future version, integer keys will always be treated as labels (consistent with DataFrame behavior). To access a value by position, use `ser.iloc[pos]`\n",
            "  intercept_parameter = self.model.params[0]\n",
            "ERROR:dowhy.causal_graph:Error: Pygraphviz cannot be loaded. No module named 'pygraphviz'\n",
            "Trying pydot ...\n"
          ]
        },
        {
          "output_type": "stream",
          "name": "stdout",
          "text": [
            "Adjustment set for race -> income: ['native_country', 'sex']\n",
            "Estimated causal effect (Linear Regression) of race on income: 0.025403574047509397\n"
          ]
        },
        {
          "output_type": "stream",
          "name": "stderr",
          "text": [
            "WARNING:dowhy.causal_model:There are an additional 3 variables in the dataset that are not in the graph. Variable names are: '['capital_gain', 'capital_loss', 'fnlwgt']'\n",
            "/usr/local/lib/python3.10/dist-packages/dowhy/causal_estimator.py:236: FutureWarning: The default of observed=False is deprecated and will be changed to True in a future version of pandas. Pass observed=False to retain current behavior or observed=True to adopt the future default and silence this warning.\n",
            "  by_effect_mods = data.groupby(effect_modifier_names)\n",
            "/usr/local/lib/python3.10/dist-packages/dowhy/causal_estimators/regression_estimator.py:179: FutureWarning: Series.__getitem__ treating keys as positions is deprecated. In a future version, integer keys will always be treated as labels (consistent with DataFrame behavior). To access a value by position, use `ser.iloc[pos]`\n",
            "  intercept_parameter = self.model.params[0]\n",
            "/usr/local/lib/python3.10/dist-packages/dowhy/causal_estimators/regression_estimator.py:179: FutureWarning: Series.__getitem__ treating keys as positions is deprecated. In a future version, integer keys will always be treated as labels (consistent with DataFrame behavior). To access a value by position, use `ser.iloc[pos]`\n",
            "  intercept_parameter = self.model.params[0]\n",
            "/usr/local/lib/python3.10/dist-packages/dowhy/causal_estimators/regression_estimator.py:179: FutureWarning: Series.__getitem__ treating keys as positions is deprecated. In a future version, integer keys will always be treated as labels (consistent with DataFrame behavior). To access a value by position, use `ser.iloc[pos]`\n",
            "  intercept_parameter = self.model.params[0]\n",
            "/usr/local/lib/python3.10/dist-packages/dowhy/causal_estimators/regression_estimator.py:179: FutureWarning: Series.__getitem__ treating keys as positions is deprecated. In a future version, integer keys will always be treated as labels (consistent with DataFrame behavior). To access a value by position, use `ser.iloc[pos]`\n",
            "  intercept_parameter = self.model.params[0]\n",
            "/usr/local/lib/python3.10/dist-packages/dowhy/causal_estimators/regression_estimator.py:179: FutureWarning: Series.__getitem__ treating keys as positions is deprecated. In a future version, integer keys will always be treated as labels (consistent with DataFrame behavior). To access a value by position, use `ser.iloc[pos]`\n",
            "  intercept_parameter = self.model.params[0]\n",
            "ERROR:dowhy.causal_graph:Error: Pygraphviz cannot be loaded. No module named 'pygraphviz'\n",
            "Trying pydot ...\n"
          ]
        },
        {
          "output_type": "stream",
          "name": "stdout",
          "text": [
            "Adjustment set for race -> marital_status: ['native_country', 'sex']\n",
            "Estimated causal effect (Linear Regression) of race on marital_status: -0.09400337101219503\n"
          ]
        },
        {
          "output_type": "stream",
          "name": "stderr",
          "text": [
            "WARNING:dowhy.causal_model:There are an additional 3 variables in the dataset that are not in the graph. Variable names are: '['capital_gain', 'capital_loss', 'fnlwgt']'\n",
            "/usr/local/lib/python3.10/dist-packages/dowhy/causal_estimator.py:236: FutureWarning: The default of observed=False is deprecated and will be changed to True in a future version of pandas. Pass observed=False to retain current behavior or observed=True to adopt the future default and silence this warning.\n",
            "  by_effect_mods = data.groupby(effect_modifier_names)\n",
            "/usr/local/lib/python3.10/dist-packages/dowhy/causal_estimators/regression_estimator.py:179: FutureWarning: Series.__getitem__ treating keys as positions is deprecated. In a future version, integer keys will always be treated as labels (consistent with DataFrame behavior). To access a value by position, use `ser.iloc[pos]`\n",
            "  intercept_parameter = self.model.params[0]\n",
            "/usr/local/lib/python3.10/dist-packages/dowhy/causal_estimators/regression_estimator.py:179: FutureWarning: Series.__getitem__ treating keys as positions is deprecated. In a future version, integer keys will always be treated as labels (consistent with DataFrame behavior). To access a value by position, use `ser.iloc[pos]`\n",
            "  intercept_parameter = self.model.params[0]\n",
            "/usr/local/lib/python3.10/dist-packages/dowhy/causal_estimators/regression_estimator.py:179: FutureWarning: Series.__getitem__ treating keys as positions is deprecated. In a future version, integer keys will always be treated as labels (consistent with DataFrame behavior). To access a value by position, use `ser.iloc[pos]`\n",
            "  intercept_parameter = self.model.params[0]\n",
            "/usr/local/lib/python3.10/dist-packages/dowhy/causal_estimators/regression_estimator.py:179: FutureWarning: Series.__getitem__ treating keys as positions is deprecated. In a future version, integer keys will always be treated as labels (consistent with DataFrame behavior). To access a value by position, use `ser.iloc[pos]`\n",
            "  intercept_parameter = self.model.params[0]\n",
            "/usr/local/lib/python3.10/dist-packages/dowhy/causal_estimators/regression_estimator.py:179: FutureWarning: Series.__getitem__ treating keys as positions is deprecated. In a future version, integer keys will always be treated as labels (consistent with DataFrame behavior). To access a value by position, use `ser.iloc[pos]`\n",
            "  intercept_parameter = self.model.params[0]\n",
            "ERROR:dowhy.causal_graph:Error: Pygraphviz cannot be loaded. No module named 'pygraphviz'\n",
            "Trying pydot ...\n"
          ]
        },
        {
          "output_type": "stream",
          "name": "stdout",
          "text": [
            "Adjustment set for race -> occupation: ['native_country', 'sex']\n",
            "Estimated causal effect (Linear Regression) of race on occupation: 0.008213011468086506\n"
          ]
        },
        {
          "output_type": "stream",
          "name": "stderr",
          "text": [
            "WARNING:dowhy.causal_model:There are an additional 3 variables in the dataset that are not in the graph. Variable names are: '['capital_gain', 'capital_loss', 'fnlwgt']'\n",
            "/usr/local/lib/python3.10/dist-packages/dowhy/causal_estimator.py:236: FutureWarning: The default of observed=False is deprecated and will be changed to True in a future version of pandas. Pass observed=False to retain current behavior or observed=True to adopt the future default and silence this warning.\n",
            "  by_effect_mods = data.groupby(effect_modifier_names)\n",
            "/usr/local/lib/python3.10/dist-packages/dowhy/causal_estimators/regression_estimator.py:179: FutureWarning: Series.__getitem__ treating keys as positions is deprecated. In a future version, integer keys will always be treated as labels (consistent with DataFrame behavior). To access a value by position, use `ser.iloc[pos]`\n",
            "  intercept_parameter = self.model.params[0]\n",
            "/usr/local/lib/python3.10/dist-packages/dowhy/causal_estimators/regression_estimator.py:179: FutureWarning: Series.__getitem__ treating keys as positions is deprecated. In a future version, integer keys will always be treated as labels (consistent with DataFrame behavior). To access a value by position, use `ser.iloc[pos]`\n",
            "  intercept_parameter = self.model.params[0]\n",
            "/usr/local/lib/python3.10/dist-packages/dowhy/causal_estimators/regression_estimator.py:179: FutureWarning: Series.__getitem__ treating keys as positions is deprecated. In a future version, integer keys will always be treated as labels (consistent with DataFrame behavior). To access a value by position, use `ser.iloc[pos]`\n",
            "  intercept_parameter = self.model.params[0]\n",
            "/usr/local/lib/python3.10/dist-packages/dowhy/causal_estimators/regression_estimator.py:179: FutureWarning: Series.__getitem__ treating keys as positions is deprecated. In a future version, integer keys will always be treated as labels (consistent with DataFrame behavior). To access a value by position, use `ser.iloc[pos]`\n",
            "  intercept_parameter = self.model.params[0]\n",
            "/usr/local/lib/python3.10/dist-packages/dowhy/causal_estimators/regression_estimator.py:179: FutureWarning: Series.__getitem__ treating keys as positions is deprecated. In a future version, integer keys will always be treated as labels (consistent with DataFrame behavior). To access a value by position, use `ser.iloc[pos]`\n",
            "  intercept_parameter = self.model.params[0]\n",
            "ERROR:dowhy.causal_graph:Error: Pygraphviz cannot be loaded. No module named 'pygraphviz'\n",
            "Trying pydot ...\n"
          ]
        },
        {
          "output_type": "stream",
          "name": "stdout",
          "text": [
            "Adjustment set for race -> work_class: ['native_country', 'sex']\n",
            "Estimated causal effect (Linear Regression) of race on work_class: 0.07466729088208224\n"
          ]
        },
        {
          "output_type": "stream",
          "name": "stderr",
          "text": [
            "WARNING:dowhy.causal_model:There are an additional 3 variables in the dataset that are not in the graph. Variable names are: '['capital_gain', 'capital_loss', 'fnlwgt']'\n",
            "/usr/local/lib/python3.10/dist-packages/dowhy/causal_estimator.py:236: FutureWarning: The default of observed=False is deprecated and will be changed to True in a future version of pandas. Pass observed=False to retain current behavior or observed=True to adopt the future default and silence this warning.\n",
            "  by_effect_mods = data.groupby(effect_modifier_names)\n",
            "/usr/local/lib/python3.10/dist-packages/dowhy/causal_estimators/regression_estimator.py:179: FutureWarning: Series.__getitem__ treating keys as positions is deprecated. In a future version, integer keys will always be treated as labels (consistent with DataFrame behavior). To access a value by position, use `ser.iloc[pos]`\n",
            "  intercept_parameter = self.model.params[0]\n",
            "/usr/local/lib/python3.10/dist-packages/dowhy/causal_estimators/regression_estimator.py:179: FutureWarning: Series.__getitem__ treating keys as positions is deprecated. In a future version, integer keys will always be treated as labels (consistent with DataFrame behavior). To access a value by position, use `ser.iloc[pos]`\n",
            "  intercept_parameter = self.model.params[0]\n",
            "/usr/local/lib/python3.10/dist-packages/dowhy/causal_estimators/regression_estimator.py:179: FutureWarning: Series.__getitem__ treating keys as positions is deprecated. In a future version, integer keys will always be treated as labels (consistent with DataFrame behavior). To access a value by position, use `ser.iloc[pos]`\n",
            "  intercept_parameter = self.model.params[0]\n",
            "/usr/local/lib/python3.10/dist-packages/dowhy/causal_estimators/regression_estimator.py:179: FutureWarning: Series.__getitem__ treating keys as positions is deprecated. In a future version, integer keys will always be treated as labels (consistent with DataFrame behavior). To access a value by position, use `ser.iloc[pos]`\n",
            "  intercept_parameter = self.model.params[0]\n",
            "/usr/local/lib/python3.10/dist-packages/dowhy/causal_estimators/regression_estimator.py:179: FutureWarning: Series.__getitem__ treating keys as positions is deprecated. In a future version, integer keys will always be treated as labels (consistent with DataFrame behavior). To access a value by position, use `ser.iloc[pos]`\n",
            "  intercept_parameter = self.model.params[0]\n",
            "/usr/local/lib/python3.10/dist-packages/dowhy/causal_estimators/regression_estimator.py:179: FutureWarning: Series.__getitem__ treating keys as positions is deprecated. In a future version, integer keys will always be treated as labels (consistent with DataFrame behavior). To access a value by position, use `ser.iloc[pos]`\n",
            "  intercept_parameter = self.model.params[0]\n",
            "/usr/local/lib/python3.10/dist-packages/dowhy/causal_estimators/regression_estimator.py:179: FutureWarning: Series.__getitem__ treating keys as positions is deprecated. In a future version, integer keys will always be treated as labels (consistent with DataFrame behavior). To access a value by position, use `ser.iloc[pos]`\n",
            "  intercept_parameter = self.model.params[0]\n",
            "/usr/local/lib/python3.10/dist-packages/dowhy/causal_estimators/regression_estimator.py:179: FutureWarning: Series.__getitem__ treating keys as positions is deprecated. In a future version, integer keys will always be treated as labels (consistent with DataFrame behavior). To access a value by position, use `ser.iloc[pos]`\n",
            "  intercept_parameter = self.model.params[0]\n",
            "/usr/local/lib/python3.10/dist-packages/dowhy/causal_estimators/regression_estimator.py:179: FutureWarning: Series.__getitem__ treating keys as positions is deprecated. In a future version, integer keys will always be treated as labels (consistent with DataFrame behavior). To access a value by position, use `ser.iloc[pos]`\n",
            "  intercept_parameter = self.model.params[0]\n"
          ]
        },
        {
          "output_type": "stream",
          "name": "stdout",
          "text": [
            "Adjustment set for sex -> education_num: []\n"
          ]
        },
        {
          "output_type": "stream",
          "name": "stderr",
          "text": [
            "/usr/local/lib/python3.10/dist-packages/dowhy/causal_estimators/regression_estimator.py:179: FutureWarning: Series.__getitem__ treating keys as positions is deprecated. In a future version, integer keys will always be treated as labels (consistent with DataFrame behavior). To access a value by position, use `ser.iloc[pos]`\n",
            "  intercept_parameter = self.model.params[0]\n",
            "ERROR:dowhy.causal_graph:Error: Pygraphviz cannot be loaded. No module named 'pygraphviz'\n",
            "Trying pydot ...\n",
            "WARNING:dowhy.causal_model:There are an additional 3 variables in the dataset that are not in the graph. Variable names are: '['capital_gain', 'capital_loss', 'fnlwgt']'\n",
            "/usr/local/lib/python3.10/dist-packages/dowhy/causal_estimator.py:236: FutureWarning: The default of observed=False is deprecated and will be changed to True in a future version of pandas. Pass observed=False to retain current behavior or observed=True to adopt the future default and silence this warning.\n",
            "  by_effect_mods = data.groupby(effect_modifier_names)\n",
            "/usr/local/lib/python3.10/dist-packages/dowhy/causal_estimators/regression_estimator.py:179: FutureWarning: Series.__getitem__ treating keys as positions is deprecated. In a future version, integer keys will always be treated as labels (consistent with DataFrame behavior). To access a value by position, use `ser.iloc[pos]`\n",
            "  intercept_parameter = self.model.params[0]\n",
            "/usr/local/lib/python3.10/dist-packages/dowhy/causal_estimators/regression_estimator.py:179: FutureWarning: Series.__getitem__ treating keys as positions is deprecated. In a future version, integer keys will always be treated as labels (consistent with DataFrame behavior). To access a value by position, use `ser.iloc[pos]`\n",
            "  intercept_parameter = self.model.params[0]\n",
            "/usr/local/lib/python3.10/dist-packages/dowhy/causal_estimators/regression_estimator.py:179: FutureWarning: Series.__getitem__ treating keys as positions is deprecated. In a future version, integer keys will always be treated as labels (consistent with DataFrame behavior). To access a value by position, use `ser.iloc[pos]`\n",
            "  intercept_parameter = self.model.params[0]\n",
            "/usr/local/lib/python3.10/dist-packages/dowhy/causal_estimators/regression_estimator.py:179: FutureWarning: Series.__getitem__ treating keys as positions is deprecated. In a future version, integer keys will always be treated as labels (consistent with DataFrame behavior). To access a value by position, use `ser.iloc[pos]`\n",
            "  intercept_parameter = self.model.params[0]\n",
            "/usr/local/lib/python3.10/dist-packages/dowhy/causal_estimators/regression_estimator.py:179: FutureWarning: Series.__getitem__ treating keys as positions is deprecated. In a future version, integer keys will always be treated as labels (consistent with DataFrame behavior). To access a value by position, use `ser.iloc[pos]`\n",
            "  intercept_parameter = self.model.params[0]\n",
            "/usr/local/lib/python3.10/dist-packages/dowhy/causal_estimators/regression_estimator.py:179: FutureWarning: Series.__getitem__ treating keys as positions is deprecated. In a future version, integer keys will always be treated as labels (consistent with DataFrame behavior). To access a value by position, use `ser.iloc[pos]`\n",
            "  intercept_parameter = self.model.params[0]\n",
            "/usr/local/lib/python3.10/dist-packages/dowhy/causal_estimators/regression_estimator.py:179: FutureWarning: Series.__getitem__ treating keys as positions is deprecated. In a future version, integer keys will always be treated as labels (consistent with DataFrame behavior). To access a value by position, use `ser.iloc[pos]`\n",
            "  intercept_parameter = self.model.params[0]\n",
            "/usr/local/lib/python3.10/dist-packages/dowhy/causal_estimators/regression_estimator.py:179: FutureWarning: Series.__getitem__ treating keys as positions is deprecated. In a future version, integer keys will always be treated as labels (consistent with DataFrame behavior). To access a value by position, use `ser.iloc[pos]`\n",
            "  intercept_parameter = self.model.params[0]\n"
          ]
        },
        {
          "output_type": "stream",
          "name": "stdout",
          "text": [
            "Estimated causal effect (Linear Regression) of sex on education_num: 0.05757917414377367\n",
            "Adjustment set for sex -> hours_per_week: []\n"
          ]
        },
        {
          "output_type": "stream",
          "name": "stderr",
          "text": [
            "/usr/local/lib/python3.10/dist-packages/dowhy/causal_estimators/regression_estimator.py:179: FutureWarning: Series.__getitem__ treating keys as positions is deprecated. In a future version, integer keys will always be treated as labels (consistent with DataFrame behavior). To access a value by position, use `ser.iloc[pos]`\n",
            "  intercept_parameter = self.model.params[0]\n",
            "/usr/local/lib/python3.10/dist-packages/dowhy/causal_estimators/regression_estimator.py:179: FutureWarning: Series.__getitem__ treating keys as positions is deprecated. In a future version, integer keys will always be treated as labels (consistent with DataFrame behavior). To access a value by position, use `ser.iloc[pos]`\n",
            "  intercept_parameter = self.model.params[0]\n",
            "ERROR:dowhy.causal_graph:Error: Pygraphviz cannot be loaded. No module named 'pygraphviz'\n",
            "Trying pydot ...\n"
          ]
        },
        {
          "output_type": "stream",
          "name": "stdout",
          "text": [
            "Estimated causal effect (Linear Regression) of sex on hours_per_week: 5.992013017070285\n"
          ]
        },
        {
          "output_type": "stream",
          "name": "stderr",
          "text": [
            "WARNING:dowhy.causal_model:There are an additional 3 variables in the dataset that are not in the graph. Variable names are: '['capital_gain', 'capital_loss', 'fnlwgt']'\n",
            "/usr/local/lib/python3.10/dist-packages/dowhy/causal_estimator.py:236: FutureWarning: The default of observed=False is deprecated and will be changed to True in a future version of pandas. Pass observed=False to retain current behavior or observed=True to adopt the future default and silence this warning.\n",
            "  by_effect_mods = data.groupby(effect_modifier_names)\n",
            "/usr/local/lib/python3.10/dist-packages/dowhy/causal_estimators/regression_estimator.py:179: FutureWarning: Series.__getitem__ treating keys as positions is deprecated. In a future version, integer keys will always be treated as labels (consistent with DataFrame behavior). To access a value by position, use `ser.iloc[pos]`\n",
            "  intercept_parameter = self.model.params[0]\n",
            "/usr/local/lib/python3.10/dist-packages/dowhy/causal_estimators/regression_estimator.py:179: FutureWarning: Series.__getitem__ treating keys as positions is deprecated. In a future version, integer keys will always be treated as labels (consistent with DataFrame behavior). To access a value by position, use `ser.iloc[pos]`\n",
            "  intercept_parameter = self.model.params[0]\n",
            "/usr/local/lib/python3.10/dist-packages/dowhy/causal_estimators/regression_estimator.py:179: FutureWarning: Series.__getitem__ treating keys as positions is deprecated. In a future version, integer keys will always be treated as labels (consistent with DataFrame behavior). To access a value by position, use `ser.iloc[pos]`\n",
            "  intercept_parameter = self.model.params[0]\n",
            "/usr/local/lib/python3.10/dist-packages/dowhy/causal_estimators/regression_estimator.py:179: FutureWarning: Series.__getitem__ treating keys as positions is deprecated. In a future version, integer keys will always be treated as labels (consistent with DataFrame behavior). To access a value by position, use `ser.iloc[pos]`\n",
            "  intercept_parameter = self.model.params[0]\n",
            "/usr/local/lib/python3.10/dist-packages/dowhy/causal_estimators/regression_estimator.py:179: FutureWarning: Series.__getitem__ treating keys as positions is deprecated. In a future version, integer keys will always be treated as labels (consistent with DataFrame behavior). To access a value by position, use `ser.iloc[pos]`\n",
            "  intercept_parameter = self.model.params[0]\n",
            "/usr/local/lib/python3.10/dist-packages/dowhy/causal_estimators/regression_estimator.py:179: FutureWarning: Series.__getitem__ treating keys as positions is deprecated. In a future version, integer keys will always be treated as labels (consistent with DataFrame behavior). To access a value by position, use `ser.iloc[pos]`\n",
            "  intercept_parameter = self.model.params[0]\n",
            "/usr/local/lib/python3.10/dist-packages/dowhy/causal_estimators/regression_estimator.py:179: FutureWarning: Series.__getitem__ treating keys as positions is deprecated. In a future version, integer keys will always be treated as labels (consistent with DataFrame behavior). To access a value by position, use `ser.iloc[pos]`\n",
            "  intercept_parameter = self.model.params[0]\n",
            "/usr/local/lib/python3.10/dist-packages/dowhy/causal_estimators/regression_estimator.py:179: FutureWarning: Series.__getitem__ treating keys as positions is deprecated. In a future version, integer keys will always be treated as labels (consistent with DataFrame behavior). To access a value by position, use `ser.iloc[pos]`\n",
            "  intercept_parameter = self.model.params[0]\n",
            "/usr/local/lib/python3.10/dist-packages/dowhy/causal_estimators/regression_estimator.py:179: FutureWarning: Series.__getitem__ treating keys as positions is deprecated. In a future version, integer keys will always be treated as labels (consistent with DataFrame behavior). To access a value by position, use `ser.iloc[pos]`\n",
            "  intercept_parameter = self.model.params[0]\n",
            "/usr/local/lib/python3.10/dist-packages/dowhy/causal_estimators/regression_estimator.py:179: FutureWarning: Series.__getitem__ treating keys as positions is deprecated. In a future version, integer keys will always be treated as labels (consistent with DataFrame behavior). To access a value by position, use `ser.iloc[pos]`\n",
            "  intercept_parameter = self.model.params[0]\n",
            "ERROR:dowhy.causal_graph:Error: Pygraphviz cannot be loaded. No module named 'pygraphviz'\n",
            "Trying pydot ...\n"
          ]
        },
        {
          "output_type": "stream",
          "name": "stdout",
          "text": [
            "Adjustment set for sex -> income: []\n",
            "Estimated causal effect (Linear Regression) of sex on income: 0.1887684231070248\n"
          ]
        },
        {
          "output_type": "stream",
          "name": "stderr",
          "text": [
            "WARNING:dowhy.causal_model:There are an additional 3 variables in the dataset that are not in the graph. Variable names are: '['capital_gain', 'capital_loss', 'fnlwgt']'\n",
            "/usr/local/lib/python3.10/dist-packages/dowhy/causal_estimator.py:236: FutureWarning: The default of observed=False is deprecated and will be changed to True in a future version of pandas. Pass observed=False to retain current behavior or observed=True to adopt the future default and silence this warning.\n",
            "  by_effect_mods = data.groupby(effect_modifier_names)\n",
            "/usr/local/lib/python3.10/dist-packages/dowhy/causal_estimators/regression_estimator.py:179: FutureWarning: Series.__getitem__ treating keys as positions is deprecated. In a future version, integer keys will always be treated as labels (consistent with DataFrame behavior). To access a value by position, use `ser.iloc[pos]`\n",
            "  intercept_parameter = self.model.params[0]\n",
            "/usr/local/lib/python3.10/dist-packages/dowhy/causal_estimators/regression_estimator.py:179: FutureWarning: Series.__getitem__ treating keys as positions is deprecated. In a future version, integer keys will always be treated as labels (consistent with DataFrame behavior). To access a value by position, use `ser.iloc[pos]`\n",
            "  intercept_parameter = self.model.params[0]\n",
            "/usr/local/lib/python3.10/dist-packages/dowhy/causal_estimators/regression_estimator.py:179: FutureWarning: Series.__getitem__ treating keys as positions is deprecated. In a future version, integer keys will always be treated as labels (consistent with DataFrame behavior). To access a value by position, use `ser.iloc[pos]`\n",
            "  intercept_parameter = self.model.params[0]\n",
            "/usr/local/lib/python3.10/dist-packages/dowhy/causal_estimators/regression_estimator.py:179: FutureWarning: Series.__getitem__ treating keys as positions is deprecated. In a future version, integer keys will always be treated as labels (consistent with DataFrame behavior). To access a value by position, use `ser.iloc[pos]`\n",
            "  intercept_parameter = self.model.params[0]\n",
            "/usr/local/lib/python3.10/dist-packages/dowhy/causal_estimators/regression_estimator.py:179: FutureWarning: Series.__getitem__ treating keys as positions is deprecated. In a future version, integer keys will always be treated as labels (consistent with DataFrame behavior). To access a value by position, use `ser.iloc[pos]`\n",
            "  intercept_parameter = self.model.params[0]\n",
            "/usr/local/lib/python3.10/dist-packages/dowhy/causal_estimators/regression_estimator.py:179: FutureWarning: Series.__getitem__ treating keys as positions is deprecated. In a future version, integer keys will always be treated as labels (consistent with DataFrame behavior). To access a value by position, use `ser.iloc[pos]`\n",
            "  intercept_parameter = self.model.params[0]\n",
            "/usr/local/lib/python3.10/dist-packages/dowhy/causal_estimators/regression_estimator.py:179: FutureWarning: Series.__getitem__ treating keys as positions is deprecated. In a future version, integer keys will always be treated as labels (consistent with DataFrame behavior). To access a value by position, use `ser.iloc[pos]`\n",
            "  intercept_parameter = self.model.params[0]\n",
            "/usr/local/lib/python3.10/dist-packages/dowhy/causal_estimators/regression_estimator.py:179: FutureWarning: Series.__getitem__ treating keys as positions is deprecated. In a future version, integer keys will always be treated as labels (consistent with DataFrame behavior). To access a value by position, use `ser.iloc[pos]`\n",
            "  intercept_parameter = self.model.params[0]\n",
            "/usr/local/lib/python3.10/dist-packages/dowhy/causal_estimators/regression_estimator.py:179: FutureWarning: Series.__getitem__ treating keys as positions is deprecated. In a future version, integer keys will always be treated as labels (consistent with DataFrame behavior). To access a value by position, use `ser.iloc[pos]`\n",
            "  intercept_parameter = self.model.params[0]\n",
            "/usr/local/lib/python3.10/dist-packages/dowhy/causal_estimators/regression_estimator.py:179: FutureWarning: Series.__getitem__ treating keys as positions is deprecated. In a future version, integer keys will always be treated as labels (consistent with DataFrame behavior). To access a value by position, use `ser.iloc[pos]`\n",
            "  intercept_parameter = self.model.params[0]\n",
            "ERROR:dowhy.causal_graph:Error: Pygraphviz cannot be loaded. No module named 'pygraphviz'\n",
            "Trying pydot ...\n"
          ]
        },
        {
          "output_type": "stream",
          "name": "stdout",
          "text": [
            "Adjustment set for sex -> marital_status: []\n",
            "Estimated causal effect (Linear Regression) of sex on marital_status: -0.38577437193680364\n"
          ]
        },
        {
          "output_type": "stream",
          "name": "stderr",
          "text": [
            "WARNING:dowhy.causal_model:There are an additional 3 variables in the dataset that are not in the graph. Variable names are: '['capital_gain', 'capital_loss', 'fnlwgt']'\n",
            "/usr/local/lib/python3.10/dist-packages/dowhy/causal_estimator.py:236: FutureWarning: The default of observed=False is deprecated and will be changed to True in a future version of pandas. Pass observed=False to retain current behavior or observed=True to adopt the future default and silence this warning.\n",
            "  by_effect_mods = data.groupby(effect_modifier_names)\n",
            "/usr/local/lib/python3.10/dist-packages/dowhy/causal_estimators/regression_estimator.py:179: FutureWarning: Series.__getitem__ treating keys as positions is deprecated. In a future version, integer keys will always be treated as labels (consistent with DataFrame behavior). To access a value by position, use `ser.iloc[pos]`\n",
            "  intercept_parameter = self.model.params[0]\n",
            "/usr/local/lib/python3.10/dist-packages/dowhy/causal_estimators/regression_estimator.py:179: FutureWarning: Series.__getitem__ treating keys as positions is deprecated. In a future version, integer keys will always be treated as labels (consistent with DataFrame behavior). To access a value by position, use `ser.iloc[pos]`\n",
            "  intercept_parameter = self.model.params[0]\n",
            "/usr/local/lib/python3.10/dist-packages/dowhy/causal_estimators/regression_estimator.py:179: FutureWarning: Series.__getitem__ treating keys as positions is deprecated. In a future version, integer keys will always be treated as labels (consistent with DataFrame behavior). To access a value by position, use `ser.iloc[pos]`\n",
            "  intercept_parameter = self.model.params[0]\n",
            "/usr/local/lib/python3.10/dist-packages/dowhy/causal_estimators/regression_estimator.py:179: FutureWarning: Series.__getitem__ treating keys as positions is deprecated. In a future version, integer keys will always be treated as labels (consistent with DataFrame behavior). To access a value by position, use `ser.iloc[pos]`\n",
            "  intercept_parameter = self.model.params[0]\n",
            "/usr/local/lib/python3.10/dist-packages/dowhy/causal_estimators/regression_estimator.py:179: FutureWarning: Series.__getitem__ treating keys as positions is deprecated. In a future version, integer keys will always be treated as labels (consistent with DataFrame behavior). To access a value by position, use `ser.iloc[pos]`\n",
            "  intercept_parameter = self.model.params[0]\n",
            "/usr/local/lib/python3.10/dist-packages/dowhy/causal_estimators/regression_estimator.py:179: FutureWarning: Series.__getitem__ treating keys as positions is deprecated. In a future version, integer keys will always be treated as labels (consistent with DataFrame behavior). To access a value by position, use `ser.iloc[pos]`\n",
            "  intercept_parameter = self.model.params[0]\n",
            "/usr/local/lib/python3.10/dist-packages/dowhy/causal_estimators/regression_estimator.py:179: FutureWarning: Series.__getitem__ treating keys as positions is deprecated. In a future version, integer keys will always be treated as labels (consistent with DataFrame behavior). To access a value by position, use `ser.iloc[pos]`\n",
            "  intercept_parameter = self.model.params[0]\n",
            "/usr/local/lib/python3.10/dist-packages/dowhy/causal_estimators/regression_estimator.py:179: FutureWarning: Series.__getitem__ treating keys as positions is deprecated. In a future version, integer keys will always be treated as labels (consistent with DataFrame behavior). To access a value by position, use `ser.iloc[pos]`\n",
            "  intercept_parameter = self.model.params[0]\n",
            "/usr/local/lib/python3.10/dist-packages/dowhy/causal_estimators/regression_estimator.py:179: FutureWarning: Series.__getitem__ treating keys as positions is deprecated. In a future version, integer keys will always be treated as labels (consistent with DataFrame behavior). To access a value by position, use `ser.iloc[pos]`\n",
            "  intercept_parameter = self.model.params[0]\n",
            "/usr/local/lib/python3.10/dist-packages/dowhy/causal_estimators/regression_estimator.py:179: FutureWarning: Series.__getitem__ treating keys as positions is deprecated. In a future version, integer keys will always be treated as labels (consistent with DataFrame behavior). To access a value by position, use `ser.iloc[pos]`\n",
            "  intercept_parameter = self.model.params[0]\n",
            "ERROR:dowhy.causal_graph:Error: Pygraphviz cannot be loaded. No module named 'pygraphviz'\n",
            "Trying pydot ...\n"
          ]
        },
        {
          "output_type": "stream",
          "name": "stdout",
          "text": [
            "Adjustment set for sex -> occupation: []\n",
            "Estimated causal effect (Linear Regression) of sex on occupation: 0.7268479209014531\n"
          ]
        },
        {
          "output_type": "stream",
          "name": "stderr",
          "text": [
            "WARNING:dowhy.causal_model:There are an additional 3 variables in the dataset that are not in the graph. Variable names are: '['capital_gain', 'capital_loss', 'fnlwgt']'\n",
            "/usr/local/lib/python3.10/dist-packages/dowhy/causal_estimator.py:236: FutureWarning: The default of observed=False is deprecated and will be changed to True in a future version of pandas. Pass observed=False to retain current behavior or observed=True to adopt the future default and silence this warning.\n",
            "  by_effect_mods = data.groupby(effect_modifier_names)\n",
            "/usr/local/lib/python3.10/dist-packages/dowhy/causal_estimators/regression_estimator.py:179: FutureWarning: Series.__getitem__ treating keys as positions is deprecated. In a future version, integer keys will always be treated as labels (consistent with DataFrame behavior). To access a value by position, use `ser.iloc[pos]`\n",
            "  intercept_parameter = self.model.params[0]\n",
            "/usr/local/lib/python3.10/dist-packages/dowhy/causal_estimators/regression_estimator.py:179: FutureWarning: Series.__getitem__ treating keys as positions is deprecated. In a future version, integer keys will always be treated as labels (consistent with DataFrame behavior). To access a value by position, use `ser.iloc[pos]`\n",
            "  intercept_parameter = self.model.params[0]\n",
            "ERROR:dowhy.causal_graph:Error: Pygraphviz cannot be loaded. No module named 'pygraphviz'\n",
            "Trying pydot ...\n"
          ]
        },
        {
          "output_type": "stream",
          "name": "stdout",
          "text": [
            "Adjustment set for sex -> race: []\n",
            "Estimated causal effect (Linear Regression) of sex on race: 0.1580853075602744\n"
          ]
        },
        {
          "output_type": "stream",
          "name": "stderr",
          "text": [
            "WARNING:dowhy.causal_model:There are an additional 3 variables in the dataset that are not in the graph. Variable names are: '['capital_gain', 'capital_loss', 'fnlwgt']'\n",
            "/usr/local/lib/python3.10/dist-packages/dowhy/causal_estimator.py:236: FutureWarning: The default of observed=False is deprecated and will be changed to True in a future version of pandas. Pass observed=False to retain current behavior or observed=True to adopt the future default and silence this warning.\n",
            "  by_effect_mods = data.groupby(effect_modifier_names)\n",
            "/usr/local/lib/python3.10/dist-packages/dowhy/causal_estimators/regression_estimator.py:179: FutureWarning: Series.__getitem__ treating keys as positions is deprecated. In a future version, integer keys will always be treated as labels (consistent with DataFrame behavior). To access a value by position, use `ser.iloc[pos]`\n",
            "  intercept_parameter = self.model.params[0]\n",
            "/usr/local/lib/python3.10/dist-packages/dowhy/causal_estimators/regression_estimator.py:179: FutureWarning: Series.__getitem__ treating keys as positions is deprecated. In a future version, integer keys will always be treated as labels (consistent with DataFrame behavior). To access a value by position, use `ser.iloc[pos]`\n",
            "  intercept_parameter = self.model.params[0]\n",
            "/usr/local/lib/python3.10/dist-packages/dowhy/causal_estimators/regression_estimator.py:179: FutureWarning: Series.__getitem__ treating keys as positions is deprecated. In a future version, integer keys will always be treated as labels (consistent with DataFrame behavior). To access a value by position, use `ser.iloc[pos]`\n",
            "  intercept_parameter = self.model.params[0]\n",
            "/usr/local/lib/python3.10/dist-packages/dowhy/causal_estimators/regression_estimator.py:179: FutureWarning: Series.__getitem__ treating keys as positions is deprecated. In a future version, integer keys will always be treated as labels (consistent with DataFrame behavior). To access a value by position, use `ser.iloc[pos]`\n",
            "  intercept_parameter = self.model.params[0]\n",
            "/usr/local/lib/python3.10/dist-packages/dowhy/causal_estimators/regression_estimator.py:179: FutureWarning: Series.__getitem__ treating keys as positions is deprecated. In a future version, integer keys will always be treated as labels (consistent with DataFrame behavior). To access a value by position, use `ser.iloc[pos]`\n",
            "  intercept_parameter = self.model.params[0]\n",
            "/usr/local/lib/python3.10/dist-packages/dowhy/causal_estimators/regression_estimator.py:179: FutureWarning: Series.__getitem__ treating keys as positions is deprecated. In a future version, integer keys will always be treated as labels (consistent with DataFrame behavior). To access a value by position, use `ser.iloc[pos]`\n",
            "  intercept_parameter = self.model.params[0]\n",
            "/usr/local/lib/python3.10/dist-packages/dowhy/causal_estimators/regression_estimator.py:179: FutureWarning: Series.__getitem__ treating keys as positions is deprecated. In a future version, integer keys will always be treated as labels (consistent with DataFrame behavior). To access a value by position, use `ser.iloc[pos]`\n",
            "  intercept_parameter = self.model.params[0]\n"
          ]
        },
        {
          "output_type": "stream",
          "name": "stdout",
          "text": [
            "Adjustment set for sex -> relationship: []\n"
          ]
        },
        {
          "output_type": "stream",
          "name": "stderr",
          "text": [
            "/usr/local/lib/python3.10/dist-packages/dowhy/causal_estimators/regression_estimator.py:179: FutureWarning: Series.__getitem__ treating keys as positions is deprecated. In a future version, integer keys will always be treated as labels (consistent with DataFrame behavior). To access a value by position, use `ser.iloc[pos]`\n",
            "  intercept_parameter = self.model.params[0]\n",
            "/usr/local/lib/python3.10/dist-packages/dowhy/causal_estimators/regression_estimator.py:179: FutureWarning: Series.__getitem__ treating keys as positions is deprecated. In a future version, integer keys will always be treated as labels (consistent with DataFrame behavior). To access a value by position, use `ser.iloc[pos]`\n",
            "  intercept_parameter = self.model.params[0]\n",
            "/usr/local/lib/python3.10/dist-packages/dowhy/causal_estimators/regression_estimator.py:179: FutureWarning: Series.__getitem__ treating keys as positions is deprecated. In a future version, integer keys will always be treated as labels (consistent with DataFrame behavior). To access a value by position, use `ser.iloc[pos]`\n",
            "  intercept_parameter = self.model.params[0]\n",
            "ERROR:dowhy.causal_graph:Error: Pygraphviz cannot be loaded. No module named 'pygraphviz'\n",
            "Trying pydot ...\n",
            "WARNING:dowhy.causal_model:There are an additional 3 variables in the dataset that are not in the graph. Variable names are: '['capital_gain', 'capital_loss', 'fnlwgt']'\n"
          ]
        },
        {
          "output_type": "stream",
          "name": "stdout",
          "text": [
            "Estimated causal effect (Linear Regression) of sex on relationship: -1.9572413800239459\n",
            "Adjustment set for sex -> work_class: []\n"
          ]
        },
        {
          "output_type": "stream",
          "name": "stderr",
          "text": [
            "/usr/local/lib/python3.10/dist-packages/dowhy/causal_estimator.py:236: FutureWarning: The default of observed=False is deprecated and will be changed to True in a future version of pandas. Pass observed=False to retain current behavior or observed=True to adopt the future default and silence this warning.\n",
            "  by_effect_mods = data.groupby(effect_modifier_names)\n",
            "/usr/local/lib/python3.10/dist-packages/dowhy/causal_estimators/regression_estimator.py:179: FutureWarning: Series.__getitem__ treating keys as positions is deprecated. In a future version, integer keys will always be treated as labels (consistent with DataFrame behavior). To access a value by position, use `ser.iloc[pos]`\n",
            "  intercept_parameter = self.model.params[0]\n",
            "/usr/local/lib/python3.10/dist-packages/dowhy/causal_estimators/regression_estimator.py:179: FutureWarning: Series.__getitem__ treating keys as positions is deprecated. In a future version, integer keys will always be treated as labels (consistent with DataFrame behavior). To access a value by position, use `ser.iloc[pos]`\n",
            "  intercept_parameter = self.model.params[0]\n",
            "/usr/local/lib/python3.10/dist-packages/dowhy/causal_estimators/regression_estimator.py:179: FutureWarning: Series.__getitem__ treating keys as positions is deprecated. In a future version, integer keys will always be treated as labels (consistent with DataFrame behavior). To access a value by position, use `ser.iloc[pos]`\n",
            "  intercept_parameter = self.model.params[0]\n",
            "/usr/local/lib/python3.10/dist-packages/dowhy/causal_estimators/regression_estimator.py:179: FutureWarning: Series.__getitem__ treating keys as positions is deprecated. In a future version, integer keys will always be treated as labels (consistent with DataFrame behavior). To access a value by position, use `ser.iloc[pos]`\n",
            "  intercept_parameter = self.model.params[0]\n",
            "/usr/local/lib/python3.10/dist-packages/dowhy/causal_estimators/regression_estimator.py:179: FutureWarning: Series.__getitem__ treating keys as positions is deprecated. In a future version, integer keys will always be treated as labels (consistent with DataFrame behavior). To access a value by position, use `ser.iloc[pos]`\n",
            "  intercept_parameter = self.model.params[0]\n",
            "/usr/local/lib/python3.10/dist-packages/dowhy/causal_estimators/regression_estimator.py:179: FutureWarning: Series.__getitem__ treating keys as positions is deprecated. In a future version, integer keys will always be treated as labels (consistent with DataFrame behavior). To access a value by position, use `ser.iloc[pos]`\n",
            "  intercept_parameter = self.model.params[0]\n",
            "/usr/local/lib/python3.10/dist-packages/dowhy/causal_estimators/regression_estimator.py:179: FutureWarning: Series.__getitem__ treating keys as positions is deprecated. In a future version, integer keys will always be treated as labels (consistent with DataFrame behavior). To access a value by position, use `ser.iloc[pos]`\n",
            "  intercept_parameter = self.model.params[0]\n",
            "/usr/local/lib/python3.10/dist-packages/dowhy/causal_estimators/regression_estimator.py:179: FutureWarning: Series.__getitem__ treating keys as positions is deprecated. In a future version, integer keys will always be treated as labels (consistent with DataFrame behavior). To access a value by position, use `ser.iloc[pos]`\n",
            "  intercept_parameter = self.model.params[0]\n"
          ]
        },
        {
          "output_type": "stream",
          "name": "stdout",
          "text": [
            "Estimated causal effect (Linear Regression) of sex on work_class: 0.29698461844449664\n"
          ]
        },
        {
          "output_type": "stream",
          "name": "stderr",
          "text": [
            "/usr/local/lib/python3.10/dist-packages/dowhy/causal_estimators/regression_estimator.py:179: FutureWarning: Series.__getitem__ treating keys as positions is deprecated. In a future version, integer keys will always be treated as labels (consistent with DataFrame behavior). To access a value by position, use `ser.iloc[pos]`\n",
            "  intercept_parameter = self.model.params[0]\n",
            "/usr/local/lib/python3.10/dist-packages/dowhy/causal_estimators/regression_estimator.py:179: FutureWarning: Series.__getitem__ treating keys as positions is deprecated. In a future version, integer keys will always be treated as labels (consistent with DataFrame behavior). To access a value by position, use `ser.iloc[pos]`\n",
            "  intercept_parameter = self.model.params[0]\n"
          ]
        }
      ]
    },
    {
      "cell_type": "code",
      "source": [
        "\n",
        "# Convert the graph to PyDot format\n",
        "pydot_graph = to_pydot(dag)\n",
        "\n",
        "# Loop through each edge in the DAG and estimate the causal effect\n",
        "causal_weights_psm = {}\n",
        "\n",
        "for treatment, outcome in dag.edges:\n",
        "    # Create the causal model for the current treatment-outcome pair\n",
        "    model = CausalModel(\n",
        "        data=df,\n",
        "        treatment=treatment,\n",
        "        outcome=outcome,\n",
        "        graph=pydot_graph.to_string()\n",
        "    )\n",
        "\n",
        "    identified_estimand = model.identify_effect()\n",
        "    print(f\"Adjustment set for {treatment} -> {outcome}: {identified_estimand.get_backdoor_variables()}\")\n",
        "\n",
        "    if identified_estimand.get_backdoor_variables():\n",
        "        try:\n",
        "            estimate = model.estimate_effect(identified_estimand, method_name=\"backdoor.propensity_score_matching\")\n",
        "            print(f\"Estimated causal effect (Propensity Score Matching) of {treatment} on {outcome}: {estimate.value}\")\n",
        "        except Exception as e:\n",
        "            print(f\"Error using propensity score matching for {treatment} -> {outcome}: {e}\")\n",
        "    else:\n",
        "        estimate = model.estimate_effect(identified_estimand, method_name=\"backdoor.linear_regression\")\n",
        "        print(f\"Estimated causal effect (Linear Regression) of {treatment} on {outcome}: {estimate.value}\")\n",
        "\n",
        "    causal_weights_psm[(treatment, outcome)] = estimate.value\n"
      ],
      "metadata": {
        "id": "u0xQfzYAK9Fm",
        "colab": {
          "base_uri": "https://localhost:8080/"
        },
        "outputId": "ad71a2b7-4e02-46ca-bdb1-5ffda09253db"
      },
      "execution_count": 68,
      "outputs": [
        {
          "output_type": "stream",
          "name": "stderr",
          "text": [
            "ERROR:dowhy.causal_graph:Error: Pygraphviz cannot be loaded. No module named 'pygraphviz'\n",
            "Trying pydot ...\n",
            "WARNING:dowhy.causal_model:There are an additional 3 variables in the dataset that are not in the graph. Variable names are: '['capital_gain', 'capital_loss', 'fnlwgt']'\n",
            "/usr/local/lib/python3.10/dist-packages/dowhy/causal_estimator.py:236: FutureWarning: The default of observed=False is deprecated and will be changed to True in a future version of pandas. Pass observed=False to retain current behavior or observed=True to adopt the future default and silence this warning.\n",
            "  by_effect_mods = data.groupby(effect_modifier_names)\n",
            "/usr/local/lib/python3.10/dist-packages/dowhy/causal_estimators/regression_estimator.py:179: FutureWarning: Series.__getitem__ treating keys as positions is deprecated. In a future version, integer keys will always be treated as labels (consistent with DataFrame behavior). To access a value by position, use `ser.iloc[pos]`\n",
            "  intercept_parameter = self.model.params[0]\n",
            "/usr/local/lib/python3.10/dist-packages/dowhy/causal_estimators/regression_estimator.py:179: FutureWarning: Series.__getitem__ treating keys as positions is deprecated. In a future version, integer keys will always be treated as labels (consistent with DataFrame behavior). To access a value by position, use `ser.iloc[pos]`\n",
            "  intercept_parameter = self.model.params[0]\n",
            "ERROR:dowhy.causal_graph:Error: Pygraphviz cannot be loaded. No module named 'pygraphviz'\n",
            "Trying pydot ...\n"
          ]
        },
        {
          "output_type": "stream",
          "name": "stdout",
          "text": [
            "Adjustment set for age -> education_num: []\n",
            "Estimated causal effect (Linear Regression) of age on education_num: 0.006302788105866597\n"
          ]
        },
        {
          "output_type": "stream",
          "name": "stderr",
          "text": [
            "WARNING:dowhy.causal_model:There are an additional 3 variables in the dataset that are not in the graph. Variable names are: '['capital_gain', 'capital_loss', 'fnlwgt']'\n",
            "/usr/local/lib/python3.10/dist-packages/dowhy/causal_estimator.py:236: FutureWarning: The default of observed=False is deprecated and will be changed to True in a future version of pandas. Pass observed=False to retain current behavior or observed=True to adopt the future default and silence this warning.\n",
            "  by_effect_mods = data.groupby(effect_modifier_names)\n",
            "/usr/local/lib/python3.10/dist-packages/dowhy/causal_estimators/regression_estimator.py:179: FutureWarning: Series.__getitem__ treating keys as positions is deprecated. In a future version, integer keys will always be treated as labels (consistent with DataFrame behavior). To access a value by position, use `ser.iloc[pos]`\n",
            "  intercept_parameter = self.model.params[0]\n",
            "/usr/local/lib/python3.10/dist-packages/dowhy/causal_estimators/regression_estimator.py:179: FutureWarning: Series.__getitem__ treating keys as positions is deprecated. In a future version, integer keys will always be treated as labels (consistent with DataFrame behavior). To access a value by position, use `ser.iloc[pos]`\n",
            "  intercept_parameter = self.model.params[0]\n",
            "ERROR:dowhy.causal_graph:Error: Pygraphviz cannot be loaded. No module named 'pygraphviz'\n",
            "Trying pydot ...\n"
          ]
        },
        {
          "output_type": "stream",
          "name": "stdout",
          "text": [
            "Adjustment set for age -> hours_per_week: []\n",
            "Estimated causal effect (Linear Regression) of age on hours_per_week: 0.04905205059907303\n"
          ]
        },
        {
          "output_type": "stream",
          "name": "stderr",
          "text": [
            "WARNING:dowhy.causal_model:There are an additional 3 variables in the dataset that are not in the graph. Variable names are: '['capital_gain', 'capital_loss', 'fnlwgt']'\n",
            "/usr/local/lib/python3.10/dist-packages/dowhy/causal_estimator.py:236: FutureWarning: The default of observed=False is deprecated and will be changed to True in a future version of pandas. Pass observed=False to retain current behavior or observed=True to adopt the future default and silence this warning.\n",
            "  by_effect_mods = data.groupby(effect_modifier_names)\n",
            "/usr/local/lib/python3.10/dist-packages/dowhy/causal_estimators/regression_estimator.py:179: FutureWarning: Series.__getitem__ treating keys as positions is deprecated. In a future version, integer keys will always be treated as labels (consistent with DataFrame behavior). To access a value by position, use `ser.iloc[pos]`\n",
            "  intercept_parameter = self.model.params[0]\n",
            "/usr/local/lib/python3.10/dist-packages/dowhy/causal_estimators/regression_estimator.py:179: FutureWarning: Series.__getitem__ treating keys as positions is deprecated. In a future version, integer keys will always be treated as labels (consistent with DataFrame behavior). To access a value by position, use `ser.iloc[pos]`\n",
            "  intercept_parameter = self.model.params[0]\n",
            "ERROR:dowhy.causal_graph:Error: Pygraphviz cannot be loaded. No module named 'pygraphviz'\n",
            "Trying pydot ...\n"
          ]
        },
        {
          "output_type": "stream",
          "name": "stdout",
          "text": [
            "Adjustment set for age -> income: []\n",
            "Estimated causal effect (Linear Regression) of age on income: 0.0068145024946321825\n"
          ]
        },
        {
          "output_type": "stream",
          "name": "stderr",
          "text": [
            "WARNING:dowhy.causal_model:There are an additional 3 variables in the dataset that are not in the graph. Variable names are: '['capital_gain', 'capital_loss', 'fnlwgt']'\n",
            "/usr/local/lib/python3.10/dist-packages/dowhy/causal_estimator.py:236: FutureWarning: The default of observed=False is deprecated and will be changed to True in a future version of pandas. Pass observed=False to retain current behavior or observed=True to adopt the future default and silence this warning.\n",
            "  by_effect_mods = data.groupby(effect_modifier_names)\n",
            "/usr/local/lib/python3.10/dist-packages/dowhy/causal_estimators/regression_estimator.py:179: FutureWarning: Series.__getitem__ treating keys as positions is deprecated. In a future version, integer keys will always be treated as labels (consistent with DataFrame behavior). To access a value by position, use `ser.iloc[pos]`\n",
            "  intercept_parameter = self.model.params[0]\n",
            "/usr/local/lib/python3.10/dist-packages/dowhy/causal_estimators/regression_estimator.py:179: FutureWarning: Series.__getitem__ treating keys as positions is deprecated. In a future version, integer keys will always be treated as labels (consistent with DataFrame behavior). To access a value by position, use `ser.iloc[pos]`\n",
            "  intercept_parameter = self.model.params[0]\n",
            "ERROR:dowhy.causal_graph:Error: Pygraphviz cannot be loaded. No module named 'pygraphviz'\n",
            "Trying pydot ...\n"
          ]
        },
        {
          "output_type": "stream",
          "name": "stdout",
          "text": [
            "Adjustment set for age -> marital_status: []\n",
            "Estimated causal effect (Linear Regression) of age on marital_status: -0.028291456567167028\n"
          ]
        },
        {
          "output_type": "stream",
          "name": "stderr",
          "text": [
            "WARNING:dowhy.causal_model:There are an additional 3 variables in the dataset that are not in the graph. Variable names are: '['capital_gain', 'capital_loss', 'fnlwgt']'\n",
            "/usr/local/lib/python3.10/dist-packages/dowhy/causal_estimator.py:236: FutureWarning: The default of observed=False is deprecated and will be changed to True in a future version of pandas. Pass observed=False to retain current behavior or observed=True to adopt the future default and silence this warning.\n",
            "  by_effect_mods = data.groupby(effect_modifier_names)\n",
            "/usr/local/lib/python3.10/dist-packages/dowhy/causal_estimators/regression_estimator.py:179: FutureWarning: Series.__getitem__ treating keys as positions is deprecated. In a future version, integer keys will always be treated as labels (consistent with DataFrame behavior). To access a value by position, use `ser.iloc[pos]`\n",
            "  intercept_parameter = self.model.params[0]\n",
            "/usr/local/lib/python3.10/dist-packages/dowhy/causal_estimators/regression_estimator.py:179: FutureWarning: Series.__getitem__ treating keys as positions is deprecated. In a future version, integer keys will always be treated as labels (consistent with DataFrame behavior). To access a value by position, use `ser.iloc[pos]`\n",
            "  intercept_parameter = self.model.params[0]\n",
            "ERROR:dowhy.causal_graph:Error: Pygraphviz cannot be loaded. No module named 'pygraphviz'\n",
            "Trying pydot ...\n"
          ]
        },
        {
          "output_type": "stream",
          "name": "stdout",
          "text": [
            "Adjustment set for age -> occupation: []\n",
            "Estimated causal effect (Linear Regression) of age on occupation: -0.008197143921305106\n"
          ]
        },
        {
          "output_type": "stream",
          "name": "stderr",
          "text": [
            "WARNING:dowhy.causal_model:There are an additional 3 variables in the dataset that are not in the graph. Variable names are: '['capital_gain', 'capital_loss', 'fnlwgt']'\n",
            "/usr/local/lib/python3.10/dist-packages/dowhy/causal_estimator.py:236: FutureWarning: The default of observed=False is deprecated and will be changed to True in a future version of pandas. Pass observed=False to retain current behavior or observed=True to adopt the future default and silence this warning.\n",
            "  by_effect_mods = data.groupby(effect_modifier_names)\n",
            "/usr/local/lib/python3.10/dist-packages/dowhy/causal_estimators/regression_estimator.py:179: FutureWarning: Series.__getitem__ treating keys as positions is deprecated. In a future version, integer keys will always be treated as labels (consistent with DataFrame behavior). To access a value by position, use `ser.iloc[pos]`\n",
            "  intercept_parameter = self.model.params[0]\n",
            "/usr/local/lib/python3.10/dist-packages/dowhy/causal_estimators/regression_estimator.py:179: FutureWarning: Series.__getitem__ treating keys as positions is deprecated. In a future version, integer keys will always be treated as labels (consistent with DataFrame behavior). To access a value by position, use `ser.iloc[pos]`\n",
            "  intercept_parameter = self.model.params[0]\n",
            "ERROR:dowhy.causal_graph:Error: Pygraphviz cannot be loaded. No module named 'pygraphviz'\n",
            "Trying pydot ...\n"
          ]
        },
        {
          "output_type": "stream",
          "name": "stdout",
          "text": [
            "Adjustment set for age -> relationship: []\n",
            "Estimated causal effect (Linear Regression) of age on relationship: -0.026191435808927466\n"
          ]
        },
        {
          "output_type": "stream",
          "name": "stderr",
          "text": [
            "WARNING:dowhy.causal_model:There are an additional 3 variables in the dataset that are not in the graph. Variable names are: '['capital_gain', 'capital_loss', 'fnlwgt']'\n",
            "/usr/local/lib/python3.10/dist-packages/dowhy/causal_estimator.py:236: FutureWarning: The default of observed=False is deprecated and will be changed to True in a future version of pandas. Pass observed=False to retain current behavior or observed=True to adopt the future default and silence this warning.\n",
            "  by_effect_mods = data.groupby(effect_modifier_names)\n",
            "/usr/local/lib/python3.10/dist-packages/dowhy/causal_estimators/regression_estimator.py:179: FutureWarning: Series.__getitem__ treating keys as positions is deprecated. In a future version, integer keys will always be treated as labels (consistent with DataFrame behavior). To access a value by position, use `ser.iloc[pos]`\n",
            "  intercept_parameter = self.model.params[0]\n",
            "/usr/local/lib/python3.10/dist-packages/dowhy/causal_estimators/regression_estimator.py:179: FutureWarning: Series.__getitem__ treating keys as positions is deprecated. In a future version, integer keys will always be treated as labels (consistent with DataFrame behavior). To access a value by position, use `ser.iloc[pos]`\n",
            "  intercept_parameter = self.model.params[0]\n",
            "ERROR:dowhy.causal_graph:Error: Pygraphviz cannot be loaded. No module named 'pygraphviz'\n",
            "Trying pydot ...\n"
          ]
        },
        {
          "output_type": "stream",
          "name": "stdout",
          "text": [
            "Adjustment set for age -> work_class: []\n",
            "Estimated causal effect (Linear Regression) of age on work_class: -0.0004277844725746327\n"
          ]
        },
        {
          "output_type": "stream",
          "name": "stderr",
          "text": [
            "WARNING:dowhy.causal_model:There are an additional 3 variables in the dataset that are not in the graph. Variable names are: '['capital_gain', 'capital_loss', 'fnlwgt']'\n",
            "ERROR:dowhy.causal_estimator:Propensity score methods are applicable only for binary treatments\n",
            "ERROR:dowhy.causal_graph:Error: Pygraphviz cannot be loaded. No module named 'pygraphviz'\n",
            "Trying pydot ...\n",
            "WARNING:dowhy.causal_model:There are an additional 3 variables in the dataset that are not in the graph. Variable names are: '['capital_gain', 'capital_loss', 'fnlwgt']'\n",
            "ERROR:dowhy.causal_estimator:Propensity score methods are applicable only for binary treatments\n",
            "ERROR:dowhy.causal_graph:Error: Pygraphviz cannot be loaded. No module named 'pygraphviz'\n",
            "Trying pydot ...\n"
          ]
        },
        {
          "output_type": "stream",
          "name": "stdout",
          "text": [
            "Adjustment set for education_num -> education: ['native_country', 'sex', 'race', 'age', 'marital_status']\n",
            "Error using propensity score matching for education_num -> education: Propensity score methods are applicable only for binary treatments\n",
            "Adjustment set for education_num -> hours_per_week: ['native_country', 'sex', 'race', 'age', 'marital_status']\n",
            "Error using propensity score matching for education_num -> hours_per_week: Propensity score methods are applicable only for binary treatments\n"
          ]
        },
        {
          "output_type": "stream",
          "name": "stderr",
          "text": [
            "WARNING:dowhy.causal_model:There are an additional 3 variables in the dataset that are not in the graph. Variable names are: '['capital_gain', 'capital_loss', 'fnlwgt']'\n",
            "ERROR:dowhy.causal_estimator:Propensity score methods are applicable only for binary treatments\n",
            "ERROR:dowhy.causal_graph:Error: Pygraphviz cannot be loaded. No module named 'pygraphviz'\n",
            "Trying pydot ...\n",
            "WARNING:dowhy.causal_model:There are an additional 3 variables in the dataset that are not in the graph. Variable names are: '['capital_gain', 'capital_loss', 'fnlwgt']'\n",
            "ERROR:dowhy.causal_estimator:Propensity score methods are applicable only for binary treatments\n",
            "ERROR:dowhy.causal_graph:Error: Pygraphviz cannot be loaded. No module named 'pygraphviz'\n",
            "Trying pydot ...\n"
          ]
        },
        {
          "output_type": "stream",
          "name": "stdout",
          "text": [
            "Adjustment set for education_num -> income: ['native_country', 'sex', 'race', 'age', 'marital_status']\n",
            "Error using propensity score matching for education_num -> income: Propensity score methods are applicable only for binary treatments\n",
            "Adjustment set for education_num -> occupation: ['native_country', 'sex', 'race', 'age', 'marital_status']\n",
            "Error using propensity score matching for education_num -> occupation: Propensity score methods are applicable only for binary treatments\n"
          ]
        },
        {
          "output_type": "stream",
          "name": "stderr",
          "text": [
            "WARNING:dowhy.causal_model:There are an additional 3 variables in the dataset that are not in the graph. Variable names are: '['capital_gain', 'capital_loss', 'fnlwgt']'\n",
            "ERROR:dowhy.causal_estimator:Propensity score methods are applicable only for binary treatments\n",
            "ERROR:dowhy.causal_graph:Error: Pygraphviz cannot be loaded. No module named 'pygraphviz'\n",
            "Trying pydot ...\n",
            "WARNING:dowhy.causal_model:There are an additional 3 variables in the dataset that are not in the graph. Variable names are: '['capital_gain', 'capital_loss', 'fnlwgt']'\n",
            "ERROR:dowhy.causal_estimator:Propensity score methods are applicable only for binary treatments\n",
            "ERROR:dowhy.causal_graph:Error: Pygraphviz cannot be loaded. No module named 'pygraphviz'\n",
            "Trying pydot ...\n"
          ]
        },
        {
          "output_type": "stream",
          "name": "stdout",
          "text": [
            "Adjustment set for education_num -> work_class: ['native_country', 'sex', 'race', 'age', 'marital_status']\n",
            "Error using propensity score matching for education_num -> work_class: Propensity score methods are applicable only for binary treatments\n",
            "Adjustment set for hours_per_week -> income: ['native_country', 'sex', 'race', 'age', 'education_num', 'marital_status']\n",
            "Error using propensity score matching for hours_per_week -> income: Propensity score methods are applicable only for binary treatments\n"
          ]
        },
        {
          "output_type": "stream",
          "name": "stderr",
          "text": [
            "WARNING:dowhy.causal_model:There are an additional 3 variables in the dataset that are not in the graph. Variable names are: '['capital_gain', 'capital_loss', 'fnlwgt']'\n",
            "ERROR:dowhy.causal_estimator:Propensity score methods are applicable only for binary treatments\n",
            "ERROR:dowhy.causal_graph:Error: Pygraphviz cannot be loaded. No module named 'pygraphviz'\n",
            "Trying pydot ...\n"
          ]
        },
        {
          "output_type": "stream",
          "name": "stdout",
          "text": [
            "Adjustment set for hours_per_week -> relationship: ['sex', 'age']\n",
            "Error using propensity score matching for hours_per_week -> relationship: Propensity score methods are applicable only for binary treatments\n"
          ]
        },
        {
          "output_type": "stream",
          "name": "stderr",
          "text": [
            "WARNING:dowhy.causal_model:There are an additional 3 variables in the dataset that are not in the graph. Variable names are: '['capital_gain', 'capital_loss', 'fnlwgt']'\n"
          ]
        },
        {
          "output_type": "stream",
          "name": "stdout",
          "text": [
            "Adjustment set for income -> education: ['native_country', 'occupation', 'education_num']\n"
          ]
        },
        {
          "output_type": "stream",
          "name": "stderr",
          "text": [
            "ERROR:dowhy.causal_graph:Error: Pygraphviz cannot be loaded. No module named 'pygraphviz'\n",
            "Trying pydot ...\n",
            "WARNING:dowhy.causal_model:There are an additional 4 variables in the dataset that are not in the graph. Variable names are: '['capital_gain', 'capital_loss', 'fnlwgt', 'propensity_score']'\n",
            "ERROR:dowhy.causal_estimator:Propensity score methods are applicable only for binary treatments\n",
            "ERROR:dowhy.causal_graph:Error: Pygraphviz cannot be loaded. No module named 'pygraphviz'\n",
            "Trying pydot ...\n"
          ]
        },
        {
          "output_type": "stream",
          "name": "stdout",
          "text": [
            "Estimated causal effect (Propensity Score Matching) of income on education: -0.025429194435060348\n",
            "Adjustment set for marital_status -> education_num: ['race', 'native_country', 'age', 'sex']\n",
            "Error using propensity score matching for marital_status -> education_num: Propensity score methods are applicable only for binary treatments\n"
          ]
        },
        {
          "output_type": "stream",
          "name": "stderr",
          "text": [
            "WARNING:dowhy.causal_model:There are an additional 4 variables in the dataset that are not in the graph. Variable names are: '['capital_gain', 'capital_loss', 'fnlwgt', 'propensity_score']'\n",
            "ERROR:dowhy.causal_estimator:Propensity score methods are applicable only for binary treatments\n",
            "ERROR:dowhy.causal_graph:Error: Pygraphviz cannot be loaded. No module named 'pygraphviz'\n",
            "Trying pydot ...\n",
            "WARNING:dowhy.causal_model:There are an additional 4 variables in the dataset that are not in the graph. Variable names are: '['capital_gain', 'capital_loss', 'fnlwgt', 'propensity_score']'\n",
            "ERROR:dowhy.causal_estimator:Propensity score methods are applicable only for binary treatments\n",
            "ERROR:dowhy.causal_graph:Error: Pygraphviz cannot be loaded. No module named 'pygraphviz'\n",
            "Trying pydot ...\n"
          ]
        },
        {
          "output_type": "stream",
          "name": "stdout",
          "text": [
            "Adjustment set for marital_status -> hours_per_week: ['race', 'native_country', 'age', 'sex']\n",
            "Error using propensity score matching for marital_status -> hours_per_week: Propensity score methods are applicable only for binary treatments\n",
            "Adjustment set for marital_status -> income: ['race', 'native_country', 'age', 'sex']\n",
            "Error using propensity score matching for marital_status -> income: Propensity score methods are applicable only for binary treatments\n"
          ]
        },
        {
          "output_type": "stream",
          "name": "stderr",
          "text": [
            "WARNING:dowhy.causal_model:There are an additional 4 variables in the dataset that are not in the graph. Variable names are: '['capital_gain', 'capital_loss', 'fnlwgt', 'propensity_score']'\n",
            "ERROR:dowhy.causal_estimator:Propensity score methods are applicable only for binary treatments\n",
            "ERROR:dowhy.causal_graph:Error: Pygraphviz cannot be loaded. No module named 'pygraphviz'\n",
            "Trying pydot ...\n",
            "WARNING:dowhy.causal_model:There are an additional 4 variables in the dataset that are not in the graph. Variable names are: '['capital_gain', 'capital_loss', 'fnlwgt', 'propensity_score']'\n",
            "ERROR:dowhy.causal_estimator:Propensity score methods are applicable only for binary treatments\n",
            "ERROR:dowhy.causal_graph:Error: Pygraphviz cannot be loaded. No module named 'pygraphviz'\n",
            "Trying pydot ...\n"
          ]
        },
        {
          "output_type": "stream",
          "name": "stdout",
          "text": [
            "Adjustment set for marital_status -> occupation: ['race', 'native_country', 'age', 'sex']\n",
            "Error using propensity score matching for marital_status -> occupation: Propensity score methods are applicable only for binary treatments\n",
            "Adjustment set for marital_status -> work_class: ['race', 'native_country', 'age', 'sex']\n",
            "Error using propensity score matching for marital_status -> work_class: Propensity score methods are applicable only for binary treatments\n"
          ]
        },
        {
          "output_type": "stream",
          "name": "stderr",
          "text": [
            "WARNING:dowhy.causal_model:There are an additional 4 variables in the dataset that are not in the graph. Variable names are: '['capital_gain', 'capital_loss', 'fnlwgt', 'propensity_score']'\n",
            "ERROR:dowhy.causal_estimator:Propensity score methods are applicable only for binary treatments\n",
            "ERROR:dowhy.causal_graph:Error: Pygraphviz cannot be loaded. No module named 'pygraphviz'\n",
            "Trying pydot ...\n",
            "WARNING:dowhy.causal_model:There are an additional 4 variables in the dataset that are not in the graph. Variable names are: '['capital_gain', 'capital_loss', 'fnlwgt', 'propensity_score']'\n",
            "ERROR:dowhy.causal_estimator:Propensity score methods are applicable only for binary treatments\n",
            "ERROR:dowhy.causal_graph:Error: Pygraphviz cannot be loaded. No module named 'pygraphviz'\n",
            "Trying pydot ...\n"
          ]
        },
        {
          "output_type": "stream",
          "name": "stdout",
          "text": [
            "Adjustment set for occupation -> education: ['native_country', 'sex', 'race', 'age', 'education_num', 'marital_status']\n",
            "Error using propensity score matching for occupation -> education: Propensity score methods are applicable only for binary treatments\n",
            "Adjustment set for occupation -> income: ['native_country', 'sex', 'race', 'age', 'education_num', 'marital_status']\n",
            "Error using propensity score matching for occupation -> income: Propensity score methods are applicable only for binary treatments\n"
          ]
        },
        {
          "output_type": "stream",
          "name": "stderr",
          "text": [
            "WARNING:dowhy.causal_model:There are an additional 4 variables in the dataset that are not in the graph. Variable names are: '['capital_gain', 'capital_loss', 'fnlwgt', 'propensity_score']'\n",
            "ERROR:dowhy.causal_estimator:Propensity score methods are applicable only for binary treatments\n",
            "ERROR:dowhy.causal_graph:Error: Pygraphviz cannot be loaded. No module named 'pygraphviz'\n",
            "Trying pydot ...\n",
            "WARNING:dowhy.causal_model:There are an additional 4 variables in the dataset that are not in the graph. Variable names are: '['capital_gain', 'capital_loss', 'fnlwgt', 'propensity_score']'\n"
          ]
        },
        {
          "output_type": "stream",
          "name": "stdout",
          "text": [
            "Adjustment set for work_class -> income: ['native_country', 'sex', 'race', 'age', 'education_num', 'marital_status']\n",
            "Error using propensity score matching for work_class -> income: Propensity score methods are applicable only for binary treatments\n",
            "Adjustment set for native_country -> education: []\n"
          ]
        },
        {
          "output_type": "stream",
          "name": "stderr",
          "text": [
            "/usr/local/lib/python3.10/dist-packages/dowhy/causal_estimator.py:236: FutureWarning: The default of observed=False is deprecated and will be changed to True in a future version of pandas. Pass observed=False to retain current behavior or observed=True to adopt the future default and silence this warning.\n",
            "  by_effect_mods = data.groupby(effect_modifier_names)\n",
            "/usr/local/lib/python3.10/dist-packages/dowhy/causal_estimators/regression_estimator.py:179: FutureWarning: Series.__getitem__ treating keys as positions is deprecated. In a future version, integer keys will always be treated as labels (consistent with DataFrame behavior). To access a value by position, use `ser.iloc[pos]`\n",
            "  intercept_parameter = self.model.params[0]\n",
            "/usr/local/lib/python3.10/dist-packages/dowhy/causal_estimators/regression_estimator.py:179: FutureWarning: Series.__getitem__ treating keys as positions is deprecated. In a future version, integer keys will always be treated as labels (consistent with DataFrame behavior). To access a value by position, use `ser.iloc[pos]`\n",
            "  intercept_parameter = self.model.params[0]\n",
            "/usr/local/lib/python3.10/dist-packages/dowhy/causal_estimators/regression_estimator.py:179: FutureWarning: Series.__getitem__ treating keys as positions is deprecated. In a future version, integer keys will always be treated as labels (consistent with DataFrame behavior). To access a value by position, use `ser.iloc[pos]`\n",
            "  intercept_parameter = self.model.params[0]\n",
            "/usr/local/lib/python3.10/dist-packages/dowhy/causal_estimators/regression_estimator.py:179: FutureWarning: Series.__getitem__ treating keys as positions is deprecated. In a future version, integer keys will always be treated as labels (consistent with DataFrame behavior). To access a value by position, use `ser.iloc[pos]`\n",
            "  intercept_parameter = self.model.params[0]\n",
            "/usr/local/lib/python3.10/dist-packages/dowhy/causal_estimators/regression_estimator.py:179: FutureWarning: Series.__getitem__ treating keys as positions is deprecated. In a future version, integer keys will always be treated as labels (consistent with DataFrame behavior). To access a value by position, use `ser.iloc[pos]`\n",
            "  intercept_parameter = self.model.params[0]\n",
            "ERROR:dowhy.causal_graph:Error: Pygraphviz cannot be loaded. No module named 'pygraphviz'\n",
            "Trying pydot ...\n",
            "WARNING:dowhy.causal_model:There are an additional 4 variables in the dataset that are not in the graph. Variable names are: '['capital_gain', 'capital_loss', 'fnlwgt', 'propensity_score']'\n"
          ]
        },
        {
          "output_type": "stream",
          "name": "stdout",
          "text": [
            "Estimated causal effect (Linear Regression) of native_country on education: 0.03179288098016464\n",
            "Adjustment set for native_country -> education_num: []\n"
          ]
        },
        {
          "output_type": "stream",
          "name": "stderr",
          "text": [
            "/usr/local/lib/python3.10/dist-packages/dowhy/causal_estimator.py:236: FutureWarning: The default of observed=False is deprecated and will be changed to True in a future version of pandas. Pass observed=False to retain current behavior or observed=True to adopt the future default and silence this warning.\n",
            "  by_effect_mods = data.groupby(effect_modifier_names)\n",
            "/usr/local/lib/python3.10/dist-packages/dowhy/causal_estimators/regression_estimator.py:179: FutureWarning: Series.__getitem__ treating keys as positions is deprecated. In a future version, integer keys will always be treated as labels (consistent with DataFrame behavior). To access a value by position, use `ser.iloc[pos]`\n",
            "  intercept_parameter = self.model.params[0]\n",
            "/usr/local/lib/python3.10/dist-packages/dowhy/causal_estimators/regression_estimator.py:179: FutureWarning: Series.__getitem__ treating keys as positions is deprecated. In a future version, integer keys will always be treated as labels (consistent with DataFrame behavior). To access a value by position, use `ser.iloc[pos]`\n",
            "  intercept_parameter = self.model.params[0]\n",
            "/usr/local/lib/python3.10/dist-packages/dowhy/causal_estimators/regression_estimator.py:179: FutureWarning: Series.__getitem__ treating keys as positions is deprecated. In a future version, integer keys will always be treated as labels (consistent with DataFrame behavior). To access a value by position, use `ser.iloc[pos]`\n",
            "  intercept_parameter = self.model.params[0]\n",
            "/usr/local/lib/python3.10/dist-packages/dowhy/causal_estimators/regression_estimator.py:179: FutureWarning: Series.__getitem__ treating keys as positions is deprecated. In a future version, integer keys will always be treated as labels (consistent with DataFrame behavior). To access a value by position, use `ser.iloc[pos]`\n",
            "  intercept_parameter = self.model.params[0]\n",
            "/usr/local/lib/python3.10/dist-packages/dowhy/causal_estimators/regression_estimator.py:179: FutureWarning: Series.__getitem__ treating keys as positions is deprecated. In a future version, integer keys will always be treated as labels (consistent with DataFrame behavior). To access a value by position, use `ser.iloc[pos]`\n",
            "  intercept_parameter = self.model.params[0]\n",
            "ERROR:dowhy.causal_graph:Error: Pygraphviz cannot be loaded. No module named 'pygraphviz'\n",
            "Trying pydot ...\n"
          ]
        },
        {
          "output_type": "stream",
          "name": "stdout",
          "text": [
            "Estimated causal effect (Linear Regression) of native_country on education_num: 0.016645667787273055\n"
          ]
        },
        {
          "output_type": "stream",
          "name": "stderr",
          "text": [
            "WARNING:dowhy.causal_model:There are an additional 4 variables in the dataset that are not in the graph. Variable names are: '['capital_gain', 'capital_loss', 'fnlwgt', 'propensity_score']'\n",
            "/usr/local/lib/python3.10/dist-packages/dowhy/causal_estimator.py:236: FutureWarning: The default of observed=False is deprecated and will be changed to True in a future version of pandas. Pass observed=False to retain current behavior or observed=True to adopt the future default and silence this warning.\n",
            "  by_effect_mods = data.groupby(effect_modifier_names)\n",
            "/usr/local/lib/python3.10/dist-packages/dowhy/causal_estimators/regression_estimator.py:179: FutureWarning: Series.__getitem__ treating keys as positions is deprecated. In a future version, integer keys will always be treated as labels (consistent with DataFrame behavior). To access a value by position, use `ser.iloc[pos]`\n",
            "  intercept_parameter = self.model.params[0]\n",
            "/usr/local/lib/python3.10/dist-packages/dowhy/causal_estimators/regression_estimator.py:179: FutureWarning: Series.__getitem__ treating keys as positions is deprecated. In a future version, integer keys will always be treated as labels (consistent with DataFrame behavior). To access a value by position, use `ser.iloc[pos]`\n",
            "  intercept_parameter = self.model.params[0]\n",
            "/usr/local/lib/python3.10/dist-packages/dowhy/causal_estimators/regression_estimator.py:179: FutureWarning: Series.__getitem__ treating keys as positions is deprecated. In a future version, integer keys will always be treated as labels (consistent with DataFrame behavior). To access a value by position, use `ser.iloc[pos]`\n",
            "  intercept_parameter = self.model.params[0]\n",
            "/usr/local/lib/python3.10/dist-packages/dowhy/causal_estimators/regression_estimator.py:179: FutureWarning: Series.__getitem__ treating keys as positions is deprecated. In a future version, integer keys will always be treated as labels (consistent with DataFrame behavior). To access a value by position, use `ser.iloc[pos]`\n",
            "  intercept_parameter = self.model.params[0]\n",
            "/usr/local/lib/python3.10/dist-packages/dowhy/causal_estimators/regression_estimator.py:179: FutureWarning: Series.__getitem__ treating keys as positions is deprecated. In a future version, integer keys will always be treated as labels (consistent with DataFrame behavior). To access a value by position, use `ser.iloc[pos]`\n",
            "  intercept_parameter = self.model.params[0]\n",
            "ERROR:dowhy.causal_graph:Error: Pygraphviz cannot be loaded. No module named 'pygraphviz'\n",
            "Trying pydot ...\n"
          ]
        },
        {
          "output_type": "stream",
          "name": "stdout",
          "text": [
            "Adjustment set for native_country -> hours_per_week: []\n",
            "Estimated causal effect (Linear Regression) of native_country on hours_per_week: -0.003854587873291848\n"
          ]
        },
        {
          "output_type": "stream",
          "name": "stderr",
          "text": [
            "WARNING:dowhy.causal_model:There are an additional 4 variables in the dataset that are not in the graph. Variable names are: '['capital_gain', 'capital_loss', 'fnlwgt', 'propensity_score']'\n",
            "/usr/local/lib/python3.10/dist-packages/dowhy/causal_estimator.py:236: FutureWarning: The default of observed=False is deprecated and will be changed to True in a future version of pandas. Pass observed=False to retain current behavior or observed=True to adopt the future default and silence this warning.\n",
            "  by_effect_mods = data.groupby(effect_modifier_names)\n",
            "/usr/local/lib/python3.10/dist-packages/dowhy/causal_estimators/regression_estimator.py:179: FutureWarning: Series.__getitem__ treating keys as positions is deprecated. In a future version, integer keys will always be treated as labels (consistent with DataFrame behavior). To access a value by position, use `ser.iloc[pos]`\n",
            "  intercept_parameter = self.model.params[0]\n",
            "/usr/local/lib/python3.10/dist-packages/dowhy/causal_estimators/regression_estimator.py:179: FutureWarning: Series.__getitem__ treating keys as positions is deprecated. In a future version, integer keys will always be treated as labels (consistent with DataFrame behavior). To access a value by position, use `ser.iloc[pos]`\n",
            "  intercept_parameter = self.model.params[0]\n",
            "/usr/local/lib/python3.10/dist-packages/dowhy/causal_estimators/regression_estimator.py:179: FutureWarning: Series.__getitem__ treating keys as positions is deprecated. In a future version, integer keys will always be treated as labels (consistent with DataFrame behavior). To access a value by position, use `ser.iloc[pos]`\n",
            "  intercept_parameter = self.model.params[0]\n",
            "/usr/local/lib/python3.10/dist-packages/dowhy/causal_estimators/regression_estimator.py:179: FutureWarning: Series.__getitem__ treating keys as positions is deprecated. In a future version, integer keys will always be treated as labels (consistent with DataFrame behavior). To access a value by position, use `ser.iloc[pos]`\n",
            "  intercept_parameter = self.model.params[0]\n",
            "/usr/local/lib/python3.10/dist-packages/dowhy/causal_estimators/regression_estimator.py:179: FutureWarning: Series.__getitem__ treating keys as positions is deprecated. In a future version, integer keys will always be treated as labels (consistent with DataFrame behavior). To access a value by position, use `ser.iloc[pos]`\n",
            "  intercept_parameter = self.model.params[0]\n",
            "ERROR:dowhy.causal_graph:Error: Pygraphviz cannot be loaded. No module named 'pygraphviz'\n",
            "Trying pydot ...\n"
          ]
        },
        {
          "output_type": "stream",
          "name": "stdout",
          "text": [
            "Adjustment set for native_country -> income: []\n",
            "Estimated causal effect (Linear Regression) of native_country on income: 0.0008110042664236927\n"
          ]
        },
        {
          "output_type": "stream",
          "name": "stderr",
          "text": [
            "WARNING:dowhy.causal_model:There are an additional 4 variables in the dataset that are not in the graph. Variable names are: '['capital_gain', 'capital_loss', 'fnlwgt', 'propensity_score']'\n",
            "/usr/local/lib/python3.10/dist-packages/dowhy/causal_estimator.py:236: FutureWarning: The default of observed=False is deprecated and will be changed to True in a future version of pandas. Pass observed=False to retain current behavior or observed=True to adopt the future default and silence this warning.\n",
            "  by_effect_mods = data.groupby(effect_modifier_names)\n",
            "/usr/local/lib/python3.10/dist-packages/dowhy/causal_estimators/regression_estimator.py:179: FutureWarning: Series.__getitem__ treating keys as positions is deprecated. In a future version, integer keys will always be treated as labels (consistent with DataFrame behavior). To access a value by position, use `ser.iloc[pos]`\n",
            "  intercept_parameter = self.model.params[0]\n",
            "/usr/local/lib/python3.10/dist-packages/dowhy/causal_estimators/regression_estimator.py:179: FutureWarning: Series.__getitem__ treating keys as positions is deprecated. In a future version, integer keys will always be treated as labels (consistent with DataFrame behavior). To access a value by position, use `ser.iloc[pos]`\n",
            "  intercept_parameter = self.model.params[0]\n",
            "/usr/local/lib/python3.10/dist-packages/dowhy/causal_estimators/regression_estimator.py:179: FutureWarning: Series.__getitem__ treating keys as positions is deprecated. In a future version, integer keys will always be treated as labels (consistent with DataFrame behavior). To access a value by position, use `ser.iloc[pos]`\n",
            "  intercept_parameter = self.model.params[0]\n",
            "/usr/local/lib/python3.10/dist-packages/dowhy/causal_estimators/regression_estimator.py:179: FutureWarning: Series.__getitem__ treating keys as positions is deprecated. In a future version, integer keys will always be treated as labels (consistent with DataFrame behavior). To access a value by position, use `ser.iloc[pos]`\n",
            "  intercept_parameter = self.model.params[0]\n",
            "/usr/local/lib/python3.10/dist-packages/dowhy/causal_estimators/regression_estimator.py:179: FutureWarning: Series.__getitem__ treating keys as positions is deprecated. In a future version, integer keys will always be treated as labels (consistent with DataFrame behavior). To access a value by position, use `ser.iloc[pos]`\n",
            "  intercept_parameter = self.model.params[0]\n",
            "ERROR:dowhy.causal_graph:Error: Pygraphviz cannot be loaded. No module named 'pygraphviz'\n",
            "Trying pydot ...\n"
          ]
        },
        {
          "output_type": "stream",
          "name": "stdout",
          "text": [
            "Adjustment set for native_country -> marital_status: []\n",
            "Estimated causal effect (Linear Regression) of native_country on marital_status: -0.004293596475528627\n"
          ]
        },
        {
          "output_type": "stream",
          "name": "stderr",
          "text": [
            "WARNING:dowhy.causal_model:There are an additional 4 variables in the dataset that are not in the graph. Variable names are: '['capital_gain', 'capital_loss', 'fnlwgt', 'propensity_score']'\n",
            "/usr/local/lib/python3.10/dist-packages/dowhy/causal_estimator.py:236: FutureWarning: The default of observed=False is deprecated and will be changed to True in a future version of pandas. Pass observed=False to retain current behavior or observed=True to adopt the future default and silence this warning.\n",
            "  by_effect_mods = data.groupby(effect_modifier_names)\n",
            "/usr/local/lib/python3.10/dist-packages/dowhy/causal_estimators/regression_estimator.py:179: FutureWarning: Series.__getitem__ treating keys as positions is deprecated. In a future version, integer keys will always be treated as labels (consistent with DataFrame behavior). To access a value by position, use `ser.iloc[pos]`\n",
            "  intercept_parameter = self.model.params[0]\n",
            "/usr/local/lib/python3.10/dist-packages/dowhy/causal_estimators/regression_estimator.py:179: FutureWarning: Series.__getitem__ treating keys as positions is deprecated. In a future version, integer keys will always be treated as labels (consistent with DataFrame behavior). To access a value by position, use `ser.iloc[pos]`\n",
            "  intercept_parameter = self.model.params[0]\n",
            "/usr/local/lib/python3.10/dist-packages/dowhy/causal_estimators/regression_estimator.py:179: FutureWarning: Series.__getitem__ treating keys as positions is deprecated. In a future version, integer keys will always be treated as labels (consistent with DataFrame behavior). To access a value by position, use `ser.iloc[pos]`\n",
            "  intercept_parameter = self.model.params[0]\n",
            "/usr/local/lib/python3.10/dist-packages/dowhy/causal_estimators/regression_estimator.py:179: FutureWarning: Series.__getitem__ treating keys as positions is deprecated. In a future version, integer keys will always be treated as labels (consistent with DataFrame behavior). To access a value by position, use `ser.iloc[pos]`\n",
            "  intercept_parameter = self.model.params[0]\n",
            "/usr/local/lib/python3.10/dist-packages/dowhy/causal_estimators/regression_estimator.py:179: FutureWarning: Series.__getitem__ treating keys as positions is deprecated. In a future version, integer keys will always be treated as labels (consistent with DataFrame behavior). To access a value by position, use `ser.iloc[pos]`\n",
            "  intercept_parameter = self.model.params[0]\n",
            "ERROR:dowhy.causal_graph:Error: Pygraphviz cannot be loaded. No module named 'pygraphviz'\n",
            "Trying pydot ...\n"
          ]
        },
        {
          "output_type": "stream",
          "name": "stdout",
          "text": [
            "Adjustment set for native_country -> occupation: []\n",
            "Estimated causal effect (Linear Regression) of native_country on occupation: -0.006553257527332157\n"
          ]
        },
        {
          "output_type": "stream",
          "name": "stderr",
          "text": [
            "WARNING:dowhy.causal_model:There are an additional 4 variables in the dataset that are not in the graph. Variable names are: '['capital_gain', 'capital_loss', 'fnlwgt', 'propensity_score']'\n",
            "/usr/local/lib/python3.10/dist-packages/dowhy/causal_estimator.py:236: FutureWarning: The default of observed=False is deprecated and will be changed to True in a future version of pandas. Pass observed=False to retain current behavior or observed=True to adopt the future default and silence this warning.\n",
            "  by_effect_mods = data.groupby(effect_modifier_names)\n",
            "/usr/local/lib/python3.10/dist-packages/dowhy/causal_estimators/regression_estimator.py:179: FutureWarning: Series.__getitem__ treating keys as positions is deprecated. In a future version, integer keys will always be treated as labels (consistent with DataFrame behavior). To access a value by position, use `ser.iloc[pos]`\n",
            "  intercept_parameter = self.model.params[0]\n",
            "ERROR:dowhy.causal_graph:Error: Pygraphviz cannot be loaded. No module named 'pygraphviz'\n",
            "Trying pydot ...\n"
          ]
        },
        {
          "output_type": "stream",
          "name": "stdout",
          "text": [
            "Adjustment set for native_country -> race: []\n",
            "Estimated causal effect (Linear Regression) of native_country on race: 0.014981190831558244\n"
          ]
        },
        {
          "output_type": "stream",
          "name": "stderr",
          "text": [
            "WARNING:dowhy.causal_model:There are an additional 4 variables in the dataset that are not in the graph. Variable names are: '['capital_gain', 'capital_loss', 'fnlwgt', 'propensity_score']'\n",
            "/usr/local/lib/python3.10/dist-packages/dowhy/causal_estimator.py:236: FutureWarning: The default of observed=False is deprecated and will be changed to True in a future version of pandas. Pass observed=False to retain current behavior or observed=True to adopt the future default and silence this warning.\n",
            "  by_effect_mods = data.groupby(effect_modifier_names)\n",
            "/usr/local/lib/python3.10/dist-packages/dowhy/causal_estimators/regression_estimator.py:179: FutureWarning: Series.__getitem__ treating keys as positions is deprecated. In a future version, integer keys will always be treated as labels (consistent with DataFrame behavior). To access a value by position, use `ser.iloc[pos]`\n",
            "  intercept_parameter = self.model.params[0]\n",
            "/usr/local/lib/python3.10/dist-packages/dowhy/causal_estimators/regression_estimator.py:179: FutureWarning: Series.__getitem__ treating keys as positions is deprecated. In a future version, integer keys will always be treated as labels (consistent with DataFrame behavior). To access a value by position, use `ser.iloc[pos]`\n",
            "  intercept_parameter = self.model.params[0]\n",
            "/usr/local/lib/python3.10/dist-packages/dowhy/causal_estimators/regression_estimator.py:179: FutureWarning: Series.__getitem__ treating keys as positions is deprecated. In a future version, integer keys will always be treated as labels (consistent with DataFrame behavior). To access a value by position, use `ser.iloc[pos]`\n",
            "  intercept_parameter = self.model.params[0]\n",
            "/usr/local/lib/python3.10/dist-packages/dowhy/causal_estimators/regression_estimator.py:179: FutureWarning: Series.__getitem__ treating keys as positions is deprecated. In a future version, integer keys will always be treated as labels (consistent with DataFrame behavior). To access a value by position, use `ser.iloc[pos]`\n",
            "  intercept_parameter = self.model.params[0]\n",
            "/usr/local/lib/python3.10/dist-packages/dowhy/causal_estimators/regression_estimator.py:179: FutureWarning: Series.__getitem__ treating keys as positions is deprecated. In a future version, integer keys will always be treated as labels (consistent with DataFrame behavior). To access a value by position, use `ser.iloc[pos]`\n",
            "  intercept_parameter = self.model.params[0]\n",
            "ERROR:dowhy.causal_graph:Error: Pygraphviz cannot be loaded. No module named 'pygraphviz'\n",
            "Trying pydot ...\n"
          ]
        },
        {
          "output_type": "stream",
          "name": "stdout",
          "text": [
            "Adjustment set for native_country -> work_class: []\n",
            "Estimated causal effect (Linear Regression) of native_country on work_class: -0.0013772800720075473\n"
          ]
        },
        {
          "output_type": "stream",
          "name": "stderr",
          "text": [
            "WARNING:dowhy.causal_model:There are an additional 4 variables in the dataset that are not in the graph. Variable names are: '['capital_gain', 'capital_loss', 'fnlwgt', 'propensity_score']'\n",
            "ERROR:dowhy.causal_estimator:Propensity score methods are applicable only for binary treatments\n",
            "ERROR:dowhy.causal_graph:Error: Pygraphviz cannot be loaded. No module named 'pygraphviz'\n",
            "Trying pydot ...\n",
            "WARNING:dowhy.causal_model:There are an additional 4 variables in the dataset that are not in the graph. Variable names are: '['capital_gain', 'capital_loss', 'fnlwgt', 'propensity_score']'\n",
            "ERROR:dowhy.causal_estimator:Propensity score methods are applicable only for binary treatments\n",
            "ERROR:dowhy.causal_graph:Error: Pygraphviz cannot be loaded. No module named 'pygraphviz'\n",
            "Trying pydot ...\n"
          ]
        },
        {
          "output_type": "stream",
          "name": "stdout",
          "text": [
            "Adjustment set for race -> education_num: ['native_country', 'sex']\n",
            "Error using propensity score matching for race -> education_num: Propensity score methods are applicable only for binary treatments\n",
            "Adjustment set for race -> hours_per_week: ['native_country', 'sex']\n",
            "Error using propensity score matching for race -> hours_per_week: Propensity score methods are applicable only for binary treatments\n"
          ]
        },
        {
          "output_type": "stream",
          "name": "stderr",
          "text": [
            "WARNING:dowhy.causal_model:There are an additional 4 variables in the dataset that are not in the graph. Variable names are: '['capital_gain', 'capital_loss', 'fnlwgt', 'propensity_score']'\n",
            "ERROR:dowhy.causal_estimator:Propensity score methods are applicable only for binary treatments\n",
            "ERROR:dowhy.causal_graph:Error: Pygraphviz cannot be loaded. No module named 'pygraphviz'\n",
            "Trying pydot ...\n",
            "WARNING:dowhy.causal_model:There are an additional 4 variables in the dataset that are not in the graph. Variable names are: '['capital_gain', 'capital_loss', 'fnlwgt', 'propensity_score']'\n",
            "ERROR:dowhy.causal_estimator:Propensity score methods are applicable only for binary treatments\n",
            "ERROR:dowhy.causal_graph:Error: Pygraphviz cannot be loaded. No module named 'pygraphviz'\n",
            "Trying pydot ...\n"
          ]
        },
        {
          "output_type": "stream",
          "name": "stdout",
          "text": [
            "Adjustment set for race -> income: ['native_country', 'sex']\n",
            "Error using propensity score matching for race -> income: Propensity score methods are applicable only for binary treatments\n",
            "Adjustment set for race -> marital_status: ['native_country', 'sex']\n",
            "Error using propensity score matching for race -> marital_status: Propensity score methods are applicable only for binary treatments\n"
          ]
        },
        {
          "output_type": "stream",
          "name": "stderr",
          "text": [
            "WARNING:dowhy.causal_model:There are an additional 4 variables in the dataset that are not in the graph. Variable names are: '['capital_gain', 'capital_loss', 'fnlwgt', 'propensity_score']'\n",
            "ERROR:dowhy.causal_estimator:Propensity score methods are applicable only for binary treatments\n",
            "ERROR:dowhy.causal_graph:Error: Pygraphviz cannot be loaded. No module named 'pygraphviz'\n",
            "Trying pydot ...\n",
            "WARNING:dowhy.causal_model:There are an additional 4 variables in the dataset that are not in the graph. Variable names are: '['capital_gain', 'capital_loss', 'fnlwgt', 'propensity_score']'\n",
            "ERROR:dowhy.causal_estimator:Propensity score methods are applicable only for binary treatments\n",
            "ERROR:dowhy.causal_graph:Error: Pygraphviz cannot be loaded. No module named 'pygraphviz'\n",
            "Trying pydot ...\n",
            "WARNING:dowhy.causal_model:There are an additional 4 variables in the dataset that are not in the graph. Variable names are: '['capital_gain', 'capital_loss', 'fnlwgt', 'propensity_score']'\n"
          ]
        },
        {
          "output_type": "stream",
          "name": "stdout",
          "text": [
            "Adjustment set for race -> occupation: ['native_country', 'sex']\n",
            "Error using propensity score matching for race -> occupation: Propensity score methods are applicable only for binary treatments\n",
            "Adjustment set for race -> work_class: ['native_country', 'sex']\n",
            "Error using propensity score matching for race -> work_class: Propensity score methods are applicable only for binary treatments\n"
          ]
        },
        {
          "output_type": "stream",
          "name": "stderr",
          "text": [
            "/usr/local/lib/python3.10/dist-packages/dowhy/causal_estimator.py:236: FutureWarning: The default of observed=False is deprecated and will be changed to True in a future version of pandas. Pass observed=False to retain current behavior or observed=True to adopt the future default and silence this warning.\n",
            "  by_effect_mods = data.groupby(effect_modifier_names)\n",
            "/usr/local/lib/python3.10/dist-packages/dowhy/causal_estimators/regression_estimator.py:179: FutureWarning: Series.__getitem__ treating keys as positions is deprecated. In a future version, integer keys will always be treated as labels (consistent with DataFrame behavior). To access a value by position, use `ser.iloc[pos]`\n",
            "  intercept_parameter = self.model.params[0]\n",
            "/usr/local/lib/python3.10/dist-packages/dowhy/causal_estimators/regression_estimator.py:179: FutureWarning: Series.__getitem__ treating keys as positions is deprecated. In a future version, integer keys will always be treated as labels (consistent with DataFrame behavior). To access a value by position, use `ser.iloc[pos]`\n",
            "  intercept_parameter = self.model.params[0]\n",
            "/usr/local/lib/python3.10/dist-packages/dowhy/causal_estimators/regression_estimator.py:179: FutureWarning: Series.__getitem__ treating keys as positions is deprecated. In a future version, integer keys will always be treated as labels (consistent with DataFrame behavior). To access a value by position, use `ser.iloc[pos]`\n",
            "  intercept_parameter = self.model.params[0]\n",
            "/usr/local/lib/python3.10/dist-packages/dowhy/causal_estimators/regression_estimator.py:179: FutureWarning: Series.__getitem__ treating keys as positions is deprecated. In a future version, integer keys will always be treated as labels (consistent with DataFrame behavior). To access a value by position, use `ser.iloc[pos]`\n",
            "  intercept_parameter = self.model.params[0]\n",
            "/usr/local/lib/python3.10/dist-packages/dowhy/causal_estimators/regression_estimator.py:179: FutureWarning: Series.__getitem__ treating keys as positions is deprecated. In a future version, integer keys will always be treated as labels (consistent with DataFrame behavior). To access a value by position, use `ser.iloc[pos]`\n",
            "  intercept_parameter = self.model.params[0]\n",
            "/usr/local/lib/python3.10/dist-packages/dowhy/causal_estimators/regression_estimator.py:179: FutureWarning: Series.__getitem__ treating keys as positions is deprecated. In a future version, integer keys will always be treated as labels (consistent with DataFrame behavior). To access a value by position, use `ser.iloc[pos]`\n",
            "  intercept_parameter = self.model.params[0]\n",
            "/usr/local/lib/python3.10/dist-packages/dowhy/causal_estimators/regression_estimator.py:179: FutureWarning: Series.__getitem__ treating keys as positions is deprecated. In a future version, integer keys will always be treated as labels (consistent with DataFrame behavior). To access a value by position, use `ser.iloc[pos]`\n",
            "  intercept_parameter = self.model.params[0]\n",
            "/usr/local/lib/python3.10/dist-packages/dowhy/causal_estimators/regression_estimator.py:179: FutureWarning: Series.__getitem__ treating keys as positions is deprecated. In a future version, integer keys will always be treated as labels (consistent with DataFrame behavior). To access a value by position, use `ser.iloc[pos]`\n",
            "  intercept_parameter = self.model.params[0]\n",
            "/usr/local/lib/python3.10/dist-packages/dowhy/causal_estimators/regression_estimator.py:179: FutureWarning: Series.__getitem__ treating keys as positions is deprecated. In a future version, integer keys will always be treated as labels (consistent with DataFrame behavior). To access a value by position, use `ser.iloc[pos]`\n",
            "  intercept_parameter = self.model.params[0]\n",
            "/usr/local/lib/python3.10/dist-packages/dowhy/causal_estimators/regression_estimator.py:179: FutureWarning: Series.__getitem__ treating keys as positions is deprecated. In a future version, integer keys will always be treated as labels (consistent with DataFrame behavior). To access a value by position, use `ser.iloc[pos]`\n",
            "  intercept_parameter = self.model.params[0]\n",
            "ERROR:dowhy.causal_graph:Error: Pygraphviz cannot be loaded. No module named 'pygraphviz'\n",
            "Trying pydot ...\n",
            "WARNING:dowhy.causal_model:There are an additional 4 variables in the dataset that are not in the graph. Variable names are: '['capital_gain', 'capital_loss', 'fnlwgt', 'propensity_score']'\n"
          ]
        },
        {
          "output_type": "stream",
          "name": "stdout",
          "text": [
            "Adjustment set for sex -> education_num: []\n",
            "Estimated causal effect (Linear Regression) of sex on education_num: 0.05757917414377367\n",
            "Adjustment set for sex -> hours_per_week: []\n"
          ]
        },
        {
          "output_type": "stream",
          "name": "stderr",
          "text": [
            "/usr/local/lib/python3.10/dist-packages/dowhy/causal_estimator.py:236: FutureWarning: The default of observed=False is deprecated and will be changed to True in a future version of pandas. Pass observed=False to retain current behavior or observed=True to adopt the future default and silence this warning.\n",
            "  by_effect_mods = data.groupby(effect_modifier_names)\n",
            "/usr/local/lib/python3.10/dist-packages/dowhy/causal_estimators/regression_estimator.py:179: FutureWarning: Series.__getitem__ treating keys as positions is deprecated. In a future version, integer keys will always be treated as labels (consistent with DataFrame behavior). To access a value by position, use `ser.iloc[pos]`\n",
            "  intercept_parameter = self.model.params[0]\n",
            "/usr/local/lib/python3.10/dist-packages/dowhy/causal_estimators/regression_estimator.py:179: FutureWarning: Series.__getitem__ treating keys as positions is deprecated. In a future version, integer keys will always be treated as labels (consistent with DataFrame behavior). To access a value by position, use `ser.iloc[pos]`\n",
            "  intercept_parameter = self.model.params[0]\n",
            "/usr/local/lib/python3.10/dist-packages/dowhy/causal_estimators/regression_estimator.py:179: FutureWarning: Series.__getitem__ treating keys as positions is deprecated. In a future version, integer keys will always be treated as labels (consistent with DataFrame behavior). To access a value by position, use `ser.iloc[pos]`\n",
            "  intercept_parameter = self.model.params[0]\n",
            "/usr/local/lib/python3.10/dist-packages/dowhy/causal_estimators/regression_estimator.py:179: FutureWarning: Series.__getitem__ treating keys as positions is deprecated. In a future version, integer keys will always be treated as labels (consistent with DataFrame behavior). To access a value by position, use `ser.iloc[pos]`\n",
            "  intercept_parameter = self.model.params[0]\n",
            "/usr/local/lib/python3.10/dist-packages/dowhy/causal_estimators/regression_estimator.py:179: FutureWarning: Series.__getitem__ treating keys as positions is deprecated. In a future version, integer keys will always be treated as labels (consistent with DataFrame behavior). To access a value by position, use `ser.iloc[pos]`\n",
            "  intercept_parameter = self.model.params[0]\n",
            "/usr/local/lib/python3.10/dist-packages/dowhy/causal_estimators/regression_estimator.py:179: FutureWarning: Series.__getitem__ treating keys as positions is deprecated. In a future version, integer keys will always be treated as labels (consistent with DataFrame behavior). To access a value by position, use `ser.iloc[pos]`\n",
            "  intercept_parameter = self.model.params[0]\n",
            "/usr/local/lib/python3.10/dist-packages/dowhy/causal_estimators/regression_estimator.py:179: FutureWarning: Series.__getitem__ treating keys as positions is deprecated. In a future version, integer keys will always be treated as labels (consistent with DataFrame behavior). To access a value by position, use `ser.iloc[pos]`\n",
            "  intercept_parameter = self.model.params[0]\n",
            "/usr/local/lib/python3.10/dist-packages/dowhy/causal_estimators/regression_estimator.py:179: FutureWarning: Series.__getitem__ treating keys as positions is deprecated. In a future version, integer keys will always be treated as labels (consistent with DataFrame behavior). To access a value by position, use `ser.iloc[pos]`\n",
            "  intercept_parameter = self.model.params[0]\n",
            "/usr/local/lib/python3.10/dist-packages/dowhy/causal_estimators/regression_estimator.py:179: FutureWarning: Series.__getitem__ treating keys as positions is deprecated. In a future version, integer keys will always be treated as labels (consistent with DataFrame behavior). To access a value by position, use `ser.iloc[pos]`\n",
            "  intercept_parameter = self.model.params[0]\n",
            "/usr/local/lib/python3.10/dist-packages/dowhy/causal_estimators/regression_estimator.py:179: FutureWarning: Series.__getitem__ treating keys as positions is deprecated. In a future version, integer keys will always be treated as labels (consistent with DataFrame behavior). To access a value by position, use `ser.iloc[pos]`\n",
            "  intercept_parameter = self.model.params[0]\n",
            "ERROR:dowhy.causal_graph:Error: Pygraphviz cannot be loaded. No module named 'pygraphviz'\n",
            "Trying pydot ...\n",
            "WARNING:dowhy.causal_model:There are an additional 4 variables in the dataset that are not in the graph. Variable names are: '['capital_gain', 'capital_loss', 'fnlwgt', 'propensity_score']'\n"
          ]
        },
        {
          "output_type": "stream",
          "name": "stdout",
          "text": [
            "Estimated causal effect (Linear Regression) of sex on hours_per_week: 5.992013017070285\n",
            "Adjustment set for sex -> income: []\n"
          ]
        },
        {
          "output_type": "stream",
          "name": "stderr",
          "text": [
            "/usr/local/lib/python3.10/dist-packages/dowhy/causal_estimator.py:236: FutureWarning: The default of observed=False is deprecated and will be changed to True in a future version of pandas. Pass observed=False to retain current behavior or observed=True to adopt the future default and silence this warning.\n",
            "  by_effect_mods = data.groupby(effect_modifier_names)\n",
            "/usr/local/lib/python3.10/dist-packages/dowhy/causal_estimators/regression_estimator.py:179: FutureWarning: Series.__getitem__ treating keys as positions is deprecated. In a future version, integer keys will always be treated as labels (consistent with DataFrame behavior). To access a value by position, use `ser.iloc[pos]`\n",
            "  intercept_parameter = self.model.params[0]\n",
            "/usr/local/lib/python3.10/dist-packages/dowhy/causal_estimators/regression_estimator.py:179: FutureWarning: Series.__getitem__ treating keys as positions is deprecated. In a future version, integer keys will always be treated as labels (consistent with DataFrame behavior). To access a value by position, use `ser.iloc[pos]`\n",
            "  intercept_parameter = self.model.params[0]\n",
            "/usr/local/lib/python3.10/dist-packages/dowhy/causal_estimators/regression_estimator.py:179: FutureWarning: Series.__getitem__ treating keys as positions is deprecated. In a future version, integer keys will always be treated as labels (consistent with DataFrame behavior). To access a value by position, use `ser.iloc[pos]`\n",
            "  intercept_parameter = self.model.params[0]\n",
            "/usr/local/lib/python3.10/dist-packages/dowhy/causal_estimators/regression_estimator.py:179: FutureWarning: Series.__getitem__ treating keys as positions is deprecated. In a future version, integer keys will always be treated as labels (consistent with DataFrame behavior). To access a value by position, use `ser.iloc[pos]`\n",
            "  intercept_parameter = self.model.params[0]\n",
            "/usr/local/lib/python3.10/dist-packages/dowhy/causal_estimators/regression_estimator.py:179: FutureWarning: Series.__getitem__ treating keys as positions is deprecated. In a future version, integer keys will always be treated as labels (consistent with DataFrame behavior). To access a value by position, use `ser.iloc[pos]`\n",
            "  intercept_parameter = self.model.params[0]\n",
            "/usr/local/lib/python3.10/dist-packages/dowhy/causal_estimators/regression_estimator.py:179: FutureWarning: Series.__getitem__ treating keys as positions is deprecated. In a future version, integer keys will always be treated as labels (consistent with DataFrame behavior). To access a value by position, use `ser.iloc[pos]`\n",
            "  intercept_parameter = self.model.params[0]\n",
            "/usr/local/lib/python3.10/dist-packages/dowhy/causal_estimators/regression_estimator.py:179: FutureWarning: Series.__getitem__ treating keys as positions is deprecated. In a future version, integer keys will always be treated as labels (consistent with DataFrame behavior). To access a value by position, use `ser.iloc[pos]`\n",
            "  intercept_parameter = self.model.params[0]\n",
            "/usr/local/lib/python3.10/dist-packages/dowhy/causal_estimators/regression_estimator.py:179: FutureWarning: Series.__getitem__ treating keys as positions is deprecated. In a future version, integer keys will always be treated as labels (consistent with DataFrame behavior). To access a value by position, use `ser.iloc[pos]`\n",
            "  intercept_parameter = self.model.params[0]\n",
            "/usr/local/lib/python3.10/dist-packages/dowhy/causal_estimators/regression_estimator.py:179: FutureWarning: Series.__getitem__ treating keys as positions is deprecated. In a future version, integer keys will always be treated as labels (consistent with DataFrame behavior). To access a value by position, use `ser.iloc[pos]`\n",
            "  intercept_parameter = self.model.params[0]\n",
            "/usr/local/lib/python3.10/dist-packages/dowhy/causal_estimators/regression_estimator.py:179: FutureWarning: Series.__getitem__ treating keys as positions is deprecated. In a future version, integer keys will always be treated as labels (consistent with DataFrame behavior). To access a value by position, use `ser.iloc[pos]`\n",
            "  intercept_parameter = self.model.params[0]\n",
            "ERROR:dowhy.causal_graph:Error: Pygraphviz cannot be loaded. No module named 'pygraphviz'\n",
            "Trying pydot ...\n",
            "WARNING:dowhy.causal_model:There are an additional 4 variables in the dataset that are not in the graph. Variable names are: '['capital_gain', 'capital_loss', 'fnlwgt', 'propensity_score']'\n",
            "/usr/local/lib/python3.10/dist-packages/dowhy/causal_estimator.py:236: FutureWarning: The default of observed=False is deprecated and will be changed to True in a future version of pandas. Pass observed=False to retain current behavior or observed=True to adopt the future default and silence this warning.\n",
            "  by_effect_mods = data.groupby(effect_modifier_names)\n"
          ]
        },
        {
          "output_type": "stream",
          "name": "stdout",
          "text": [
            "Estimated causal effect (Linear Regression) of sex on income: 0.1887684231070248\n",
            "Adjustment set for sex -> marital_status: []\n"
          ]
        },
        {
          "output_type": "stream",
          "name": "stderr",
          "text": [
            "/usr/local/lib/python3.10/dist-packages/dowhy/causal_estimators/regression_estimator.py:179: FutureWarning: Series.__getitem__ treating keys as positions is deprecated. In a future version, integer keys will always be treated as labels (consistent with DataFrame behavior). To access a value by position, use `ser.iloc[pos]`\n",
            "  intercept_parameter = self.model.params[0]\n",
            "/usr/local/lib/python3.10/dist-packages/dowhy/causal_estimators/regression_estimator.py:179: FutureWarning: Series.__getitem__ treating keys as positions is deprecated. In a future version, integer keys will always be treated as labels (consistent with DataFrame behavior). To access a value by position, use `ser.iloc[pos]`\n",
            "  intercept_parameter = self.model.params[0]\n",
            "/usr/local/lib/python3.10/dist-packages/dowhy/causal_estimators/regression_estimator.py:179: FutureWarning: Series.__getitem__ treating keys as positions is deprecated. In a future version, integer keys will always be treated as labels (consistent with DataFrame behavior). To access a value by position, use `ser.iloc[pos]`\n",
            "  intercept_parameter = self.model.params[0]\n",
            "/usr/local/lib/python3.10/dist-packages/dowhy/causal_estimators/regression_estimator.py:179: FutureWarning: Series.__getitem__ treating keys as positions is deprecated. In a future version, integer keys will always be treated as labels (consistent with DataFrame behavior). To access a value by position, use `ser.iloc[pos]`\n",
            "  intercept_parameter = self.model.params[0]\n",
            "/usr/local/lib/python3.10/dist-packages/dowhy/causal_estimators/regression_estimator.py:179: FutureWarning: Series.__getitem__ treating keys as positions is deprecated. In a future version, integer keys will always be treated as labels (consistent with DataFrame behavior). To access a value by position, use `ser.iloc[pos]`\n",
            "  intercept_parameter = self.model.params[0]\n",
            "/usr/local/lib/python3.10/dist-packages/dowhy/causal_estimators/regression_estimator.py:179: FutureWarning: Series.__getitem__ treating keys as positions is deprecated. In a future version, integer keys will always be treated as labels (consistent with DataFrame behavior). To access a value by position, use `ser.iloc[pos]`\n",
            "  intercept_parameter = self.model.params[0]\n",
            "/usr/local/lib/python3.10/dist-packages/dowhy/causal_estimators/regression_estimator.py:179: FutureWarning: Series.__getitem__ treating keys as positions is deprecated. In a future version, integer keys will always be treated as labels (consistent with DataFrame behavior). To access a value by position, use `ser.iloc[pos]`\n",
            "  intercept_parameter = self.model.params[0]\n",
            "/usr/local/lib/python3.10/dist-packages/dowhy/causal_estimators/regression_estimator.py:179: FutureWarning: Series.__getitem__ treating keys as positions is deprecated. In a future version, integer keys will always be treated as labels (consistent with DataFrame behavior). To access a value by position, use `ser.iloc[pos]`\n",
            "  intercept_parameter = self.model.params[0]\n",
            "/usr/local/lib/python3.10/dist-packages/dowhy/causal_estimators/regression_estimator.py:179: FutureWarning: Series.__getitem__ treating keys as positions is deprecated. In a future version, integer keys will always be treated as labels (consistent with DataFrame behavior). To access a value by position, use `ser.iloc[pos]`\n",
            "  intercept_parameter = self.model.params[0]\n",
            "/usr/local/lib/python3.10/dist-packages/dowhy/causal_estimators/regression_estimator.py:179: FutureWarning: Series.__getitem__ treating keys as positions is deprecated. In a future version, integer keys will always be treated as labels (consistent with DataFrame behavior). To access a value by position, use `ser.iloc[pos]`\n",
            "  intercept_parameter = self.model.params[0]\n",
            "ERROR:dowhy.causal_graph:Error: Pygraphviz cannot be loaded. No module named 'pygraphviz'\n",
            "Trying pydot ...\n",
            "WARNING:dowhy.causal_model:There are an additional 4 variables in the dataset that are not in the graph. Variable names are: '['capital_gain', 'capital_loss', 'fnlwgt', 'propensity_score']'\n"
          ]
        },
        {
          "output_type": "stream",
          "name": "stdout",
          "text": [
            "Estimated causal effect (Linear Regression) of sex on marital_status: -0.38577437193680364\n",
            "Adjustment set for sex -> occupation: []\n"
          ]
        },
        {
          "output_type": "stream",
          "name": "stderr",
          "text": [
            "/usr/local/lib/python3.10/dist-packages/dowhy/causal_estimator.py:236: FutureWarning: The default of observed=False is deprecated and will be changed to True in a future version of pandas. Pass observed=False to retain current behavior or observed=True to adopt the future default and silence this warning.\n",
            "  by_effect_mods = data.groupby(effect_modifier_names)\n",
            "/usr/local/lib/python3.10/dist-packages/dowhy/causal_estimators/regression_estimator.py:179: FutureWarning: Series.__getitem__ treating keys as positions is deprecated. In a future version, integer keys will always be treated as labels (consistent with DataFrame behavior). To access a value by position, use `ser.iloc[pos]`\n",
            "  intercept_parameter = self.model.params[0]\n",
            "/usr/local/lib/python3.10/dist-packages/dowhy/causal_estimators/regression_estimator.py:179: FutureWarning: Series.__getitem__ treating keys as positions is deprecated. In a future version, integer keys will always be treated as labels (consistent with DataFrame behavior). To access a value by position, use `ser.iloc[pos]`\n",
            "  intercept_parameter = self.model.params[0]\n",
            "/usr/local/lib/python3.10/dist-packages/dowhy/causal_estimators/regression_estimator.py:179: FutureWarning: Series.__getitem__ treating keys as positions is deprecated. In a future version, integer keys will always be treated as labels (consistent with DataFrame behavior). To access a value by position, use `ser.iloc[pos]`\n",
            "  intercept_parameter = self.model.params[0]\n",
            "/usr/local/lib/python3.10/dist-packages/dowhy/causal_estimators/regression_estimator.py:179: FutureWarning: Series.__getitem__ treating keys as positions is deprecated. In a future version, integer keys will always be treated as labels (consistent with DataFrame behavior). To access a value by position, use `ser.iloc[pos]`\n",
            "  intercept_parameter = self.model.params[0]\n",
            "/usr/local/lib/python3.10/dist-packages/dowhy/causal_estimators/regression_estimator.py:179: FutureWarning: Series.__getitem__ treating keys as positions is deprecated. In a future version, integer keys will always be treated as labels (consistent with DataFrame behavior). To access a value by position, use `ser.iloc[pos]`\n",
            "  intercept_parameter = self.model.params[0]\n",
            "/usr/local/lib/python3.10/dist-packages/dowhy/causal_estimators/regression_estimator.py:179: FutureWarning: Series.__getitem__ treating keys as positions is deprecated. In a future version, integer keys will always be treated as labels (consistent with DataFrame behavior). To access a value by position, use `ser.iloc[pos]`\n",
            "  intercept_parameter = self.model.params[0]\n",
            "/usr/local/lib/python3.10/dist-packages/dowhy/causal_estimators/regression_estimator.py:179: FutureWarning: Series.__getitem__ treating keys as positions is deprecated. In a future version, integer keys will always be treated as labels (consistent with DataFrame behavior). To access a value by position, use `ser.iloc[pos]`\n",
            "  intercept_parameter = self.model.params[0]\n",
            "/usr/local/lib/python3.10/dist-packages/dowhy/causal_estimators/regression_estimator.py:179: FutureWarning: Series.__getitem__ treating keys as positions is deprecated. In a future version, integer keys will always be treated as labels (consistent with DataFrame behavior). To access a value by position, use `ser.iloc[pos]`\n",
            "  intercept_parameter = self.model.params[0]\n",
            "/usr/local/lib/python3.10/dist-packages/dowhy/causal_estimators/regression_estimator.py:179: FutureWarning: Series.__getitem__ treating keys as positions is deprecated. In a future version, integer keys will always be treated as labels (consistent with DataFrame behavior). To access a value by position, use `ser.iloc[pos]`\n",
            "  intercept_parameter = self.model.params[0]\n",
            "/usr/local/lib/python3.10/dist-packages/dowhy/causal_estimators/regression_estimator.py:179: FutureWarning: Series.__getitem__ treating keys as positions is deprecated. In a future version, integer keys will always be treated as labels (consistent with DataFrame behavior). To access a value by position, use `ser.iloc[pos]`\n",
            "  intercept_parameter = self.model.params[0]\n",
            "ERROR:dowhy.causal_graph:Error: Pygraphviz cannot be loaded. No module named 'pygraphviz'\n",
            "Trying pydot ...\n",
            "WARNING:dowhy.causal_model:There are an additional 4 variables in the dataset that are not in the graph. Variable names are: '['capital_gain', 'capital_loss', 'fnlwgt', 'propensity_score']'\n",
            "/usr/local/lib/python3.10/dist-packages/dowhy/causal_estimator.py:236: FutureWarning: The default of observed=False is deprecated and will be changed to True in a future version of pandas. Pass observed=False to retain current behavior or observed=True to adopt the future default and silence this warning.\n",
            "  by_effect_mods = data.groupby(effect_modifier_names)\n"
          ]
        },
        {
          "output_type": "stream",
          "name": "stdout",
          "text": [
            "Estimated causal effect (Linear Regression) of sex on occupation: 0.7268479209014531\n",
            "Adjustment set for sex -> race: []\n"
          ]
        },
        {
          "output_type": "stream",
          "name": "stderr",
          "text": [
            "/usr/local/lib/python3.10/dist-packages/dowhy/causal_estimators/regression_estimator.py:179: FutureWarning: Series.__getitem__ treating keys as positions is deprecated. In a future version, integer keys will always be treated as labels (consistent with DataFrame behavior). To access a value by position, use `ser.iloc[pos]`\n",
            "  intercept_parameter = self.model.params[0]\n",
            "/usr/local/lib/python3.10/dist-packages/dowhy/causal_estimators/regression_estimator.py:179: FutureWarning: Series.__getitem__ treating keys as positions is deprecated. In a future version, integer keys will always be treated as labels (consistent with DataFrame behavior). To access a value by position, use `ser.iloc[pos]`\n",
            "  intercept_parameter = self.model.params[0]\n",
            "ERROR:dowhy.causal_graph:Error: Pygraphviz cannot be loaded. No module named 'pygraphviz'\n",
            "Trying pydot ...\n",
            "WARNING:dowhy.causal_model:There are an additional 4 variables in the dataset that are not in the graph. Variable names are: '['capital_gain', 'capital_loss', 'fnlwgt', 'propensity_score']'\n"
          ]
        },
        {
          "output_type": "stream",
          "name": "stdout",
          "text": [
            "Estimated causal effect (Linear Regression) of sex on race: 0.1580853075602744\n",
            "Adjustment set for sex -> relationship: []\n"
          ]
        },
        {
          "output_type": "stream",
          "name": "stderr",
          "text": [
            "/usr/local/lib/python3.10/dist-packages/dowhy/causal_estimator.py:236: FutureWarning: The default of observed=False is deprecated and will be changed to True in a future version of pandas. Pass observed=False to retain current behavior or observed=True to adopt the future default and silence this warning.\n",
            "  by_effect_mods = data.groupby(effect_modifier_names)\n",
            "/usr/local/lib/python3.10/dist-packages/dowhy/causal_estimators/regression_estimator.py:179: FutureWarning: Series.__getitem__ treating keys as positions is deprecated. In a future version, integer keys will always be treated as labels (consistent with DataFrame behavior). To access a value by position, use `ser.iloc[pos]`\n",
            "  intercept_parameter = self.model.params[0]\n",
            "/usr/local/lib/python3.10/dist-packages/dowhy/causal_estimators/regression_estimator.py:179: FutureWarning: Series.__getitem__ treating keys as positions is deprecated. In a future version, integer keys will always be treated as labels (consistent with DataFrame behavior). To access a value by position, use `ser.iloc[pos]`\n",
            "  intercept_parameter = self.model.params[0]\n",
            "/usr/local/lib/python3.10/dist-packages/dowhy/causal_estimators/regression_estimator.py:179: FutureWarning: Series.__getitem__ treating keys as positions is deprecated. In a future version, integer keys will always be treated as labels (consistent with DataFrame behavior). To access a value by position, use `ser.iloc[pos]`\n",
            "  intercept_parameter = self.model.params[0]\n",
            "/usr/local/lib/python3.10/dist-packages/dowhy/causal_estimators/regression_estimator.py:179: FutureWarning: Series.__getitem__ treating keys as positions is deprecated. In a future version, integer keys will always be treated as labels (consistent with DataFrame behavior). To access a value by position, use `ser.iloc[pos]`\n",
            "  intercept_parameter = self.model.params[0]\n",
            "/usr/local/lib/python3.10/dist-packages/dowhy/causal_estimators/regression_estimator.py:179: FutureWarning: Series.__getitem__ treating keys as positions is deprecated. In a future version, integer keys will always be treated as labels (consistent with DataFrame behavior). To access a value by position, use `ser.iloc[pos]`\n",
            "  intercept_parameter = self.model.params[0]\n",
            "/usr/local/lib/python3.10/dist-packages/dowhy/causal_estimators/regression_estimator.py:179: FutureWarning: Series.__getitem__ treating keys as positions is deprecated. In a future version, integer keys will always be treated as labels (consistent with DataFrame behavior). To access a value by position, use `ser.iloc[pos]`\n",
            "  intercept_parameter = self.model.params[0]\n",
            "/usr/local/lib/python3.10/dist-packages/dowhy/causal_estimators/regression_estimator.py:179: FutureWarning: Series.__getitem__ treating keys as positions is deprecated. In a future version, integer keys will always be treated as labels (consistent with DataFrame behavior). To access a value by position, use `ser.iloc[pos]`\n",
            "  intercept_parameter = self.model.params[0]\n",
            "/usr/local/lib/python3.10/dist-packages/dowhy/causal_estimators/regression_estimator.py:179: FutureWarning: Series.__getitem__ treating keys as positions is deprecated. In a future version, integer keys will always be treated as labels (consistent with DataFrame behavior). To access a value by position, use `ser.iloc[pos]`\n",
            "  intercept_parameter = self.model.params[0]\n",
            "/usr/local/lib/python3.10/dist-packages/dowhy/causal_estimators/regression_estimator.py:179: FutureWarning: Series.__getitem__ treating keys as positions is deprecated. In a future version, integer keys will always be treated as labels (consistent with DataFrame behavior). To access a value by position, use `ser.iloc[pos]`\n",
            "  intercept_parameter = self.model.params[0]\n",
            "/usr/local/lib/python3.10/dist-packages/dowhy/causal_estimators/regression_estimator.py:179: FutureWarning: Series.__getitem__ treating keys as positions is deprecated. In a future version, integer keys will always be treated as labels (consistent with DataFrame behavior). To access a value by position, use `ser.iloc[pos]`\n",
            "  intercept_parameter = self.model.params[0]\n",
            "ERROR:dowhy.causal_graph:Error: Pygraphviz cannot be loaded. No module named 'pygraphviz'\n",
            "Trying pydot ...\n",
            "WARNING:dowhy.causal_model:There are an additional 4 variables in the dataset that are not in the graph. Variable names are: '['capital_gain', 'capital_loss', 'fnlwgt', 'propensity_score']'\n"
          ]
        },
        {
          "output_type": "stream",
          "name": "stdout",
          "text": [
            "Estimated causal effect (Linear Regression) of sex on relationship: -1.9572413800239459\n",
            "Adjustment set for sex -> work_class: []\n"
          ]
        },
        {
          "output_type": "stream",
          "name": "stderr",
          "text": [
            "/usr/local/lib/python3.10/dist-packages/dowhy/causal_estimator.py:236: FutureWarning: The default of observed=False is deprecated and will be changed to True in a future version of pandas. Pass observed=False to retain current behavior or observed=True to adopt the future default and silence this warning.\n",
            "  by_effect_mods = data.groupby(effect_modifier_names)\n",
            "/usr/local/lib/python3.10/dist-packages/dowhy/causal_estimators/regression_estimator.py:179: FutureWarning: Series.__getitem__ treating keys as positions is deprecated. In a future version, integer keys will always be treated as labels (consistent with DataFrame behavior). To access a value by position, use `ser.iloc[pos]`\n",
            "  intercept_parameter = self.model.params[0]\n",
            "/usr/local/lib/python3.10/dist-packages/dowhy/causal_estimators/regression_estimator.py:179: FutureWarning: Series.__getitem__ treating keys as positions is deprecated. In a future version, integer keys will always be treated as labels (consistent with DataFrame behavior). To access a value by position, use `ser.iloc[pos]`\n",
            "  intercept_parameter = self.model.params[0]\n",
            "/usr/local/lib/python3.10/dist-packages/dowhy/causal_estimators/regression_estimator.py:179: FutureWarning: Series.__getitem__ treating keys as positions is deprecated. In a future version, integer keys will always be treated as labels (consistent with DataFrame behavior). To access a value by position, use `ser.iloc[pos]`\n",
            "  intercept_parameter = self.model.params[0]\n",
            "/usr/local/lib/python3.10/dist-packages/dowhy/causal_estimators/regression_estimator.py:179: FutureWarning: Series.__getitem__ treating keys as positions is deprecated. In a future version, integer keys will always be treated as labels (consistent with DataFrame behavior). To access a value by position, use `ser.iloc[pos]`\n",
            "  intercept_parameter = self.model.params[0]\n",
            "/usr/local/lib/python3.10/dist-packages/dowhy/causal_estimators/regression_estimator.py:179: FutureWarning: Series.__getitem__ treating keys as positions is deprecated. In a future version, integer keys will always be treated as labels (consistent with DataFrame behavior). To access a value by position, use `ser.iloc[pos]`\n",
            "  intercept_parameter = self.model.params[0]\n",
            "/usr/local/lib/python3.10/dist-packages/dowhy/causal_estimators/regression_estimator.py:179: FutureWarning: Series.__getitem__ treating keys as positions is deprecated. In a future version, integer keys will always be treated as labels (consistent with DataFrame behavior). To access a value by position, use `ser.iloc[pos]`\n",
            "  intercept_parameter = self.model.params[0]\n",
            "/usr/local/lib/python3.10/dist-packages/dowhy/causal_estimators/regression_estimator.py:179: FutureWarning: Series.__getitem__ treating keys as positions is deprecated. In a future version, integer keys will always be treated as labels (consistent with DataFrame behavior). To access a value by position, use `ser.iloc[pos]`\n",
            "  intercept_parameter = self.model.params[0]\n",
            "/usr/local/lib/python3.10/dist-packages/dowhy/causal_estimators/regression_estimator.py:179: FutureWarning: Series.__getitem__ treating keys as positions is deprecated. In a future version, integer keys will always be treated as labels (consistent with DataFrame behavior). To access a value by position, use `ser.iloc[pos]`\n",
            "  intercept_parameter = self.model.params[0]\n",
            "/usr/local/lib/python3.10/dist-packages/dowhy/causal_estimators/regression_estimator.py:179: FutureWarning: Series.__getitem__ treating keys as positions is deprecated. In a future version, integer keys will always be treated as labels (consistent with DataFrame behavior). To access a value by position, use `ser.iloc[pos]`\n",
            "  intercept_parameter = self.model.params[0]\n"
          ]
        },
        {
          "output_type": "stream",
          "name": "stdout",
          "text": [
            "Estimated causal effect (Linear Regression) of sex on work_class: 0.29698461844449664\n"
          ]
        },
        {
          "output_type": "stream",
          "name": "stderr",
          "text": [
            "/usr/local/lib/python3.10/dist-packages/dowhy/causal_estimators/regression_estimator.py:179: FutureWarning: Series.__getitem__ treating keys as positions is deprecated. In a future version, integer keys will always be treated as labels (consistent with DataFrame behavior). To access a value by position, use `ser.iloc[pos]`\n",
            "  intercept_parameter = self.model.params[0]\n"
          ]
        }
      ]
    },
    {
      "cell_type": "code",
      "source": [
        "# Compare the causal weights for both methods\n",
        "print(\"\\nCausal Weights (Linear Regression):\")\n",
        "for edge, weight in causal_weights_lr.items():\n",
        "    print(f\"{edge[0]} -> {edge[1]}: {weight}\")\n",
        "\n",
        "print(\"\\nCausal Weights (Propensity Score Matching):\")\n",
        "for edge, weight in causal_weights_psm.items():\n",
        "    print(f\"{edge[0]} -> {edge[1]}: {weight}\")"
      ],
      "metadata": {
        "id": "2SZ8hN26K9Dj",
        "colab": {
          "base_uri": "https://localhost:8080/"
        },
        "outputId": "12b15a48-2a40-4ea2-e2dd-840b6626764e"
      },
      "execution_count": 69,
      "outputs": [
        {
          "output_type": "stream",
          "name": "stdout",
          "text": [
            "\n",
            "Causal Weights (Linear Regression):\n",
            "age -> education_num: 0.006302788105866597\n",
            "age -> hours_per_week: 0.04905205059907303\n",
            "age -> income: 0.0068145024946321825\n",
            "age -> marital_status: -0.028291456567167028\n",
            "age -> occupation: -0.008197143921305106\n",
            "age -> relationship: -0.026191435808927466\n",
            "age -> work_class: -0.0004277844725746327\n",
            "education_num -> education: 0.5364528025830699\n",
            "education_num -> hours_per_week: 0.6486207736448364\n",
            "education_num -> income: 0.05292035373681139\n",
            "education_num -> occupation: 0.18204316722517255\n",
            "education_num -> work_class: 0.026958442280564654\n",
            "hours_per_week -> income: 0.004133400892905578\n",
            "hours_per_week -> relationship: -0.01446836788010053\n",
            "income -> education: -0.39485373735639584\n",
            "marital_status -> education_num: -0.10494935588027055\n",
            "marital_status -> hours_per_week: -1.3210140781020527\n",
            "marital_status -> income: -0.035215762710961496\n",
            "marital_status -> occupation: -0.02050221388465978\n",
            "marital_status -> work_class: -0.05454175411138573\n",
            "occupation -> education: -0.055509896983990004\n",
            "occupation -> income: 0.0029656109625412763\n",
            "work_class -> income: 0.001835394150512426\n",
            "native_country -> education: 0.03179288098016464\n",
            "native_country -> education_num: 0.016645667787273055\n",
            "native_country -> hours_per_week: -0.003854587873291848\n",
            "native_country -> income: 0.0008110042664236927\n",
            "native_country -> marital_status: -0.004293596475528627\n",
            "native_country -> occupation: -0.006553257527332157\n",
            "native_country -> race: 0.014981190831558244\n",
            "native_country -> work_class: -0.0013772800720075473\n",
            "race -> education_num: 0.07291844236405076\n",
            "race -> hours_per_week: 0.32454298837595985\n",
            "race -> income: 0.025403574047509397\n",
            "race -> marital_status: -0.09400337101219503\n",
            "race -> occupation: 0.008213011468086506\n",
            "race -> work_class: 0.07466729088208224\n",
            "sex -> education_num: 0.05757917414377367\n",
            "sex -> hours_per_week: 5.992013017070285\n",
            "sex -> income: 0.1887684231070248\n",
            "sex -> marital_status: -0.38577437193680364\n",
            "sex -> occupation: 0.7268479209014531\n",
            "sex -> race: 0.1580853075602744\n",
            "sex -> relationship: -1.9572413800239459\n",
            "sex -> work_class: 0.29698461844449664\n",
            "\n",
            "Causal Weights (Propensity Score Matching):\n",
            "age -> education_num: 0.006302788105866597\n",
            "age -> hours_per_week: 0.04905205059907303\n",
            "age -> income: 0.0068145024946321825\n",
            "age -> marital_status: -0.028291456567167028\n",
            "age -> occupation: -0.008197143921305106\n",
            "age -> relationship: -0.026191435808927466\n",
            "age -> work_class: -0.0004277844725746327\n",
            "education_num -> education: -0.0004277844725746327\n",
            "education_num -> hours_per_week: -0.0004277844725746327\n",
            "education_num -> income: -0.0004277844725746327\n",
            "education_num -> occupation: -0.0004277844725746327\n",
            "education_num -> work_class: -0.0004277844725746327\n",
            "hours_per_week -> income: -0.0004277844725746327\n",
            "hours_per_week -> relationship: -0.0004277844725746327\n",
            "income -> education: -0.025429194435060348\n",
            "marital_status -> education_num: -0.025429194435060348\n",
            "marital_status -> hours_per_week: -0.025429194435060348\n",
            "marital_status -> income: -0.025429194435060348\n",
            "marital_status -> occupation: -0.025429194435060348\n",
            "marital_status -> work_class: -0.025429194435060348\n",
            "occupation -> education: -0.025429194435060348\n",
            "occupation -> income: -0.025429194435060348\n",
            "work_class -> income: -0.025429194435060348\n",
            "native_country -> education: 0.03179288098016464\n",
            "native_country -> education_num: 0.016645667787273055\n",
            "native_country -> hours_per_week: -0.003854587873291848\n",
            "native_country -> income: 0.0008110042664236927\n",
            "native_country -> marital_status: -0.004293596475528627\n",
            "native_country -> occupation: -0.006553257527332157\n",
            "native_country -> race: 0.014981190831558244\n",
            "native_country -> work_class: -0.0013772800720075473\n",
            "race -> education_num: -0.0013772800720075473\n",
            "race -> hours_per_week: -0.0013772800720075473\n",
            "race -> income: -0.0013772800720075473\n",
            "race -> marital_status: -0.0013772800720075473\n",
            "race -> occupation: -0.0013772800720075473\n",
            "race -> work_class: -0.0013772800720075473\n",
            "sex -> education_num: 0.05757917414377367\n",
            "sex -> hours_per_week: 5.992013017070285\n",
            "sex -> income: 0.1887684231070248\n",
            "sex -> marital_status: -0.38577437193680364\n",
            "sex -> occupation: 0.7268479209014531\n",
            "sex -> race: 0.1580853075602744\n",
            "sex -> relationship: -1.9572413800239459\n",
            "sex -> work_class: 0.29698461844449664\n"
          ]
        }
      ]
    }
  ]
}